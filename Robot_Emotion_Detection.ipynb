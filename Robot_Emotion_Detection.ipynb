{
 "cells": [
  {
   "cell_type": "markdown",
   "metadata": {
    "id": "OnQM4BkqT7Jf"
   },
   "source": [
    "## Robot Emotion Classification using Machine Learning models in Tele-Operated Robots"
   ]
  },
  {
   "cell_type": "markdown",
   "metadata": {
    "id": "pWd8x-tMUFDc"
   },
   "source": [
    "Name: Bhuvaneshwari Ramakrishnan\n",
    "\n",
    "GUID: 2647486R"
   ]
  },
  {
   "cell_type": "markdown",
   "metadata": {
    "id": "ythGk29FUjhq"
   },
   "source": [
    "This project explores the possibility of tele-operated robots mimicking human emotions when handled remotely. 4 different machine learning models are created for the same - KNN, SVM, Random Forest, MLP"
   ]
  },
  {
   "cell_type": "markdown",
   "metadata": {
    "id": "jL5Hj4HPV707"
   },
   "source": [
    "Importing the necessary libraries"
   ]
  },
  {
   "cell_type": "code",
   "execution_count": 2,
   "metadata": {
    "id": "1DEw-rgeKnXe"
   },
   "outputs": [],
   "source": [
    "import numpy as np\n",
    "import csv\n",
    "import matplotlib\n",
    "import matplotlib.pyplot as plt\n",
    "import torch\n",
    "import pandas as pd\n",
    "import math\n",
    "\n",
    "\n",
    "use_cuda = True\n",
    "device = torch.device(\"cuda\" if (use_cuda and torch.cuda.is_available()) else \"cpu\")"
   ]
  },
  {
   "cell_type": "markdown",
   "metadata": {
    "id": "TfQEYZJZvyf9"
   },
   "source": [
    "### Data Pre-Processing"
   ]
  },
  {
   "cell_type": "markdown",
   "metadata": {
    "id": "NQGHJuRewlQI"
   },
   "source": [
    "Before training the model with the data gathered, the data needs to be segmented according to the task - i.e, writing \"8\". \n",
    "\n",
    "This is necessary because, the participants who handled the robot are not trained to work in that scenario and hence there were some instances where there were unnecessary jerks and movement which was not related to the specified task."
   ]
  },
  {
   "cell_type": "markdown",
   "metadata": {
    "id": "DNiMtEx2xZ-_"
   },
   "source": [
    "Reading the files to be segmented"
   ]
  },
  {
   "cell_type": "code",
   "execution_count": 4,
   "metadata": {
    "colab": {
     "base_uri": "https://localhost:8080/",
     "height": 300
    },
    "id": "xQZZsTAWxBod",
    "outputId": "4ee04e3a-ce05-41d7-bcf5-234c76ae355b"
   },
   "outputs": [
    {
     "data": {
      "text/html": [
       "\n",
       "  <div id=\"df-9f23f42a-481f-43dd-ab98-df0d4030f126\">\n",
       "    <div class=\"colab-df-container\">\n",
       "      <div>\n",
       "<style scoped>\n",
       "    .dataframe tbody tr th:only-of-type {\n",
       "        vertical-align: middle;\n",
       "    }\n",
       "\n",
       "    .dataframe tbody tr th {\n",
       "        vertical-align: top;\n",
       "    }\n",
       "\n",
       "    .dataframe thead th {\n",
       "        text-align: right;\n",
       "    }\n",
       "</style>\n",
       "<table border=\"1\" class=\"dataframe\">\n",
       "  <thead>\n",
       "    <tr style=\"text-align: right;\">\n",
       "      <th></th>\n",
       "      <th>time</th>\n",
       "      <th>x</th>\n",
       "      <th>y</th>\n",
       "      <th>z</th>\n",
       "      <th>qx</th>\n",
       "      <th>qy</th>\n",
       "      <th>qz</th>\n",
       "      <th>qw</th>\n",
       "    </tr>\n",
       "  </thead>\n",
       "  <tbody>\n",
       "    <tr>\n",
       "      <th>count</th>\n",
       "      <td>1.004000e+04</td>\n",
       "      <td>10040.000000</td>\n",
       "      <td>10040.000000</td>\n",
       "      <td>10040.000000</td>\n",
       "      <td>10040.000000</td>\n",
       "      <td>10040.000000</td>\n",
       "      <td>10040.000000</td>\n",
       "      <td>10040.000000</td>\n",
       "    </tr>\n",
       "    <tr>\n",
       "      <th>mean</th>\n",
       "      <td>1.658334e+09</td>\n",
       "      <td>0.450796</td>\n",
       "      <td>0.201399</td>\n",
       "      <td>0.434312</td>\n",
       "      <td>0.484131</td>\n",
       "      <td>0.497970</td>\n",
       "      <td>0.539868</td>\n",
       "      <td>0.474881</td>\n",
       "    </tr>\n",
       "    <tr>\n",
       "      <th>std</th>\n",
       "      <td>2.898443e+01</td>\n",
       "      <td>0.028243</td>\n",
       "      <td>0.073196</td>\n",
       "      <td>0.095478</td>\n",
       "      <td>0.014566</td>\n",
       "      <td>0.011219</td>\n",
       "      <td>0.012421</td>\n",
       "      <td>0.013467</td>\n",
       "    </tr>\n",
       "    <tr>\n",
       "      <th>min</th>\n",
       "      <td>1.658334e+09</td>\n",
       "      <td>0.387736</td>\n",
       "      <td>0.050019</td>\n",
       "      <td>0.275445</td>\n",
       "      <td>0.442854</td>\n",
       "      <td>0.472430</td>\n",
       "      <td>0.514181</td>\n",
       "      <td>0.432156</td>\n",
       "    </tr>\n",
       "    <tr>\n",
       "      <th>25%</th>\n",
       "      <td>1.658334e+09</td>\n",
       "      <td>0.428728</td>\n",
       "      <td>0.144384</td>\n",
       "      <td>0.346052</td>\n",
       "      <td>0.476731</td>\n",
       "      <td>0.490137</td>\n",
       "      <td>0.529307</td>\n",
       "      <td>0.464997</td>\n",
       "    </tr>\n",
       "    <tr>\n",
       "      <th>50%</th>\n",
       "      <td>1.658334e+09</td>\n",
       "      <td>0.455680</td>\n",
       "      <td>0.193605</td>\n",
       "      <td>0.430843</td>\n",
       "      <td>0.486183</td>\n",
       "      <td>0.496909</td>\n",
       "      <td>0.540598</td>\n",
       "      <td>0.475951</td>\n",
       "    </tr>\n",
       "    <tr>\n",
       "      <th>75%</th>\n",
       "      <td>1.658334e+09</td>\n",
       "      <td>0.475068</td>\n",
       "      <td>0.262753</td>\n",
       "      <td>0.530279</td>\n",
       "      <td>0.494681</td>\n",
       "      <td>0.505642</td>\n",
       "      <td>0.549643</td>\n",
       "      <td>0.484414</td>\n",
       "    </tr>\n",
       "    <tr>\n",
       "      <th>max</th>\n",
       "      <td>1.658334e+09</td>\n",
       "      <td>0.499138</td>\n",
       "      <td>0.366980</td>\n",
       "      <td>0.590583</td>\n",
       "      <td>0.514399</td>\n",
       "      <td>0.528529</td>\n",
       "      <td>0.565919</td>\n",
       "      <td>0.516276</td>\n",
       "    </tr>\n",
       "  </tbody>\n",
       "</table>\n",
       "</div>\n",
       "      <button class=\"colab-df-convert\" onclick=\"convertToInteractive('df-9f23f42a-481f-43dd-ab98-df0d4030f126')\"\n",
       "              title=\"Convert this dataframe to an interactive table.\"\n",
       "              style=\"display:none;\">\n",
       "        \n",
       "  <svg xmlns=\"http://www.w3.org/2000/svg\" height=\"24px\"viewBox=\"0 0 24 24\"\n",
       "       width=\"24px\">\n",
       "    <path d=\"M0 0h24v24H0V0z\" fill=\"none\"/>\n",
       "    <path d=\"M18.56 5.44l.94 2.06.94-2.06 2.06-.94-2.06-.94-.94-2.06-.94 2.06-2.06.94zm-11 1L8.5 8.5l.94-2.06 2.06-.94-2.06-.94L8.5 2.5l-.94 2.06-2.06.94zm10 10l.94 2.06.94-2.06 2.06-.94-2.06-.94-.94-2.06-.94 2.06-2.06.94z\"/><path d=\"M17.41 7.96l-1.37-1.37c-.4-.4-.92-.59-1.43-.59-.52 0-1.04.2-1.43.59L10.3 9.45l-7.72 7.72c-.78.78-.78 2.05 0 2.83L4 21.41c.39.39.9.59 1.41.59.51 0 1.02-.2 1.41-.59l7.78-7.78 2.81-2.81c.8-.78.8-2.07 0-2.86zM5.41 20L4 18.59l7.72-7.72 1.47 1.35L5.41 20z\"/>\n",
       "  </svg>\n",
       "      </button>\n",
       "      \n",
       "  <style>\n",
       "    .colab-df-container {\n",
       "      display:flex;\n",
       "      flex-wrap:wrap;\n",
       "      gap: 12px;\n",
       "    }\n",
       "\n",
       "    .colab-df-convert {\n",
       "      background-color: #E8F0FE;\n",
       "      border: none;\n",
       "      border-radius: 50%;\n",
       "      cursor: pointer;\n",
       "      display: none;\n",
       "      fill: #1967D2;\n",
       "      height: 32px;\n",
       "      padding: 0 0 0 0;\n",
       "      width: 32px;\n",
       "    }\n",
       "\n",
       "    .colab-df-convert:hover {\n",
       "      background-color: #E2EBFA;\n",
       "      box-shadow: 0px 1px 2px rgba(60, 64, 67, 0.3), 0px 1px 3px 1px rgba(60, 64, 67, 0.15);\n",
       "      fill: #174EA6;\n",
       "    }\n",
       "\n",
       "    [theme=dark] .colab-df-convert {\n",
       "      background-color: #3B4455;\n",
       "      fill: #D2E3FC;\n",
       "    }\n",
       "\n",
       "    [theme=dark] .colab-df-convert:hover {\n",
       "      background-color: #434B5C;\n",
       "      box-shadow: 0px 1px 3px 1px rgba(0, 0, 0, 0.15);\n",
       "      filter: drop-shadow(0px 1px 2px rgba(0, 0, 0, 0.3));\n",
       "      fill: #FFFFFF;\n",
       "    }\n",
       "  </style>\n",
       "\n",
       "      <script>\n",
       "        const buttonEl =\n",
       "          document.querySelector('#df-9f23f42a-481f-43dd-ab98-df0d4030f126 button.colab-df-convert');\n",
       "        buttonEl.style.display =\n",
       "          google.colab.kernel.accessAllowed ? 'block' : 'none';\n",
       "\n",
       "        async function convertToInteractive(key) {\n",
       "          const element = document.querySelector('#df-9f23f42a-481f-43dd-ab98-df0d4030f126');\n",
       "          const dataTable =\n",
       "            await google.colab.kernel.invokeFunction('convertToInteractive',\n",
       "                                                     [key], {});\n",
       "          if (!dataTable) return;\n",
       "\n",
       "          const docLinkHtml = 'Like what you see? Visit the ' +\n",
       "            '<a target=\"_blank\" href=https://colab.research.google.com/notebooks/data_table.ipynb>data table notebook</a>'\n",
       "            + ' to learn more about interactive tables.';\n",
       "          element.innerHTML = '';\n",
       "          dataTable['output_type'] = 'display_data';\n",
       "          await google.colab.output.renderOutput(dataTable, element);\n",
       "          const docLink = document.createElement('div');\n",
       "          docLink.innerHTML = docLinkHtml;\n",
       "          element.appendChild(docLink);\n",
       "        }\n",
       "      </script>\n",
       "    </div>\n",
       "  </div>\n",
       "  "
      ],
      "text/plain": [
       "               time             x             y             z            qx  \\\n",
       "count  1.004000e+04  10040.000000  10040.000000  10040.000000  10040.000000   \n",
       "mean   1.658334e+09      0.450796      0.201399      0.434312      0.484131   \n",
       "std    2.898443e+01      0.028243      0.073196      0.095478      0.014566   \n",
       "min    1.658334e+09      0.387736      0.050019      0.275445      0.442854   \n",
       "25%    1.658334e+09      0.428728      0.144384      0.346052      0.476731   \n",
       "50%    1.658334e+09      0.455680      0.193605      0.430843      0.486183   \n",
       "75%    1.658334e+09      0.475068      0.262753      0.530279      0.494681   \n",
       "max    1.658334e+09      0.499138      0.366980      0.590583      0.514399   \n",
       "\n",
       "                 qy            qz            qw  \n",
       "count  10040.000000  10040.000000  10040.000000  \n",
       "mean       0.497970      0.539868      0.474881  \n",
       "std        0.011219      0.012421      0.013467  \n",
       "min        0.472430      0.514181      0.432156  \n",
       "25%        0.490137      0.529307      0.464997  \n",
       "50%        0.496909      0.540598      0.475951  \n",
       "75%        0.505642      0.549643      0.484414  \n",
       "max        0.528529      0.565919      0.516276  "
      ]
     },
     "execution_count": 4,
     "metadata": {},
     "output_type": "execute_result"
    }
   ],
   "source": [
    "#fetch the path from the drive \n",
    "path = \"/content/drive/MyDrive/Emotion_Dataset/Robot/Happy/User5_happy_ur3e.csv\"\n",
    "\n",
    "#create dataframe from the csv\n",
    "User5_happy_df = pd.read_csv(path)\n",
    "User5_happy_df.describe()"
   ]
  },
  {
   "cell_type": "markdown",
   "metadata": {
    "id": "qqrANq8Xxq12"
   },
   "source": [
    "In order to segment this data, identification of the start and stop coordinates of individual \"8\" is necessary. This can be achieved by using 1D graphs."
   ]
  },
  {
   "cell_type": "code",
   "execution_count": 6,
   "metadata": {
    "colab": {
     "base_uri": "https://localhost:8080/",
     "height": 334
    },
    "id": "OZymiKsxx4eF",
    "outputId": "85f3abba-21a9-432f-fb8c-31ab5af9758f"
   },
   "outputs": [
    {
     "data": {
      "image/png": "[encoded data removed]",
      "text/plain": [
       "<Figure size 1440x360 with 1 Axes>"
      ]
     },
     "metadata": {
      "needs_background": "light"
     },
     "output_type": "display_data"
    }
   ],
   "source": [
    "#get the values of column \"x\" from dataframe\n",
    "X = User5_happy_df.iloc[:, 1] \n",
    "#get the values of column \"y\" from dataframe\n",
    "Y = User5_happy_df.iloc[:, 2]\n",
    "\n",
    "#Plot graph of either of the axis to obtain 1D graph\n",
    "plt.figure(figsize=(20,5)) \n",
    "plt.plot(Y, data=Y)\n",
    "plt.xlabel('Row number')\n",
    "plt.xticks(range(0,len(Y),500))\n",
    "plt.show()"
   ]
  },
  {
   "cell_type": "markdown",
   "metadata": {
    "id": "TCbuVBIIyEKT"
   },
   "source": [
    "From the above graph, the X-axis denotes the row number, this can be used to identify the row number from the individual \"8\" has started and finished.\n",
    "\n",
    "Using this information, a 3D graph can be plotted to visualize the letter \"8\" and get the exact row count."
   ]
  },
  {
   "cell_type": "code",
   "execution_count": 10,
   "metadata": {
    "colab": {
     "base_uri": "https://localhost:8080/",
     "height": 575
    },
    "id": "rHluLBvcyl19",
    "outputId": "48ab6e48-a6f9-48eb-f391-2916e41a24c8"
   },
   "outputs": [
    {
     "data": {
      "image/png": "[encoded data removed]",
      "text/plain": [
       "<Figure size 720x720 with 1 Axes>"
      ]
     },
     "metadata": {
      "needs_background": "light"
     },
     "output_type": "display_data"
    }
   ],
   "source": [
    "# Get the x,y,z values from the data frame according to the row numbers from the 1D graph\n",
    "X = User5_happy_df.iloc[1100:2225, 1] \n",
    "Y = User5_happy_df.iloc[1100:2225, 2] \n",
    "Z = User5_happy_df.iloc[1100:2225, 3]\n",
    "\n",
    "# Plot the graph using the 3 coordinate values\n",
    "fig = plt.figure(figsize=(10,10)) \n",
    "ax = fig.add_subplot(111, projection='3d') \n",
    "ax.plot_trisurf(X, Y, Z, color='blue', edgecolors='grey', alpha=0.2) \n",
    "ax.scatter(X, Y, Z, c='red') \n",
    "ax.view_init(10, 10)\n",
    "ax.set_xlabel(\"X-Axis\")\n",
    "ax.set_ylabel(\"Y-Axis\")\n",
    "ax.set_zlabel(\"Z-Axis\")\n",
    "plt.show()"
   ]
  },
  {
   "cell_type": "markdown",
   "metadata": {
    "id": "W8HhZ82q0gZE"
   },
   "source": [
    "### Feature Extraction"
   ]
  },
  {
   "cell_type": "markdown",
   "metadata": {
    "id": "ju0c_fdpV_0d"
   },
   "source": [
    "To train the model, features need to be extracted from the raw data. The following different functions extract each feature from the dataframe being passed. Each of these statistical features helps in classifying the emotions easier."
   ]
  },
  {
   "cell_type": "markdown",
   "metadata": {
    "id": "aG2ppUWPKyjn"
   },
   "source": [
    "**Normalize function** -  Normalize the data in the dataframe. This helps to understand the features better and how one emotion differs from another."
   ]
  },
  {
   "cell_type": "code",
   "execution_count": null,
   "metadata": {
    "id": "lONUbE3vKwQA"
   },
   "outputs": [],
   "source": [
    "def normalise_df(df):\n",
    "  norm_df=(df-df.min())/(df.max()-df.min())\n",
    "  return norm_df"
   ]
  },
  {
   "cell_type": "markdown",
   "metadata": {
    "id": "2vkjPDPKK4Oo"
   },
   "source": [
    "**Speed Calculation**\n",
    "\n",
    "Speed is calculated as the diff() of all the coordinates separately.\n",
    "\n",
    "diff() - data at (i+1) - data at (i) with respect to time at column 1"
   ]
  },
  {
   "cell_type": "code",
   "execution_count": null,
   "metadata": {
    "id": "1pZH-HNzK3ur"
   },
   "outputs": [],
   "source": [
    "def speed_calculation(df):\n",
    "  dist_x_val = df.diff().fillna(0.).x\n",
    "  #create a column in dataframe to store speed_x\n",
    "  df['speed_x'] = dist_x_val\n",
    "\n",
    "  dist_y_val = df.diff().fillna(0.).y\n",
    "  #create a column in dataframe to store speed_y\n",
    "  df['speed_y'] = dist_y_val\n",
    "\n",
    "  dist_z_val = df.diff().fillna(0.).z\n",
    "  #create a column in dataframe to store speed_z\n",
    "  df['speed_z'] = dist_z_val\n",
    "  \n",
    "  return df"
   ]
  },
  {
   "cell_type": "markdown",
   "metadata": {
    "id": "xVx9Ee18K8wb"
   },
   "source": [
    "**Acceleration Calculation**"
   ]
  },
  {
   "cell_type": "markdown",
   "metadata": {
    "id": "hWdL0SiD0vVR"
   },
   "source": [
    "Acceleration is calculated as the diff of speed."
   ]
  },
  {
   "cell_type": "code",
   "execution_count": null,
   "metadata": {
    "id": "ZNXQCejRK8VG"
   },
   "outputs": [],
   "source": [
    "def calculate_acceleration(df):\n",
    "  acc_x_val = df.diff().fillna(0.).speed_x\n",
    "  #create a column in dataframe to store acceleration_x\n",
    "  df['acceleration_x'] = acc_x_val\n",
    "\n",
    "  acc_y_val = df.diff().fillna(0.).speed_y\n",
    "  #create a column in dataframe to store acceleration_y\n",
    "  df['acceleration_y'] = acc_y_val\n",
    "\n",
    "  acc_z_val = df.diff().fillna(0.).speed_z\n",
    "  #create a column in dataframe to store acceleration_z\n",
    "  df['acceleration_z'] = acc_z_val\n",
    "  \n",
    "  return df"
   ]
  },
  {
   "cell_type": "markdown",
   "metadata": {
    "id": "UPJIQ0YDLCSJ"
   },
   "source": [
    "**Jerk Calculation**"
   ]
  },
  {
   "cell_type": "markdown",
   "metadata": {
    "id": "0noUVto-01fK"
   },
   "source": [
    "Jerk is calculated as the diff of acceleration"
   ]
  },
  {
   "cell_type": "code",
   "execution_count": null,
   "metadata": {
    "id": "msXakbCuLAGs"
   },
   "outputs": [],
   "source": [
    "def calculate_jerk(df):\n",
    "  jerk_x_val = df.diff().fillna(0.).acceleration_x\n",
    "  #create a column in dataframe to store jerk_x\n",
    "  df['jerk_x'] = jerk_x_val\n",
    "\n",
    "  jerk_y_val = df.diff().fillna(0.).acceleration_y\n",
    "  #create a column in dataframe to store jerk_y\n",
    "  df['jerk_y'] = jerk_y_val\n",
    "\n",
    "  jerk_z_val = df.diff().fillna(0.).acceleration_z\n",
    "  #create a column in dataframe to store jerk_z\n",
    "  df['jerk_z'] = jerk_z_val\n",
    "  \n",
    "  return df"
   ]
  },
  {
   "cell_type": "markdown",
   "metadata": {
    "id": "ft0rOOIbLGRs"
   },
   "source": [
    "**Angle Calculation**"
   ]
  },
  {
   "cell_type": "markdown",
   "metadata": {
    "id": "EW5FK1oX04ud"
   },
   "source": [
    "Angle is calculated tan of the coordinates.\n",
    "\n",
    "angle between x and y = tan(y/x)"
   ]
  },
  {
   "cell_type": "code",
   "execution_count": null,
   "metadata": {
    "id": "f01MlpuaLFAc"
   },
   "outputs": [],
   "source": [
    "def calculate_angle(df):\n",
    "  tan_xy_val=[]\n",
    "  tan_yz_val=[]\n",
    "  tan_zx_val=[]\n",
    "\n",
    "  # for every row in dataframe, calculating the angle and storing in list\n",
    "  for index, row in df.iterrows():\n",
    "    tan_xy_val.append(math.tan(df.y[index]/df.x[index]))\n",
    "    tan_yz_val.append(math.tan(df.z[index]/df.y[index]))\n",
    "    tan_zx_val.append(math.tan(df.x[index]/df.z[index]))\n",
    "\n",
    "  #Storing them as separate columns in dataframe  \n",
    "  df['tan_xy'] = tan_xy_val\n",
    "  df['tan_yz'] = tan_yz_val\n",
    "  df['tan_zx'] = tan_zx_val\n",
    "  return df"
   ]
  },
  {
   "cell_type": "markdown",
   "metadata": {
    "id": "1SbBKIj-LNyo"
   },
   "source": [
    "**Feature Calculation**"
   ]
  },
  {
   "cell_type": "markdown",
   "metadata": {
    "id": "2OK6_Suv161k"
   },
   "source": [
    "Function that calculates the above mentioned features for the dataframe passed."
   ]
  },
  {
   "cell_type": "code",
   "execution_count": null,
   "metadata": {
    "id": "Hk3y6YbHLJiq"
   },
   "outputs": [],
   "source": [
    "def feature_calculation(df):\n",
    "\n",
    "  #Calling the above defined functions by passing the dataframe as parameter\n",
    "  df=speed_calculation(df)\n",
    "  df=calculate_acceleration(df)\n",
    "  df=calculate_jerk(df)\n",
    "  df=calculate_angle(df)\n",
    "  \n",
    "  df_list=[]\n",
    "\n",
    "  #Calculating the mean of speed for each coordinate\n",
    "  x_speed_mean_val= df['speed_x'].mean()\n",
    "  y_speed_mean_val= df['speed_y'].mean()\n",
    "  z_speed_mean_val = df['speed_z'].mean()\n",
    "\n",
    "  #Calculating the standard deviation of speed for each coordinate\n",
    "  x_speed_std_val = df['speed_x'].std()\n",
    "  y_speed_std_val = df['speed_y'].std()\n",
    "  z_speed_std_val = df['speed_z'].std()\n",
    "\n",
    "  #Calculating the variance of speed for each coordinate\n",
    "  x_speed_var_val = df['speed_x'].var()\n",
    "  y_speed_var_val = df['speed_y'].var()\n",
    "  z_speed_var_val = df['speed_z'].var()\n",
    "\n",
    "  #Calculating the mean of acceleration for each coordinate\n",
    "  x_acc_mean = df['acceleration_x'].mean()\n",
    "  y_acc_mean = df['acceleration_y'].mean()\n",
    "  z_acc_mean = df['acceleration_z'].mean()\n",
    "\n",
    "  #Calculating the standard deviation of acceleration for each coordinate\n",
    "  x_acc_std_val = df['acceleration_x'].std()\n",
    "  y_acc_std_val = df['acceleration_y'].std()\n",
    "  z_acc_std_val = df['acceleration_z'].std()\n",
    "\n",
    "  #Calculating the variance of acceleration for each coordinate\n",
    "  x_acc_var_val = df['acceleration_x'].var()\n",
    "  y_acc_var_val = df['acceleration_y'].var()\n",
    "  z_acc_var_val = df['acceleration_z'].var()\n",
    "\n",
    "  #Calculating the mean of jerk for each coordinate\n",
    "  x_jerk_mean = df['jerk_x'].mean()\n",
    "  y_jerk_mean = df['jerk_y'].mean()\n",
    "  z_jerk_mean = df['jerk_z'].mean()\n",
    "\n",
    "  #Calculating the standard deviation of jerk for each coordinate\n",
    "  x_jerk_std_val = df['jerk_x'].std()\n",
    "  y_jerk_std_val = df['jerk_y'].std()\n",
    "  z_jerk_std_val = df['jerk_z'].std()\n",
    "\n",
    "  #Calculating the variance of jerk for each coordinate\n",
    "  x_jerk_var_val = df['jerk_x'].var()\n",
    "  y_jerk_var_val = df['jerk_y'].var()\n",
    "  z_jerk_var_val = df['jerk_z'].var()\n",
    "\n",
    "  #Calculating the mean of angle for each coordinate\n",
    "  xy_angle_mean = df['tan_xy'].mean()\n",
    "  yz_angle_mean = df['tan_yz'].mean()\n",
    "  zx_angle_mean = df['tan_zx'].mean()\n",
    "\n",
    "  #Calculating the standard deviation of angle for each coordinate\n",
    "  xy_angle_std_val = df['tan_xy'].std()\n",
    "  yz_angle_std_val = df['tan_yz'].std()\n",
    "  zx_angle_std_val = df['tan_zx'].std()\n",
    "\n",
    "  #Calculating the variance of angle for each coordinate\n",
    "  xy_angle_var_val = df['tan_xy'].var()\n",
    "  yz_angle_var_val = df['tan_yz'].var()\n",
    "  zx_angle_var_val = df['tan_zx'].var()\n",
    "\n",
    "  #Calculating the range of all coordinates\n",
    "  x_range_val = df['x'].max()-df['x'].min()\n",
    "  y_range_val = df['y'].max()-df['y'].min()\n",
    "  z_range_val = df['z'].max()-df['z'].min()\n",
    "  \n",
    "  #Calculating the time taken to do a single task \"8\"\n",
    "  time_taken_val = df.iloc[-1,0] - df.iloc[-len(df)+1,0]\n",
    "  \n",
    "  #Adding all the values calculated into listand returning the list\n",
    "  df_list=[x_speed_mean_val,y_speed_mean_val,z_speed_mean_val,\n",
    "           x_speed_std_val,y_speed_std_val,z_speed_std_val,\n",
    "           x_speed_var_val,y_speed_var_val,z_speed_var_val,\n",
    "           x_acc_mean,y_acc_mean,z_acc_mean,\n",
    "           x_acc_std_val,y_acc_std_val,z_acc_std_val,\n",
    "           x_acc_var_val,y_acc_var_val,z_acc_var_val,\n",
    "           x_jerk_mean,y_jerk_mean,z_jerk_mean,\n",
    "           x_jerk_std_val,y_jerk_std_val,z_jerk_std_val,\n",
    "           x_jerk_var_val,y_jerk_var_val,z_jerk_var_val,\n",
    "           xy_angle_mean,yz_angle_mean,zx_angle_mean,\n",
    "           xy_angle_std_val,yz_angle_std_val,zx_angle_std_val,\n",
    "           xy_angle_var_val,yz_angle_var_val,zx_angle_var_val,\n",
    "           x_range_val,y_range_val,z_range_val,\n",
    "           time_taken_val]\n",
    "  \n",
    "  return df_list"
   ]
  },
  {
   "cell_type": "markdown",
   "metadata": {
    "id": "3Edgr7fhLfBt"
   },
   "source": [
    "**Path Collection**"
   ]
  },
  {
   "cell_type": "markdown",
   "metadata": {
    "id": "EVyNxibx3Dk4"
   },
   "source": [
    "Collection of all files for all emotions from 8 participants.\n",
    "\n",
    "Storing it in list for ease of access"
   ]
  },
  {
   "cell_type": "code",
   "execution_count": null,
   "metadata": {
    "id": "bu0f1V_uLdFc"
   },
   "outputs": [],
   "source": [
    "entirePathList=[[\n",
    "    \n",
    "    #Files for happy emotion\n",
    "    '/content/drive/MyDrive/Emotion_Dataset/Robot/Happy/segmented/User1_segmented_robot_happy.xlsx',\n",
    "    '/content/drive/MyDrive/Emotion_Dataset/Robot/Happy/segmented/User2_segmented_robot_happy.xlsx',\n",
    "    '/content/drive/MyDrive/Emotion_Dataset/Robot/Happy/segmented/User3_segmented_robot_happy.xlsx',\n",
    "    '/content/drive/MyDrive/Emotion_Dataset/Robot/Happy/segmented/User4_segmented_robot_happy.xlsx',\n",
    "    '/content/drive/MyDrive/Emotion_Dataset/Robot/Happy/segmented/User5_segmented_robot_happy.xlsx',\n",
    "    '/content/drive/MyDrive/Emotion_Dataset/Robot/Happy/segmented/User6_segmented_robot_happy.xlsx',\n",
    "    '/content/drive/MyDrive/Emotion_Dataset/Robot/Happy/segmented/User7_segmented_robot_happy.xlsx',\n",
    "    '/content/drive/MyDrive/Emotion_Dataset/Robot/Happy/segmented/User8_segmented_robot_happy.xlsx'\n",
    "    ],\n",
    "\n",
    "    #Files for sad emotion\n",
    "    ['/content/drive/MyDrive/Emotion_Dataset/Robot/Sad/segmented/User1_segmented_robot_sad.xlsx',\n",
    "     '/content/drive/MyDrive/Emotion_Dataset/Robot/Sad/segmented/User2_segmented_robot_sad.xlsx',\n",
    "     '/content/drive/MyDrive/Emotion_Dataset/Robot/Sad/segmented/User3_segmented_robot_sad.xlsx',\n",
    "     '/content/drive/MyDrive/Emotion_Dataset/Robot/Sad/segmented/User4_segmented_robot_sad.xlsx',\n",
    "     '/content/drive/MyDrive/Emotion_Dataset/Robot/Sad/segmented/User5_segmented_robot_sad.xlsx',\n",
    "     '/content/drive/MyDrive/Emotion_Dataset/Robot/Sad/segmented/User6_segmented_robot_sad.xlsx',\n",
    "     '/content/drive/MyDrive/Emotion_Dataset/Robot/Sad/segmented/User7_segmented_robot_sad.xlsx',\n",
    "     '/content/drive/MyDrive/Emotion_Dataset/Robot/Sad/segmented/User8_segmented_robot_sad.xlsx'\n",
    "    ],\n",
    "\n",
    "    #Files for angry emotion\n",
    "    [\n",
    "      '/content/drive/MyDrive/Emotion_Dataset/Robot/Angry/segmented/User1_segmented_robot_angry.xlsx',\n",
    "     '/content/drive/MyDrive/Emotion_Dataset/Robot/Angry/segmented/User2_segmented_robot_angry.xlsx',\n",
    "     '/content/drive/MyDrive/Emotion_Dataset/Robot/Angry/segmented/User3_segmented_robot_angry.xlsx',\n",
    "     '/content/drive/MyDrive/Emotion_Dataset/Robot/Angry/segmented/User4_segmented_robot_angry.xlsx',\n",
    "     '/content/drive/MyDrive/Emotion_Dataset/Robot/Angry/segmented/User5_segmented_robot_angry.xlsx',\n",
    "     '/content/drive/MyDrive/Emotion_Dataset/Robot/Angry/segmented/User6_segmented_robot_angry.xlsx',\n",
    "     '/content/drive/MyDrive/Emotion_Dataset/Robot/Angry/segmented/User7_segmented_robot_angry.xlsx',\n",
    "     '/content/drive/MyDrive/Emotion_Dataset/Robot/Angry/segmented/User8_segmented_robot_angry.xlsx'\n",
    "     ],\n",
    "\n",
    "     #Files for fear emotion\n",
    "     [\n",
    "      '/content/drive/MyDrive/Emotion_Dataset/Robot/Fear/segmented/User1_segmented_robot_fear.xlsx',\n",
    "      '/content/drive/MyDrive/Emotion_Dataset/Robot/Fear/segmented/User2_segmented_robot_fear.xlsx',\n",
    "      '/content/drive/MyDrive/Emotion_Dataset/Robot/Fear/segmented/User3_segmented_robot_fear.xlsx',\n",
    "      '/content/drive/MyDrive/Emotion_Dataset/Robot/Fear/segmented/User4_segmented_robot_fear.xlsx',\n",
    "      '/content/drive/MyDrive/Emotion_Dataset/Robot/Fear/segmented/User5_segmented_robot_fear.xlsx',\n",
    "      '/content/drive/MyDrive/Emotion_Dataset/Robot/Fear/segmented/User6_segmented_robot_fear.xlsx',\n",
    "      '/content/drive/MyDrive/Emotion_Dataset/Robot/Fear/segmented/User7_segmented_robot_fear.xlsx',\n",
    "      '/content/drive/MyDrive/Emotion_Dataset/Robot/Fear/segmented/User8_segmented_robot_fear.xlsx'\n",
    "    ]\n",
    "]"
   ]
  },
  {
   "cell_type": "markdown",
   "metadata": {
    "id": "RGktdNC53guT"
   },
   "source": [
    "Logic to take the Path and convert to Dataframe.\n",
    "\n",
    "After converting to Dataframe,  the features are calculated by calling the feature calculation function and storing the values in a list."
   ]
  },
  {
   "cell_type": "code",
   "execution_count": null,
   "metadata": {
    "colab": {
     "base_uri": "https://localhost:8080/"
    },
    "id": "qe3C1Z9XNKhb",
    "outputId": "7b37c690-ceaf-4950-ff85-83c39be81e3c"
   },
   "outputs": [
    {
     "name": "stderr",
     "output_type": "stream",
     "text": [
      "/usr/local/lib/python3.7/dist-packages/ipykernel_launcher.py:3: SettingWithCopyWarning: \n",
      "A value is trying to be set on a copy of a slice from a DataFrame.\n",
      "Try using .loc[row_indexer,col_indexer] = value instead\n",
      "\n",
      "See the caveats in the documentation: https://pandas.pydata.org/pandas-docs/stable/user_guide/indexing.html#returning-a-view-versus-a-copy\n",
      "  This is separate from the ipykernel package so we can avoid doing imports until\n",
      "/usr/local/lib/python3.7/dist-packages/ipykernel_launcher.py:5: SettingWithCopyWarning: \n",
      "A value is trying to be set on a copy of a slice from a DataFrame.\n",
      "Try using .loc[row_indexer,col_indexer] = value instead\n",
      "\n",
      "See the caveats in the documentation: https://pandas.pydata.org/pandas-docs/stable/user_guide/indexing.html#returning-a-view-versus-a-copy\n",
      "  \"\"\"\n",
      "/usr/local/lib/python3.7/dist-packages/ipykernel_launcher.py:7: SettingWithCopyWarning: \n",
      "A value is trying to be set on a copy of a slice from a DataFrame.\n",
      "Try using .loc[row_indexer,col_indexer] = value instead\n",
      "\n",
      "See the caveats in the documentation: https://pandas.pydata.org/pandas-docs/stable/user_guide/indexing.html#returning-a-view-versus-a-copy\n",
      "  import sys\n",
      "/usr/local/lib/python3.7/dist-packages/ipykernel_launcher.py:9: SettingWithCopyWarning: \n",
      "A value is trying to be set on a copy of a slice from a DataFrame.\n",
      "Try using .loc[row_indexer,col_indexer] = value instead\n",
      "\n",
      "See the caveats in the documentation: https://pandas.pydata.org/pandas-docs/stable/user_guide/indexing.html#returning-a-view-versus-a-copy\n",
      "  if __name__ == '__main__':\n",
      "/usr/local/lib/python3.7/dist-packages/ipykernel_launcher.py:10: SettingWithCopyWarning: \n",
      "A value is trying to be set on a copy of a slice from a DataFrame.\n",
      "Try using .loc[row_indexer,col_indexer] = value instead\n",
      "\n",
      "See the caveats in the documentation: https://pandas.pydata.org/pandas-docs/stable/user_guide/indexing.html#returning-a-view-versus-a-copy\n",
      "  # Remove the CWD from sys.path while we load stuff.\n",
      "/usr/local/lib/python3.7/dist-packages/ipykernel_launcher.py:11: SettingWithCopyWarning: \n",
      "A value is trying to be set on a copy of a slice from a DataFrame.\n",
      "Try using .loc[row_indexer,col_indexer] = value instead\n",
      "\n",
      "See the caveats in the documentation: https://pandas.pydata.org/pandas-docs/stable/user_guide/indexing.html#returning-a-view-versus-a-copy\n",
      "  # This is added back by InteractiveShellApp.init_path()\n"
     ]
    }
   ],
   "source": [
    "seg_list=[]\n",
    "seg_df=pd.DataFrame()\n",
    "\n",
    "#Looping through Pathlist\n",
    "for pathList in entirePathList:\n",
    "\n",
    "  # Retrieving label name from path to store the label in dataframe\n",
    "  label = pathList[0].split('/')[-3]\n",
    "\n",
    "  #Looping through each path\n",
    "  for path in pathList:\n",
    "    s_df=pd.read_excel(path)\n",
    "\n",
    "    #removing index which has null values from the segmented file\n",
    "    index=s_df[s_df.isnull().all(axis=1)].index.tolist()\n",
    "    index.insert(0,0)\n",
    "\n",
    "    #from the null index list obtained calling the feature calculation function for each individual \"8\"\n",
    "    for i in range(len(index)-1):\n",
    "      seg_df=s_df.iloc[index[i]:index[i+1],:]\n",
    "      res = feature_calculation(seg_df)\n",
    "      res.append(label)\n",
    "      seg_list.append(res)"
   ]
  },
  {
   "cell_type": "markdown",
   "metadata": {
    "id": "XjVDALjB4VoV"
   },
   "source": [
    "Storing the feature list into a dataframe for ease of access"
   ]
  },
  {
   "cell_type": "code",
   "execution_count": null,
   "metadata": {
    "colab": {
     "base_uri": "https://localhost:8080/",
     "height": 661
    },
    "id": "F0GxABJBNOuu",
    "outputId": "58cf84f7-079b-4457-ff55-f735e8355a79"
   },
   "outputs": [
    {
     "data": {
      "text/html": [
       "\n",
       "  <div id=\"df-f0e1bb80-c40f-42b1-a550-4e8d96d29711\">\n",
       "    <div class=\"colab-df-container\">\n",
       "      <div>\n",
       "<style scoped>\n",
       "    .dataframe tbody tr th:only-of-type {\n",
       "        vertical-align: middle;\n",
       "    }\n",
       "\n",
       "    .dataframe tbody tr th {\n",
       "        vertical-align: top;\n",
       "    }\n",
       "\n",
       "    .dataframe thead th {\n",
       "        text-align: right;\n",
       "    }\n",
       "</style>\n",
       "<table border=\"1\" class=\"dataframe\">\n",
       "  <thead>\n",
       "    <tr style=\"text-align: right;\">\n",
       "      <th></th>\n",
       "      <th>speed_x_mean</th>\n",
       "      <th>speed_y_mean</th>\n",
       "      <th>speed_z_mean</th>\n",
       "      <th>speed_x_std</th>\n",
       "      <th>speed_y_std</th>\n",
       "      <th>speed_z_std</th>\n",
       "      <th>speed_x_var</th>\n",
       "      <th>speed_y_var</th>\n",
       "      <th>speed_z_var</th>\n",
       "      <th>acceleration_x_mean</th>\n",
       "      <th>...</th>\n",
       "      <th>angle_yz_std</th>\n",
       "      <th>angle_zx_std</th>\n",
       "      <th>angle_xy_var</th>\n",
       "      <th>angle_yz_var</th>\n",
       "      <th>angle_zx_var</th>\n",
       "      <th>x_range</th>\n",
       "      <th>y_range</th>\n",
       "      <th>z_range</th>\n",
       "      <th>time_range</th>\n",
       "      <th>label</th>\n",
       "    </tr>\n",
       "  </thead>\n",
       "  <tbody>\n",
       "    <tr>\n",
       "      <th>0</th>\n",
       "      <td>-0.000018</td>\n",
       "      <td>0.000006</td>\n",
       "      <td>-0.000006</td>\n",
       "      <td>0.000143</td>\n",
       "      <td>0.000767</td>\n",
       "      <td>0.000425</td>\n",
       "      <td>2.046654e-08</td>\n",
       "      <td>5.889238e-07</td>\n",
       "      <td>1.808420e-07</td>\n",
       "      <td>1.601237e-07</td>\n",
       "      <td>...</td>\n",
       "      <td>57.754354</td>\n",
       "      <td>3668.821049</td>\n",
       "      <td>0.020147</td>\n",
       "      <td>3335.565401</td>\n",
       "      <td>1.346025e+07</td>\n",
       "      <td>0.078238</td>\n",
       "      <td>0.205689</td>\n",
       "      <td>0.212325</td>\n",
       "      <td>12.47993</td>\n",
       "      <td>Happy</td>\n",
       "    </tr>\n",
       "    <tr>\n",
       "      <th>1</th>\n",
       "      <td>0.000039</td>\n",
       "      <td>0.000115</td>\n",
       "      <td>0.000005</td>\n",
       "      <td>0.000186</td>\n",
       "      <td>0.001015</td>\n",
       "      <td>0.000474</td>\n",
       "      <td>3.472353e-08</td>\n",
       "      <td>1.030719e-06</td>\n",
       "      <td>2.250015e-07</td>\n",
       "      <td>1.391333e-07</td>\n",
       "      <td>...</td>\n",
       "      <td>43.876062</td>\n",
       "      <td>5.564966</td>\n",
       "      <td>0.019842</td>\n",
       "      <td>1925.108845</td>\n",
       "      <td>3.096885e+01</td>\n",
       "      <td>0.083850</td>\n",
       "      <td>0.197962</td>\n",
       "      <td>0.205781</td>\n",
       "      <td>10.98958</td>\n",
       "      <td>Happy</td>\n",
       "    </tr>\n",
       "    <tr>\n",
       "      <th>2</th>\n",
       "      <td>-0.000006</td>\n",
       "      <td>0.000060</td>\n",
       "      <td>0.000010</td>\n",
       "      <td>0.000146</td>\n",
       "      <td>0.001152</td>\n",
       "      <td>0.000569</td>\n",
       "      <td>2.131901e-08</td>\n",
       "      <td>1.327582e-06</td>\n",
       "      <td>3.242955e-07</td>\n",
       "      <td>-1.273624e-07</td>\n",
       "      <td>...</td>\n",
       "      <td>158.237447</td>\n",
       "      <td>61.591953</td>\n",
       "      <td>0.018491</td>\n",
       "      <td>25039.089581</td>\n",
       "      <td>3.793569e+03</td>\n",
       "      <td>0.052415</td>\n",
       "      <td>0.209977</td>\n",
       "      <td>0.212985</td>\n",
       "      <td>8.49040</td>\n",
       "      <td>Happy</td>\n",
       "    </tr>\n",
       "    <tr>\n",
       "      <th>3</th>\n",
       "      <td>0.000042</td>\n",
       "      <td>0.000025</td>\n",
       "      <td>-0.000070</td>\n",
       "      <td>0.000221</td>\n",
       "      <td>0.001125</td>\n",
       "      <td>0.000475</td>\n",
       "      <td>4.885557e-08</td>\n",
       "      <td>1.264554e-06</td>\n",
       "      <td>2.255811e-07</td>\n",
       "      <td>-1.263147e-07</td>\n",
       "      <td>...</td>\n",
       "      <td>77.753566</td>\n",
       "      <td>381.661958</td>\n",
       "      <td>0.030630</td>\n",
       "      <td>6045.617065</td>\n",
       "      <td>1.456659e+05</td>\n",
       "      <td>0.109725</td>\n",
       "      <td>0.284346</td>\n",
       "      <td>0.245004</td>\n",
       "      <td>10.99058</td>\n",
       "      <td>Happy</td>\n",
       "    </tr>\n",
       "    <tr>\n",
       "      <th>4</th>\n",
       "      <td>-0.000004</td>\n",
       "      <td>0.000053</td>\n",
       "      <td>-0.000019</td>\n",
       "      <td>0.000238</td>\n",
       "      <td>0.001095</td>\n",
       "      <td>0.000578</td>\n",
       "      <td>5.653885e-08</td>\n",
       "      <td>1.199731e-06</td>\n",
       "      <td>3.335645e-07</td>\n",
       "      <td>-3.177367e-07</td>\n",
       "      <td>...</td>\n",
       "      <td>6.498067</td>\n",
       "      <td>85.679932</td>\n",
       "      <td>0.014818</td>\n",
       "      <td>42.224881</td>\n",
       "      <td>7.341051e+03</td>\n",
       "      <td>0.089460</td>\n",
       "      <td>0.196203</td>\n",
       "      <td>0.204642</td>\n",
       "      <td>8.49008</td>\n",
       "      <td>Happy</td>\n",
       "    </tr>\n",
       "    <tr>\n",
       "      <th>...</th>\n",
       "      <td>...</td>\n",
       "      <td>...</td>\n",
       "      <td>...</td>\n",
       "      <td>...</td>\n",
       "      <td>...</td>\n",
       "      <td>...</td>\n",
       "      <td>...</td>\n",
       "      <td>...</td>\n",
       "      <td>...</td>\n",
       "      <td>...</td>\n",
       "      <td>...</td>\n",
       "      <td>...</td>\n",
       "      <td>...</td>\n",
       "      <td>...</td>\n",
       "      <td>...</td>\n",
       "      <td>...</td>\n",
       "      <td>...</td>\n",
       "      <td>...</td>\n",
       "      <td>...</td>\n",
       "      <td>...</td>\n",
       "      <td>...</td>\n",
       "    </tr>\n",
       "    <tr>\n",
       "      <th>447</th>\n",
       "      <td>-0.000004</td>\n",
       "      <td>0.000088</td>\n",
       "      <td>0.000100</td>\n",
       "      <td>0.000494</td>\n",
       "      <td>0.000938</td>\n",
       "      <td>0.000697</td>\n",
       "      <td>2.437026e-07</td>\n",
       "      <td>8.805309e-07</td>\n",
       "      <td>4.854011e-07</td>\n",
       "      <td>-1.432119e-07</td>\n",
       "      <td>...</td>\n",
       "      <td>33.102942</td>\n",
       "      <td>189.465090</td>\n",
       "      <td>0.014892</td>\n",
       "      <td>1095.804794</td>\n",
       "      <td>3.589702e+04</td>\n",
       "      <td>0.107145</td>\n",
       "      <td>0.156517</td>\n",
       "      <td>0.200133</td>\n",
       "      <td>7.99022</td>\n",
       "      <td>Fear</td>\n",
       "    </tr>\n",
       "    <tr>\n",
       "      <th>448</th>\n",
       "      <td>-0.000069</td>\n",
       "      <td>0.000114</td>\n",
       "      <td>0.000041</td>\n",
       "      <td>0.000584</td>\n",
       "      <td>0.001122</td>\n",
       "      <td>0.000874</td>\n",
       "      <td>3.413960e-07</td>\n",
       "      <td>1.258801e-06</td>\n",
       "      <td>7.644002e-07</td>\n",
       "      <td>-1.773921e-06</td>\n",
       "      <td>...</td>\n",
       "      <td>19.064766</td>\n",
       "      <td>112.737244</td>\n",
       "      <td>0.009568</td>\n",
       "      <td>363.465296</td>\n",
       "      <td>1.270969e+04</td>\n",
       "      <td>0.093357</td>\n",
       "      <td>0.152284</td>\n",
       "      <td>0.238752</td>\n",
       "      <td>5.98966</td>\n",
       "      <td>Fear</td>\n",
       "    </tr>\n",
       "    <tr>\n",
       "      <th>449</th>\n",
       "      <td>-0.000055</td>\n",
       "      <td>0.000055</td>\n",
       "      <td>-0.000076</td>\n",
       "      <td>0.000607</td>\n",
       "      <td>0.001000</td>\n",
       "      <td>0.000773</td>\n",
       "      <td>3.687023e-07</td>\n",
       "      <td>1.000810e-06</td>\n",
       "      <td>5.974740e-07</td>\n",
       "      <td>-1.407527e-07</td>\n",
       "      <td>...</td>\n",
       "      <td>78.392366</td>\n",
       "      <td>4.661308</td>\n",
       "      <td>0.018698</td>\n",
       "      <td>6145.363001</td>\n",
       "      <td>2.172779e+01</td>\n",
       "      <td>0.126447</td>\n",
       "      <td>0.172537</td>\n",
       "      <td>0.229113</td>\n",
       "      <td>6.99053</td>\n",
       "      <td>Fear</td>\n",
       "    </tr>\n",
       "    <tr>\n",
       "      <th>450</th>\n",
       "      <td>0.000085</td>\n",
       "      <td>-0.000071</td>\n",
       "      <td>0.000034</td>\n",
       "      <td>0.000460</td>\n",
       "      <td>0.001028</td>\n",
       "      <td>0.000684</td>\n",
       "      <td>2.117570e-07</td>\n",
       "      <td>1.056952e-06</td>\n",
       "      <td>4.685293e-07</td>\n",
       "      <td>5.304733e-07</td>\n",
       "      <td>...</td>\n",
       "      <td>38.444431</td>\n",
       "      <td>1.735217</td>\n",
       "      <td>0.013886</td>\n",
       "      <td>1477.974283</td>\n",
       "      <td>3.010976e+00</td>\n",
       "      <td>0.098288</td>\n",
       "      <td>0.185863</td>\n",
       "      <td>0.182176</td>\n",
       "      <td>5.98995</td>\n",
       "      <td>Fear</td>\n",
       "    </tr>\n",
       "    <tr>\n",
       "      <th>451</th>\n",
       "      <td>-0.000018</td>\n",
       "      <td>-0.000050</td>\n",
       "      <td>-0.000037</td>\n",
       "      <td>0.000548</td>\n",
       "      <td>0.000992</td>\n",
       "      <td>0.000747</td>\n",
       "      <td>3.004496e-07</td>\n",
       "      <td>9.840249e-07</td>\n",
       "      <td>5.583544e-07</td>\n",
       "      <td>1.761846e-06</td>\n",
       "      <td>...</td>\n",
       "      <td>153.085916</td>\n",
       "      <td>1.154278</td>\n",
       "      <td>0.011169</td>\n",
       "      <td>23435.297532</td>\n",
       "      <td>1.332358e+00</td>\n",
       "      <td>0.087126</td>\n",
       "      <td>0.150377</td>\n",
       "      <td>0.180675</td>\n",
       "      <td>5.73996</td>\n",
       "      <td>Fear</td>\n",
       "    </tr>\n",
       "  </tbody>\n",
       "</table>\n",
       "<p>452 rows × 41 columns</p>\n",
       "</div>\n",
       "      <button class=\"colab-df-convert\" onclick=\"convertToInteractive('df-f0e1bb80-c40f-42b1-a550-4e8d96d29711')\"\n",
       "              title=\"Convert this dataframe to an interactive table.\"\n",
       "              style=\"display:none;\">\n",
       "        \n",
       "  <svg xmlns=\"http://www.w3.org/2000/svg\" height=\"24px\"viewBox=\"0 0 24 24\"\n",
       "       width=\"24px\">\n",
       "    <path d=\"M0 0h24v24H0V0z\" fill=\"none\"/>\n",
       "    <path d=\"M18.56 5.44l.94 2.06.94-2.06 2.06-.94-2.06-.94-.94-2.06-.94 2.06-2.06.94zm-11 1L8.5 8.5l.94-2.06 2.06-.94-2.06-.94L8.5 2.5l-.94 2.06-2.06.94zm10 10l.94 2.06.94-2.06 2.06-.94-2.06-.94-.94-2.06-.94 2.06-2.06.94z\"/><path d=\"M17.41 7.96l-1.37-1.37c-.4-.4-.92-.59-1.43-.59-.52 0-1.04.2-1.43.59L10.3 9.45l-7.72 7.72c-.78.78-.78 2.05 0 2.83L4 21.41c.39.39.9.59 1.41.59.51 0 1.02-.2 1.41-.59l7.78-7.78 2.81-2.81c.8-.78.8-2.07 0-2.86zM5.41 20L4 18.59l7.72-7.72 1.47 1.35L5.41 20z\"/>\n",
       "  </svg>\n",
       "      </button>\n",
       "      \n",
       "  <style>\n",
       "    .colab-df-container {\n",
       "      display:flex;\n",
       "      flex-wrap:wrap;\n",
       "      gap: 12px;\n",
       "    }\n",
       "\n",
       "    .colab-df-convert {\n",
       "      background-color: #E8F0FE;\n",
       "      border: none;\n",
       "      border-radius: 50%;\n",
       "      cursor: pointer;\n",
       "      display: none;\n",
       "      fill: #1967D2;\n",
       "      height: 32px;\n",
       "      padding: 0 0 0 0;\n",
       "      width: 32px;\n",
       "    }\n",
       "\n",
       "    .colab-df-convert:hover {\n",
       "      background-color: #E2EBFA;\n",
       "      box-shadow: 0px 1px 2px rgba(60, 64, 67, 0.3), 0px 1px 3px 1px rgba(60, 64, 67, 0.15);\n",
       "      fill: #174EA6;\n",
       "    }\n",
       "\n",
       "    [theme=dark] .colab-df-convert {\n",
       "      background-color: #3B4455;\n",
       "      fill: #D2E3FC;\n",
       "    }\n",
       "\n",
       "    [theme=dark] .colab-df-convert:hover {\n",
       "      background-color: #434B5C;\n",
       "      box-shadow: 0px 1px 3px 1px rgba(0, 0, 0, 0.15);\n",
       "      filter: drop-shadow(0px 1px 2px rgba(0, 0, 0, 0.3));\n",
       "      fill: #FFFFFF;\n",
       "    }\n",
       "  </style>\n",
       "\n",
       "      <script>\n",
       "        const buttonEl =\n",
       "          document.querySelector('#df-f0e1bb80-c40f-42b1-a550-4e8d96d29711 button.colab-df-convert');\n",
       "        buttonEl.style.display =\n",
       "          google.colab.kernel.accessAllowed ? 'block' : 'none';\n",
       "\n",
       "        async function convertToInteractive(key) {\n",
       "          const element = document.querySelector('#df-f0e1bb80-c40f-42b1-a550-4e8d96d29711');\n",
       "          const dataTable =\n",
       "            await google.colab.kernel.invokeFunction('convertToInteractive',\n",
       "                                                     [key], {});\n",
       "          if (!dataTable) return;\n",
       "\n",
       "          const docLinkHtml = 'Like what you see? Visit the ' +\n",
       "            '<a target=\"_blank\" href=https://colab.research.google.com/notebooks/data_table.ipynb>data table notebook</a>'\n",
       "            + ' to learn more about interactive tables.';\n",
       "          element.innerHTML = '';\n",
       "          dataTable['output_type'] = 'display_data';\n",
       "          await google.colab.output.renderOutput(dataTable, element);\n",
       "          const docLink = document.createElement('div');\n",
       "          docLink.innerHTML = docLinkHtml;\n",
       "          element.appendChild(docLink);\n",
       "        }\n",
       "      </script>\n",
       "    </div>\n",
       "  </div>\n",
       "  "
      ],
      "text/plain": [
       "     speed_x_mean  speed_y_mean  speed_z_mean  speed_x_std  speed_y_std  \\\n",
       "0       -0.000018      0.000006     -0.000006     0.000143     0.000767   \n",
       "1        0.000039      0.000115      0.000005     0.000186     0.001015   \n",
       "2       -0.000006      0.000060      0.000010     0.000146     0.001152   \n",
       "3        0.000042      0.000025     -0.000070     0.000221     0.001125   \n",
       "4       -0.000004      0.000053     -0.000019     0.000238     0.001095   \n",
       "..            ...           ...           ...          ...          ...   \n",
       "447     -0.000004      0.000088      0.000100     0.000494     0.000938   \n",
       "448     -0.000069      0.000114      0.000041     0.000584     0.001122   \n",
       "449     -0.000055      0.000055     -0.000076     0.000607     0.001000   \n",
       "450      0.000085     -0.000071      0.000034     0.000460     0.001028   \n",
       "451     -0.000018     -0.000050     -0.000037     0.000548     0.000992   \n",
       "\n",
       "     speed_z_std   speed_x_var   speed_y_var   speed_z_var  \\\n",
       "0       0.000425  2.046654e-08  5.889238e-07  1.808420e-07   \n",
       "1       0.000474  3.472353e-08  1.030719e-06  2.250015e-07   \n",
       "2       0.000569  2.131901e-08  1.327582e-06  3.242955e-07   \n",
       "3       0.000475  4.885557e-08  1.264554e-06  2.255811e-07   \n",
       "4       0.000578  5.653885e-08  1.199731e-06  3.335645e-07   \n",
       "..           ...           ...           ...           ...   \n",
       "447     0.000697  2.437026e-07  8.805309e-07  4.854011e-07   \n",
       "448     0.000874  3.413960e-07  1.258801e-06  7.644002e-07   \n",
       "449     0.000773  3.687023e-07  1.000810e-06  5.974740e-07   \n",
       "450     0.000684  2.117570e-07  1.056952e-06  4.685293e-07   \n",
       "451     0.000747  3.004496e-07  9.840249e-07  5.583544e-07   \n",
       "\n",
       "     acceleration_x_mean  ...  angle_yz_std  angle_zx_std  angle_xy_var  \\\n",
       "0           1.601237e-07  ...     57.754354   3668.821049      0.020147   \n",
       "1           1.391333e-07  ...     43.876062      5.564966      0.019842   \n",
       "2          -1.273624e-07  ...    158.237447     61.591953      0.018491   \n",
       "3          -1.263147e-07  ...     77.753566    381.661958      0.030630   \n",
       "4          -3.177367e-07  ...      6.498067     85.679932      0.014818   \n",
       "..                   ...  ...           ...           ...           ...   \n",
       "447        -1.432119e-07  ...     33.102942    189.465090      0.014892   \n",
       "448        -1.773921e-06  ...     19.064766    112.737244      0.009568   \n",
       "449        -1.407527e-07  ...     78.392366      4.661308      0.018698   \n",
       "450         5.304733e-07  ...     38.444431      1.735217      0.013886   \n",
       "451         1.761846e-06  ...    153.085916      1.154278      0.011169   \n",
       "\n",
       "     angle_yz_var  angle_zx_var   x_range   y_range   z_range  time_range  \\\n",
       "0     3335.565401  1.346025e+07  0.078238  0.205689  0.212325    12.47993   \n",
       "1     1925.108845  3.096885e+01  0.083850  0.197962  0.205781    10.98958   \n",
       "2    25039.089581  3.793569e+03  0.052415  0.209977  0.212985     8.49040   \n",
       "3     6045.617065  1.456659e+05  0.109725  0.284346  0.245004    10.99058   \n",
       "4       42.224881  7.341051e+03  0.089460  0.196203  0.204642     8.49008   \n",
       "..            ...           ...       ...       ...       ...         ...   \n",
       "447   1095.804794  3.589702e+04  0.107145  0.156517  0.200133     7.99022   \n",
       "448    363.465296  1.270969e+04  0.093357  0.152284  0.238752     5.98966   \n",
       "449   6145.363001  2.172779e+01  0.126447  0.172537  0.229113     6.99053   \n",
       "450   1477.974283  3.010976e+00  0.098288  0.185863  0.182176     5.98995   \n",
       "451  23435.297532  1.332358e+00  0.087126  0.150377  0.180675     5.73996   \n",
       "\n",
       "     label  \n",
       "0    Happy  \n",
       "1    Happy  \n",
       "2    Happy  \n",
       "3    Happy  \n",
       "4    Happy  \n",
       "..     ...  \n",
       "447   Fear  \n",
       "448   Fear  \n",
       "449   Fear  \n",
       "450   Fear  \n",
       "451   Fear  \n",
       "\n",
       "[452 rows x 41 columns]"
      ]
     },
     "execution_count": 19,
     "metadata": {},
     "output_type": "execute_result"
    }
   ],
   "source": [
    "robot_df = pd.DataFrame(seg_list,columns=['speed_x_mean','speed_y_mean','speed_z_mean',\n",
    "                                         'speed_x_std','speed_y_std','speed_z_std',\n",
    "                                         'speed_x_var','speed_y_var','speed_z_var',\n",
    "                                         'acceleration_x_mean','acceleration_y_mean','acceleration_z_mean',\n",
    "                                         'acceleration_x_std','acceleration_y_std','acceleration_z_std',\n",
    "                                         'acceleration_x_var','acceleration_y_var','acceleration_z_var',\n",
    "                                         'jerk_x_mean','jerk_y_mean','jerk_z_mean',\n",
    "                                         'jerk_x_std','jerk_y_std','jerk_z_std',\n",
    "                                         'jerk_x_var','jerk_y_var','jerk_z_var',\n",
    "                                         'angle_xy_mean','angle_yz_mean','angle_zx_mean',\n",
    "                                         'angle_xy_std','angle_yz_std','angle_zx_std',\n",
    "                                         'angle_xy_var','angle_yz_var','angle_zx_var',\n",
    "                                         'x_range','y_range','z_range','time_range',\n",
    "                                         'label'\n",
    "                                  ])\n",
    "robot_df"
   ]
  },
  {
   "cell_type": "markdown",
   "metadata": {
    "id": "VmKGA7dY4gqr"
   },
   "source": [
    "Normalising the dataframe which was created after calculating the features"
   ]
  },
  {
   "cell_type": "code",
   "execution_count": null,
   "metadata": {
    "id": "eZPdA66xNV6C"
   },
   "outputs": [],
   "source": [
    "# Storing the values of dataframe as temp to remove the label column and normalising it\n",
    "temp = normalise_df(robot_df.iloc[:,:-1])"
   ]
  },
  {
   "cell_type": "code",
   "execution_count": null,
   "metadata": {
    "colab": {
     "base_uri": "https://localhost:8080/",
     "height": 488
    },
    "id": "-s_6lJTiNX1d",
    "outputId": "2cd2141a-a5c7-4718-d78c-6ab9d0936b14"
   },
   "outputs": [
    {
     "data": {
      "text/html": [
       "\n",
       "  <div id=\"df-26eeb79f-9850-46e8-afb0-a8683818b47d\">\n",
       "    <div class=\"colab-df-container\">\n",
       "      <div>\n",
       "<style scoped>\n",
       "    .dataframe tbody tr th:only-of-type {\n",
       "        vertical-align: middle;\n",
       "    }\n",
       "\n",
       "    .dataframe tbody tr th {\n",
       "        vertical-align: top;\n",
       "    }\n",
       "\n",
       "    .dataframe thead th {\n",
       "        text-align: right;\n",
       "    }\n",
       "</style>\n",
       "<table border=\"1\" class=\"dataframe\">\n",
       "  <thead>\n",
       "    <tr style=\"text-align: right;\">\n",
       "      <th></th>\n",
       "      <th>speed_x_mean</th>\n",
       "      <th>speed_y_mean</th>\n",
       "      <th>speed_z_mean</th>\n",
       "      <th>speed_x_std</th>\n",
       "      <th>speed_y_std</th>\n",
       "      <th>speed_z_std</th>\n",
       "      <th>speed_x_var</th>\n",
       "      <th>speed_y_var</th>\n",
       "      <th>speed_z_var</th>\n",
       "      <th>acceleration_x_mean</th>\n",
       "      <th>...</th>\n",
       "      <th>angle_yz_std</th>\n",
       "      <th>angle_zx_std</th>\n",
       "      <th>angle_xy_var</th>\n",
       "      <th>angle_yz_var</th>\n",
       "      <th>angle_zx_var</th>\n",
       "      <th>x_range</th>\n",
       "      <th>y_range</th>\n",
       "      <th>z_range</th>\n",
       "      <th>time_range</th>\n",
       "      <th>label</th>\n",
       "    </tr>\n",
       "  </thead>\n",
       "  <tbody>\n",
       "    <tr>\n",
       "      <th>0</th>\n",
       "      <td>0.556578</td>\n",
       "      <td>0.552057</td>\n",
       "      <td>0.514894</td>\n",
       "      <td>0.130929</td>\n",
       "      <td>0.422698</td>\n",
       "      <td>0.228115</td>\n",
       "      <td>0.033725</td>\n",
       "      <td>0.278079</td>\n",
       "      <td>0.117960</td>\n",
       "      <td>0.634645</td>\n",
       "      <td>...</td>\n",
       "      <td>0.003368</td>\n",
       "      <td>0.756304</td>\n",
       "      <td>3.752614e-08</td>\n",
       "      <td>1.177840e-05</td>\n",
       "      <td>5.720003e-01</td>\n",
       "      <td>0.381103</td>\n",
       "      <td>0.520779</td>\n",
       "      <td>0.374957</td>\n",
       "      <td>0.655869</td>\n",
       "      <td>Happy</td>\n",
       "    </tr>\n",
       "    <tr>\n",
       "      <th>1</th>\n",
       "      <td>0.782641</td>\n",
       "      <td>0.793096</td>\n",
       "      <td>0.546968</td>\n",
       "      <td>0.196346</td>\n",
       "      <td>0.670193</td>\n",
       "      <td>0.288987</td>\n",
       "      <td>0.061547</td>\n",
       "      <td>0.539198</td>\n",
       "      <td>0.160442</td>\n",
       "      <td>0.629857</td>\n",
       "      <td>...</td>\n",
       "      <td>0.002544</td>\n",
       "      <td>0.001134</td>\n",
       "      <td>3.694148e-08</td>\n",
       "      <td>6.796111e-06</td>\n",
       "      <td>1.315873e-06</td>\n",
       "      <td>0.411809</td>\n",
       "      <td>0.495999</td>\n",
       "      <td>0.357224</td>\n",
       "      <td>0.562698</td>\n",
       "      <td>Happy</td>\n",
       "    </tr>\n",
       "    <tr>\n",
       "      <th>2</th>\n",
       "      <td>0.604435</td>\n",
       "      <td>0.672509</td>\n",
       "      <td>0.559413</td>\n",
       "      <td>0.135386</td>\n",
       "      <td>0.806972</td>\n",
       "      <td>0.406950</td>\n",
       "      <td>0.035389</td>\n",
       "      <td>0.714657</td>\n",
       "      <td>0.255966</td>\n",
       "      <td>0.569069</td>\n",
       "      <td>...</td>\n",
       "      <td>0.009341</td>\n",
       "      <td>0.012684</td>\n",
       "      <td>3.435446e-08</td>\n",
       "      <td>8.844385e-05</td>\n",
       "      <td>1.612095e-04</td>\n",
       "      <td>0.239818</td>\n",
       "      <td>0.534533</td>\n",
       "      <td>0.376747</td>\n",
       "      <td>0.406459</td>\n",
       "      <td>Happy</td>\n",
       "    </tr>\n",
       "    <tr>\n",
       "      <th>3</th>\n",
       "      <td>0.793673</td>\n",
       "      <td>0.594322</td>\n",
       "      <td>0.329480</td>\n",
       "      <td>0.248778</td>\n",
       "      <td>0.779326</td>\n",
       "      <td>0.289744</td>\n",
       "      <td>0.089126</td>\n",
       "      <td>0.677405</td>\n",
       "      <td>0.161000</td>\n",
       "      <td>0.569308</td>\n",
       "      <td>...</td>\n",
       "      <td>0.004557</td>\n",
       "      <td>0.078666</td>\n",
       "      <td>5.760615e-08</td>\n",
       "      <td>2.135138e-05</td>\n",
       "      <td>6.190146e-03</td>\n",
       "      <td>0.553378</td>\n",
       "      <td>0.773047</td>\n",
       "      <td>0.463515</td>\n",
       "      <td>0.562761</td>\n",
       "      <td>Happy</td>\n",
       "    </tr>\n",
       "    <tr>\n",
       "      <th>4</th>\n",
       "      <td>0.612487</td>\n",
       "      <td>0.655441</td>\n",
       "      <td>0.475300</td>\n",
       "      <td>0.274088</td>\n",
       "      <td>0.750163</td>\n",
       "      <td>0.416971</td>\n",
       "      <td>0.104120</td>\n",
       "      <td>0.639091</td>\n",
       "      <td>0.264883</td>\n",
       "      <td>0.525644</td>\n",
       "      <td>...</td>\n",
       "      <td>0.000322</td>\n",
       "      <td>0.017650</td>\n",
       "      <td>2.731867e-08</td>\n",
       "      <td>1.450188e-07</td>\n",
       "      <td>3.119616e-04</td>\n",
       "      <td>0.442502</td>\n",
       "      <td>0.490357</td>\n",
       "      <td>0.354136</td>\n",
       "      <td>0.406439</td>\n",
       "      <td>Happy</td>\n",
       "    </tr>\n",
       "    <tr>\n",
       "      <th>...</th>\n",
       "      <td>...</td>\n",
       "      <td>...</td>\n",
       "      <td>...</td>\n",
       "      <td>...</td>\n",
       "      <td>...</td>\n",
       "      <td>...</td>\n",
       "      <td>...</td>\n",
       "      <td>...</td>\n",
       "      <td>...</td>\n",
       "      <td>...</td>\n",
       "      <td>...</td>\n",
       "      <td>...</td>\n",
       "      <td>...</td>\n",
       "      <td>...</td>\n",
       "      <td>...</td>\n",
       "      <td>...</td>\n",
       "      <td>...</td>\n",
       "      <td>...</td>\n",
       "      <td>...</td>\n",
       "      <td>...</td>\n",
       "      <td>...</td>\n",
       "    </tr>\n",
       "    <tr>\n",
       "      <th>447</th>\n",
       "      <td>0.614737</td>\n",
       "      <td>0.734163</td>\n",
       "      <td>0.821202</td>\n",
       "      <td>0.660837</td>\n",
       "      <td>0.593419</td>\n",
       "      <td>0.564733</td>\n",
       "      <td>0.469370</td>\n",
       "      <td>0.450431</td>\n",
       "      <td>0.410954</td>\n",
       "      <td>0.565454</td>\n",
       "      <td>...</td>\n",
       "      <td>0.001903</td>\n",
       "      <td>0.039045</td>\n",
       "      <td>2.745978e-08</td>\n",
       "      <td>3.866680e-06</td>\n",
       "      <td>1.525463e-03</td>\n",
       "      <td>0.539263</td>\n",
       "      <td>0.363077</td>\n",
       "      <td>0.341919</td>\n",
       "      <td>0.375189</td>\n",
       "      <td>Fear</td>\n",
       "    </tr>\n",
       "    <tr>\n",
       "      <th>448</th>\n",
       "      <td>0.358286</td>\n",
       "      <td>0.792338</td>\n",
       "      <td>0.651333</td>\n",
       "      <td>0.797816</td>\n",
       "      <td>0.776768</td>\n",
       "      <td>0.784959</td>\n",
       "      <td>0.660018</td>\n",
       "      <td>0.674004</td>\n",
       "      <td>0.679358</td>\n",
       "      <td>0.193487</td>\n",
       "      <td>...</td>\n",
       "      <td>0.001069</td>\n",
       "      <td>0.023228</td>\n",
       "      <td>1.726272e-08</td>\n",
       "      <td>1.279767e-06</td>\n",
       "      <td>5.401046e-04</td>\n",
       "      <td>0.463823</td>\n",
       "      <td>0.349502</td>\n",
       "      <td>0.446573</td>\n",
       "      <td>0.250122</td>\n",
       "      <td>Fear</td>\n",
       "    </tr>\n",
       "    <tr>\n",
       "      <th>449</th>\n",
       "      <td>0.411661</td>\n",
       "      <td>0.659773</td>\n",
       "      <td>0.310148</td>\n",
       "      <td>0.832454</td>\n",
       "      <td>0.655374</td>\n",
       "      <td>0.659297</td>\n",
       "      <td>0.713306</td>\n",
       "      <td>0.521521</td>\n",
       "      <td>0.518771</td>\n",
       "      <td>0.566015</td>\n",
       "      <td>...</td>\n",
       "      <td>0.004595</td>\n",
       "      <td>0.000948</td>\n",
       "      <td>3.475138e-08</td>\n",
       "      <td>2.170372e-05</td>\n",
       "      <td>9.231695e-07</td>\n",
       "      <td>0.644867</td>\n",
       "      <td>0.414456</td>\n",
       "      <td>0.420453</td>\n",
       "      <td>0.312693</td>\n",
       "      <td>Fear</td>\n",
       "    </tr>\n",
       "    <tr>\n",
       "      <th>450</th>\n",
       "      <td>0.963481</td>\n",
       "      <td>0.380639</td>\n",
       "      <td>0.630669</td>\n",
       "      <td>0.610217</td>\n",
       "      <td>0.683013</td>\n",
       "      <td>0.549585</td>\n",
       "      <td>0.407028</td>\n",
       "      <td>0.554703</td>\n",
       "      <td>0.394723</td>\n",
       "      <td>0.719122</td>\n",
       "      <td>...</td>\n",
       "      <td>0.002221</td>\n",
       "      <td>0.000345</td>\n",
       "      <td>2.553394e-08</td>\n",
       "      <td>5.216654e-06</td>\n",
       "      <td>1.277886e-07</td>\n",
       "      <td>0.490802</td>\n",
       "      <td>0.457196</td>\n",
       "      <td>0.293255</td>\n",
       "      <td>0.250140</td>\n",
       "      <td>Fear</td>\n",
       "    </tr>\n",
       "    <tr>\n",
       "      <th>451</th>\n",
       "      <td>0.557180</td>\n",
       "      <td>0.427721</td>\n",
       "      <td>0.424337</td>\n",
       "      <td>0.743165</td>\n",
       "      <td>0.646961</td>\n",
       "      <td>0.627386</td>\n",
       "      <td>0.580111</td>\n",
       "      <td>0.511600</td>\n",
       "      <td>0.481137</td>\n",
       "      <td>1.000000</td>\n",
       "      <td>...</td>\n",
       "      <td>0.009035</td>\n",
       "      <td>0.000225</td>\n",
       "      <td>2.032877e-08</td>\n",
       "      <td>8.277862e-05</td>\n",
       "      <td>5.645483e-08</td>\n",
       "      <td>0.429729</td>\n",
       "      <td>0.343387</td>\n",
       "      <td>0.289187</td>\n",
       "      <td>0.234512</td>\n",
       "      <td>Fear</td>\n",
       "    </tr>\n",
       "  </tbody>\n",
       "</table>\n",
       "<p>452 rows × 41 columns</p>\n",
       "</div>\n",
       "      <button class=\"colab-df-convert\" onclick=\"convertToInteractive('df-26eeb79f-9850-46e8-afb0-a8683818b47d')\"\n",
       "              title=\"Convert this dataframe to an interactive table.\"\n",
       "              style=\"display:none;\">\n",
       "        \n",
       "  <svg xmlns=\"http://www.w3.org/2000/svg\" height=\"24px\"viewBox=\"0 0 24 24\"\n",
       "       width=\"24px\">\n",
       "    <path d=\"M0 0h24v24H0V0z\" fill=\"none\"/>\n",
       "    <path d=\"M18.56 5.44l.94 2.06.94-2.06 2.06-.94-2.06-.94-.94-2.06-.94 2.06-2.06.94zm-11 1L8.5 8.5l.94-2.06 2.06-.94-2.06-.94L8.5 2.5l-.94 2.06-2.06.94zm10 10l.94 2.06.94-2.06 2.06-.94-2.06-.94-.94-2.06-.94 2.06-2.06.94z\"/><path d=\"M17.41 7.96l-1.37-1.37c-.4-.4-.92-.59-1.43-.59-.52 0-1.04.2-1.43.59L10.3 9.45l-7.72 7.72c-.78.78-.78 2.05 0 2.83L4 21.41c.39.39.9.59 1.41.59.51 0 1.02-.2 1.41-.59l7.78-7.78 2.81-2.81c.8-.78.8-2.07 0-2.86zM5.41 20L4 18.59l7.72-7.72 1.47 1.35L5.41 20z\"/>\n",
       "  </svg>\n",
       "      </button>\n",
       "      \n",
       "  <style>\n",
       "    .colab-df-container {\n",
       "      display:flex;\n",
       "      flex-wrap:wrap;\n",
       "      gap: 12px;\n",
       "    }\n",
       "\n",
       "    .colab-df-convert {\n",
       "      background-color: #E8F0FE;\n",
       "      border: none;\n",
       "      border-radius: 50%;\n",
       "      cursor: pointer;\n",
       "      display: none;\n",
       "      fill: #1967D2;\n",
       "      height: 32px;\n",
       "      padding: 0 0 0 0;\n",
       "      width: 32px;\n",
       "    }\n",
       "\n",
       "    .colab-df-convert:hover {\n",
       "      background-color: #E2EBFA;\n",
       "      box-shadow: 0px 1px 2px rgba(60, 64, 67, 0.3), 0px 1px 3px 1px rgba(60, 64, 67, 0.15);\n",
       "      fill: #174EA6;\n",
       "    }\n",
       "\n",
       "    [theme=dark] .colab-df-convert {\n",
       "      background-color: #3B4455;\n",
       "      fill: #D2E3FC;\n",
       "    }\n",
       "\n",
       "    [theme=dark] .colab-df-convert:hover {\n",
       "      background-color: #434B5C;\n",
       "      box-shadow: 0px 1px 3px 1px rgba(0, 0, 0, 0.15);\n",
       "      filter: drop-shadow(0px 1px 2px rgba(0, 0, 0, 0.3));\n",
       "      fill: #FFFFFF;\n",
       "    }\n",
       "  </style>\n",
       "\n",
       "      <script>\n",
       "        const buttonEl =\n",
       "          document.querySelector('#df-26eeb79f-9850-46e8-afb0-a8683818b47d button.colab-df-convert');\n",
       "        buttonEl.style.display =\n",
       "          google.colab.kernel.accessAllowed ? 'block' : 'none';\n",
       "\n",
       "        async function convertToInteractive(key) {\n",
       "          const element = document.querySelector('#df-26eeb79f-9850-46e8-afb0-a8683818b47d');\n",
       "          const dataTable =\n",
       "            await google.colab.kernel.invokeFunction('convertToInteractive',\n",
       "                                                     [key], {});\n",
       "          if (!dataTable) return;\n",
       "\n",
       "          const docLinkHtml = 'Like what you see? Visit the ' +\n",
       "            '<a target=\"_blank\" href=https://colab.research.google.com/notebooks/data_table.ipynb>data table notebook</a>'\n",
       "            + ' to learn more about interactive tables.';\n",
       "          element.innerHTML = '';\n",
       "          dataTable['output_type'] = 'display_data';\n",
       "          await google.colab.output.renderOutput(dataTable, element);\n",
       "          const docLink = document.createElement('div');\n",
       "          docLink.innerHTML = docLinkHtml;\n",
       "          element.appendChild(docLink);\n",
       "        }\n",
       "      </script>\n",
       "    </div>\n",
       "  </div>\n",
       "  "
      ],
      "text/plain": [
       "     speed_x_mean  speed_y_mean  speed_z_mean  speed_x_std  speed_y_std  \\\n",
       "0        0.556578      0.552057      0.514894     0.130929     0.422698   \n",
       "1        0.782641      0.793096      0.546968     0.196346     0.670193   \n",
       "2        0.604435      0.672509      0.559413     0.135386     0.806972   \n",
       "3        0.793673      0.594322      0.329480     0.248778     0.779326   \n",
       "4        0.612487      0.655441      0.475300     0.274088     0.750163   \n",
       "..            ...           ...           ...          ...          ...   \n",
       "447      0.614737      0.734163      0.821202     0.660837     0.593419   \n",
       "448      0.358286      0.792338      0.651333     0.797816     0.776768   \n",
       "449      0.411661      0.659773      0.310148     0.832454     0.655374   \n",
       "450      0.963481      0.380639      0.630669     0.610217     0.683013   \n",
       "451      0.557180      0.427721      0.424337     0.743165     0.646961   \n",
       "\n",
       "     speed_z_std  speed_x_var  speed_y_var  speed_z_var  acceleration_x_mean  \\\n",
       "0       0.228115     0.033725     0.278079     0.117960             0.634645   \n",
       "1       0.288987     0.061547     0.539198     0.160442             0.629857   \n",
       "2       0.406950     0.035389     0.714657     0.255966             0.569069   \n",
       "3       0.289744     0.089126     0.677405     0.161000             0.569308   \n",
       "4       0.416971     0.104120     0.639091     0.264883             0.525644   \n",
       "..           ...          ...          ...          ...                  ...   \n",
       "447     0.564733     0.469370     0.450431     0.410954             0.565454   \n",
       "448     0.784959     0.660018     0.674004     0.679358             0.193487   \n",
       "449     0.659297     0.713306     0.521521     0.518771             0.566015   \n",
       "450     0.549585     0.407028     0.554703     0.394723             0.719122   \n",
       "451     0.627386     0.580111     0.511600     0.481137             1.000000   \n",
       "\n",
       "     ...  angle_yz_std  angle_zx_std  angle_xy_var  angle_yz_var  \\\n",
       "0    ...      0.003368      0.756304  3.752614e-08  1.177840e-05   \n",
       "1    ...      0.002544      0.001134  3.694148e-08  6.796111e-06   \n",
       "2    ...      0.009341      0.012684  3.435446e-08  8.844385e-05   \n",
       "3    ...      0.004557      0.078666  5.760615e-08  2.135138e-05   \n",
       "4    ...      0.000322      0.017650  2.731867e-08  1.450188e-07   \n",
       "..   ...           ...           ...           ...           ...   \n",
       "447  ...      0.001903      0.039045  2.745978e-08  3.866680e-06   \n",
       "448  ...      0.001069      0.023228  1.726272e-08  1.279767e-06   \n",
       "449  ...      0.004595      0.000948  3.475138e-08  2.170372e-05   \n",
       "450  ...      0.002221      0.000345  2.553394e-08  5.216654e-06   \n",
       "451  ...      0.009035      0.000225  2.032877e-08  8.277862e-05   \n",
       "\n",
       "     angle_zx_var   x_range   y_range   z_range  time_range  label  \n",
       "0    5.720003e-01  0.381103  0.520779  0.374957    0.655869  Happy  \n",
       "1    1.315873e-06  0.411809  0.495999  0.357224    0.562698  Happy  \n",
       "2    1.612095e-04  0.239818  0.534533  0.376747    0.406459  Happy  \n",
       "3    6.190146e-03  0.553378  0.773047  0.463515    0.562761  Happy  \n",
       "4    3.119616e-04  0.442502  0.490357  0.354136    0.406439  Happy  \n",
       "..            ...       ...       ...       ...         ...    ...  \n",
       "447  1.525463e-03  0.539263  0.363077  0.341919    0.375189   Fear  \n",
       "448  5.401046e-04  0.463823  0.349502  0.446573    0.250122   Fear  \n",
       "449  9.231695e-07  0.644867  0.414456  0.420453    0.312693   Fear  \n",
       "450  1.277886e-07  0.490802  0.457196  0.293255    0.250140   Fear  \n",
       "451  5.645483e-08  0.429729  0.343387  0.289187    0.234512   Fear  \n",
       "\n",
       "[452 rows x 41 columns]"
      ]
     },
     "execution_count": 21,
     "metadata": {},
     "output_type": "execute_result"
    }
   ],
   "source": [
    "# Adding the label back to the dataframe after normalising\n",
    "temp['label']=robot_df['label']\n",
    "robot_df=temp\n",
    "robot_df"
   ]
  },
  {
   "cell_type": "markdown",
   "metadata": {
    "id": "92smjBzC47aq"
   },
   "source": [
    "From the above dataframe, it can be seen that, the final dataframe has 452 rows, which includes the features of the individual tasks \"8\". This data can be used to train the model and classify emotions."
   ]
  },
  {
   "cell_type": "markdown",
   "metadata": {
    "id": "oe9aNtQNN0Yk"
   },
   "source": [
    "### Model"
   ]
  },
  {
   "cell_type": "code",
   "execution_count": null,
   "metadata": {
    "id": "QGe16tfIN2Ec"
   },
   "outputs": [],
   "source": [
    "#Storing the dataframe into csv file\n",
    "robot_df.to_csv('/content/drive/MyDrive/Emotion_Dataset/Robot/robot_full_data.csv')"
   ]
  },
  {
   "cell_type": "code",
   "execution_count": null,
   "metadata": {
    "id": "lQtGCJ5nOAcM"
   },
   "outputs": [],
   "source": [
    "#accessing the saved file and reading as dataframe\n",
    "robot_data_df=pd.read_csv('/content/drive/MyDrive/Emotion_Dataset/Robot/robot_full_data.csv')"
   ]
  },
  {
   "cell_type": "markdown",
   "metadata": {
    "id": "A39Ir1o3X8jP"
   },
   "source": [
    "Importing necessary libraries for Model training"
   ]
  },
  {
   "cell_type": "code",
   "execution_count": null,
   "metadata": {
    "id": "8PrbVXrROIMv"
   },
   "outputs": [],
   "source": [
    "import sklearn\n",
    "from sklearn.model_selection import train_test_split\n",
    "from sklearn.neighbors import KNeighborsClassifier\n",
    "from sklearn.svm import SVC\n",
    "from sklearn.ensemble import RandomForestClassifier\n",
    "from sklearn.neural_network import MLPClassifier\n",
    "from sklearn.metrics import accuracy_score"
   ]
  },
  {
   "cell_type": "code",
   "execution_count": null,
   "metadata": {
    "colab": {
     "base_uri": "https://localhost:8080/",
     "height": 488
    },
    "id": "X0xDMvMXOM2i",
    "outputId": "ea3f4403-2ce6-4c83-d068-88eaf993f3db"
   },
   "outputs": [
    {
     "data": {
      "text/html": [
       "\n",
       "  <div id=\"df-3b0a1bf1-f36e-4202-8e47-b3b50471bfa3\">\n",
       "    <div class=\"colab-df-container\">\n",
       "      <div>\n",
       "<style scoped>\n",
       "    .dataframe tbody tr th:only-of-type {\n",
       "        vertical-align: middle;\n",
       "    }\n",
       "\n",
       "    .dataframe tbody tr th {\n",
       "        vertical-align: top;\n",
       "    }\n",
       "\n",
       "    .dataframe thead th {\n",
       "        text-align: right;\n",
       "    }\n",
       "</style>\n",
       "<table border=\"1\" class=\"dataframe\">\n",
       "  <thead>\n",
       "    <tr style=\"text-align: right;\">\n",
       "      <th></th>\n",
       "      <th>speed_x_mean</th>\n",
       "      <th>speed_y_mean</th>\n",
       "      <th>speed_z_mean</th>\n",
       "      <th>speed_x_std</th>\n",
       "      <th>speed_y_std</th>\n",
       "      <th>speed_z_std</th>\n",
       "      <th>speed_x_var</th>\n",
       "      <th>speed_y_var</th>\n",
       "      <th>speed_z_var</th>\n",
       "      <th>acceleration_x_mean</th>\n",
       "      <th>...</th>\n",
       "      <th>angle_yz_std</th>\n",
       "      <th>angle_zx_std</th>\n",
       "      <th>angle_xy_var</th>\n",
       "      <th>angle_yz_var</th>\n",
       "      <th>angle_zx_var</th>\n",
       "      <th>x_range</th>\n",
       "      <th>y_range</th>\n",
       "      <th>z_range</th>\n",
       "      <th>time_range</th>\n",
       "      <th>label</th>\n",
       "    </tr>\n",
       "  </thead>\n",
       "  <tbody>\n",
       "    <tr>\n",
       "      <th>0</th>\n",
       "      <td>0.556578</td>\n",
       "      <td>0.552057</td>\n",
       "      <td>0.514894</td>\n",
       "      <td>0.130929</td>\n",
       "      <td>0.422698</td>\n",
       "      <td>0.228115</td>\n",
       "      <td>0.033725</td>\n",
       "      <td>0.278079</td>\n",
       "      <td>0.117960</td>\n",
       "      <td>0.634645</td>\n",
       "      <td>...</td>\n",
       "      <td>0.003368</td>\n",
       "      <td>0.756304</td>\n",
       "      <td>3.752614e-08</td>\n",
       "      <td>1.177840e-05</td>\n",
       "      <td>5.720003e-01</td>\n",
       "      <td>0.381103</td>\n",
       "      <td>0.520779</td>\n",
       "      <td>0.374957</td>\n",
       "      <td>0.655869</td>\n",
       "      <td>Happy</td>\n",
       "    </tr>\n",
       "    <tr>\n",
       "      <th>1</th>\n",
       "      <td>0.782641</td>\n",
       "      <td>0.793096</td>\n",
       "      <td>0.546968</td>\n",
       "      <td>0.196346</td>\n",
       "      <td>0.670193</td>\n",
       "      <td>0.288987</td>\n",
       "      <td>0.061547</td>\n",
       "      <td>0.539198</td>\n",
       "      <td>0.160442</td>\n",
       "      <td>0.629857</td>\n",
       "      <td>...</td>\n",
       "      <td>0.002544</td>\n",
       "      <td>0.001134</td>\n",
       "      <td>3.694148e-08</td>\n",
       "      <td>6.796111e-06</td>\n",
       "      <td>1.315873e-06</td>\n",
       "      <td>0.411809</td>\n",
       "      <td>0.495999</td>\n",
       "      <td>0.357224</td>\n",
       "      <td>0.562698</td>\n",
       "      <td>Happy</td>\n",
       "    </tr>\n",
       "    <tr>\n",
       "      <th>2</th>\n",
       "      <td>0.604435</td>\n",
       "      <td>0.672509</td>\n",
       "      <td>0.559413</td>\n",
       "      <td>0.135386</td>\n",
       "      <td>0.806972</td>\n",
       "      <td>0.406950</td>\n",
       "      <td>0.035389</td>\n",
       "      <td>0.714657</td>\n",
       "      <td>0.255966</td>\n",
       "      <td>0.569069</td>\n",
       "      <td>...</td>\n",
       "      <td>0.009341</td>\n",
       "      <td>0.012684</td>\n",
       "      <td>3.435446e-08</td>\n",
       "      <td>8.844385e-05</td>\n",
       "      <td>1.612095e-04</td>\n",
       "      <td>0.239818</td>\n",
       "      <td>0.534533</td>\n",
       "      <td>0.376747</td>\n",
       "      <td>0.406459</td>\n",
       "      <td>Happy</td>\n",
       "    </tr>\n",
       "    <tr>\n",
       "      <th>3</th>\n",
       "      <td>0.793673</td>\n",
       "      <td>0.594322</td>\n",
       "      <td>0.329480</td>\n",
       "      <td>0.248778</td>\n",
       "      <td>0.779326</td>\n",
       "      <td>0.289744</td>\n",
       "      <td>0.089126</td>\n",
       "      <td>0.677405</td>\n",
       "      <td>0.161000</td>\n",
       "      <td>0.569308</td>\n",
       "      <td>...</td>\n",
       "      <td>0.004557</td>\n",
       "      <td>0.078666</td>\n",
       "      <td>5.760615e-08</td>\n",
       "      <td>2.135138e-05</td>\n",
       "      <td>6.190146e-03</td>\n",
       "      <td>0.553378</td>\n",
       "      <td>0.773047</td>\n",
       "      <td>0.463515</td>\n",
       "      <td>0.562761</td>\n",
       "      <td>Happy</td>\n",
       "    </tr>\n",
       "    <tr>\n",
       "      <th>4</th>\n",
       "      <td>0.612487</td>\n",
       "      <td>0.655441</td>\n",
       "      <td>0.475300</td>\n",
       "      <td>0.274088</td>\n",
       "      <td>0.750163</td>\n",
       "      <td>0.416971</td>\n",
       "      <td>0.104120</td>\n",
       "      <td>0.639091</td>\n",
       "      <td>0.264883</td>\n",
       "      <td>0.525644</td>\n",
       "      <td>...</td>\n",
       "      <td>0.000322</td>\n",
       "      <td>0.017650</td>\n",
       "      <td>2.731867e-08</td>\n",
       "      <td>1.450188e-07</td>\n",
       "      <td>3.119616e-04</td>\n",
       "      <td>0.442502</td>\n",
       "      <td>0.490357</td>\n",
       "      <td>0.354136</td>\n",
       "      <td>0.406439</td>\n",
       "      <td>Happy</td>\n",
       "    </tr>\n",
       "    <tr>\n",
       "      <th>...</th>\n",
       "      <td>...</td>\n",
       "      <td>...</td>\n",
       "      <td>...</td>\n",
       "      <td>...</td>\n",
       "      <td>...</td>\n",
       "      <td>...</td>\n",
       "      <td>...</td>\n",
       "      <td>...</td>\n",
       "      <td>...</td>\n",
       "      <td>...</td>\n",
       "      <td>...</td>\n",
       "      <td>...</td>\n",
       "      <td>...</td>\n",
       "      <td>...</td>\n",
       "      <td>...</td>\n",
       "      <td>...</td>\n",
       "      <td>...</td>\n",
       "      <td>...</td>\n",
       "      <td>...</td>\n",
       "      <td>...</td>\n",
       "      <td>...</td>\n",
       "    </tr>\n",
       "    <tr>\n",
       "      <th>447</th>\n",
       "      <td>0.614737</td>\n",
       "      <td>0.734163</td>\n",
       "      <td>0.821202</td>\n",
       "      <td>0.660837</td>\n",
       "      <td>0.593419</td>\n",
       "      <td>0.564733</td>\n",
       "      <td>0.469370</td>\n",
       "      <td>0.450431</td>\n",
       "      <td>0.410954</td>\n",
       "      <td>0.565454</td>\n",
       "      <td>...</td>\n",
       "      <td>0.001903</td>\n",
       "      <td>0.039045</td>\n",
       "      <td>2.745978e-08</td>\n",
       "      <td>3.866680e-06</td>\n",
       "      <td>1.525463e-03</td>\n",
       "      <td>0.539263</td>\n",
       "      <td>0.363077</td>\n",
       "      <td>0.341919</td>\n",
       "      <td>0.375189</td>\n",
       "      <td>Fear</td>\n",
       "    </tr>\n",
       "    <tr>\n",
       "      <th>448</th>\n",
       "      <td>0.358286</td>\n",
       "      <td>0.792338</td>\n",
       "      <td>0.651333</td>\n",
       "      <td>0.797816</td>\n",
       "      <td>0.776768</td>\n",
       "      <td>0.784959</td>\n",
       "      <td>0.660018</td>\n",
       "      <td>0.674004</td>\n",
       "      <td>0.679358</td>\n",
       "      <td>0.193487</td>\n",
       "      <td>...</td>\n",
       "      <td>0.001069</td>\n",
       "      <td>0.023228</td>\n",
       "      <td>1.726272e-08</td>\n",
       "      <td>1.279767e-06</td>\n",
       "      <td>5.401046e-04</td>\n",
       "      <td>0.463823</td>\n",
       "      <td>0.349502</td>\n",
       "      <td>0.446573</td>\n",
       "      <td>0.250122</td>\n",
       "      <td>Fear</td>\n",
       "    </tr>\n",
       "    <tr>\n",
       "      <th>449</th>\n",
       "      <td>0.411661</td>\n",
       "      <td>0.659773</td>\n",
       "      <td>0.310148</td>\n",
       "      <td>0.832454</td>\n",
       "      <td>0.655374</td>\n",
       "      <td>0.659297</td>\n",
       "      <td>0.713306</td>\n",
       "      <td>0.521521</td>\n",
       "      <td>0.518771</td>\n",
       "      <td>0.566015</td>\n",
       "      <td>...</td>\n",
       "      <td>0.004595</td>\n",
       "      <td>0.000948</td>\n",
       "      <td>3.475138e-08</td>\n",
       "      <td>2.170372e-05</td>\n",
       "      <td>9.231695e-07</td>\n",
       "      <td>0.644867</td>\n",
       "      <td>0.414456</td>\n",
       "      <td>0.420453</td>\n",
       "      <td>0.312693</td>\n",
       "      <td>Fear</td>\n",
       "    </tr>\n",
       "    <tr>\n",
       "      <th>450</th>\n",
       "      <td>0.963481</td>\n",
       "      <td>0.380639</td>\n",
       "      <td>0.630669</td>\n",
       "      <td>0.610217</td>\n",
       "      <td>0.683013</td>\n",
       "      <td>0.549585</td>\n",
       "      <td>0.407028</td>\n",
       "      <td>0.554703</td>\n",
       "      <td>0.394723</td>\n",
       "      <td>0.719122</td>\n",
       "      <td>...</td>\n",
       "      <td>0.002221</td>\n",
       "      <td>0.000345</td>\n",
       "      <td>2.553394e-08</td>\n",
       "      <td>5.216654e-06</td>\n",
       "      <td>1.277886e-07</td>\n",
       "      <td>0.490802</td>\n",
       "      <td>0.457196</td>\n",
       "      <td>0.293255</td>\n",
       "      <td>0.250140</td>\n",
       "      <td>Fear</td>\n",
       "    </tr>\n",
       "    <tr>\n",
       "      <th>451</th>\n",
       "      <td>0.557180</td>\n",
       "      <td>0.427721</td>\n",
       "      <td>0.424337</td>\n",
       "      <td>0.743165</td>\n",
       "      <td>0.646961</td>\n",
       "      <td>0.627386</td>\n",
       "      <td>0.580111</td>\n",
       "      <td>0.511600</td>\n",
       "      <td>0.481137</td>\n",
       "      <td>1.000000</td>\n",
       "      <td>...</td>\n",
       "      <td>0.009035</td>\n",
       "      <td>0.000225</td>\n",
       "      <td>2.032877e-08</td>\n",
       "      <td>8.277862e-05</td>\n",
       "      <td>5.645483e-08</td>\n",
       "      <td>0.429729</td>\n",
       "      <td>0.343387</td>\n",
       "      <td>0.289187</td>\n",
       "      <td>0.234512</td>\n",
       "      <td>Fear</td>\n",
       "    </tr>\n",
       "  </tbody>\n",
       "</table>\n",
       "<p>452 rows × 41 columns</p>\n",
       "</div>\n",
       "      <button class=\"colab-df-convert\" onclick=\"convertToInteractive('df-3b0a1bf1-f36e-4202-8e47-b3b50471bfa3')\"\n",
       "              title=\"Convert this dataframe to an interactive table.\"\n",
       "              style=\"display:none;\">\n",
       "        \n",
       "  <svg xmlns=\"http://www.w3.org/2000/svg\" height=\"24px\"viewBox=\"0 0 24 24\"\n",
       "       width=\"24px\">\n",
       "    <path d=\"M0 0h24v24H0V0z\" fill=\"none\"/>\n",
       "    <path d=\"M18.56 5.44l.94 2.06.94-2.06 2.06-.94-2.06-.94-.94-2.06-.94 2.06-2.06.94zm-11 1L8.5 8.5l.94-2.06 2.06-.94-2.06-.94L8.5 2.5l-.94 2.06-2.06.94zm10 10l.94 2.06.94-2.06 2.06-.94-2.06-.94-.94-2.06-.94 2.06-2.06.94z\"/><path d=\"M17.41 7.96l-1.37-1.37c-.4-.4-.92-.59-1.43-.59-.52 0-1.04.2-1.43.59L10.3 9.45l-7.72 7.72c-.78.78-.78 2.05 0 2.83L4 21.41c.39.39.9.59 1.41.59.51 0 1.02-.2 1.41-.59l7.78-7.78 2.81-2.81c.8-.78.8-2.07 0-2.86zM5.41 20L4 18.59l7.72-7.72 1.47 1.35L5.41 20z\"/>\n",
       "  </svg>\n",
       "      </button>\n",
       "      \n",
       "  <style>\n",
       "    .colab-df-container {\n",
       "      display:flex;\n",
       "      flex-wrap:wrap;\n",
       "      gap: 12px;\n",
       "    }\n",
       "\n",
       "    .colab-df-convert {\n",
       "      background-color: #E8F0FE;\n",
       "      border: none;\n",
       "      border-radius: 50%;\n",
       "      cursor: pointer;\n",
       "      display: none;\n",
       "      fill: #1967D2;\n",
       "      height: 32px;\n",
       "      padding: 0 0 0 0;\n",
       "      width: 32px;\n",
       "    }\n",
       "\n",
       "    .colab-df-convert:hover {\n",
       "      background-color: #E2EBFA;\n",
       "      box-shadow: 0px 1px 2px rgba(60, 64, 67, 0.3), 0px 1px 3px 1px rgba(60, 64, 67, 0.15);\n",
       "      fill: #174EA6;\n",
       "    }\n",
       "\n",
       "    [theme=dark] .colab-df-convert {\n",
       "      background-color: #3B4455;\n",
       "      fill: #D2E3FC;\n",
       "    }\n",
       "\n",
       "    [theme=dark] .colab-df-convert:hover {\n",
       "      background-color: #434B5C;\n",
       "      box-shadow: 0px 1px 3px 1px rgba(0, 0, 0, 0.15);\n",
       "      filter: drop-shadow(0px 1px 2px rgba(0, 0, 0, 0.3));\n",
       "      fill: #FFFFFF;\n",
       "    }\n",
       "  </style>\n",
       "\n",
       "      <script>\n",
       "        const buttonEl =\n",
       "          document.querySelector('#df-3b0a1bf1-f36e-4202-8e47-b3b50471bfa3 button.colab-df-convert');\n",
       "        buttonEl.style.display =\n",
       "          google.colab.kernel.accessAllowed ? 'block' : 'none';\n",
       "\n",
       "        async function convertToInteractive(key) {\n",
       "          const element = document.querySelector('#df-3b0a1bf1-f36e-4202-8e47-b3b50471bfa3');\n",
       "          const dataTable =\n",
       "            await google.colab.kernel.invokeFunction('convertToInteractive',\n",
       "                                                     [key], {});\n",
       "          if (!dataTable) return;\n",
       "\n",
       "          const docLinkHtml = 'Like what you see? Visit the ' +\n",
       "            '<a target=\"_blank\" href=https://colab.research.google.com/notebooks/data_table.ipynb>data table notebook</a>'\n",
       "            + ' to learn more about interactive tables.';\n",
       "          element.innerHTML = '';\n",
       "          dataTable['output_type'] = 'display_data';\n",
       "          await google.colab.output.renderOutput(dataTable, element);\n",
       "          const docLink = document.createElement('div');\n",
       "          docLink.innerHTML = docLinkHtml;\n",
       "          element.appendChild(docLink);\n",
       "        }\n",
       "      </script>\n",
       "    </div>\n",
       "  </div>\n",
       "  "
      ],
      "text/plain": [
       "     speed_x_mean  speed_y_mean  speed_z_mean  speed_x_std  speed_y_std  \\\n",
       "0        0.556578      0.552057      0.514894     0.130929     0.422698   \n",
       "1        0.782641      0.793096      0.546968     0.196346     0.670193   \n",
       "2        0.604435      0.672509      0.559413     0.135386     0.806972   \n",
       "3        0.793673      0.594322      0.329480     0.248778     0.779326   \n",
       "4        0.612487      0.655441      0.475300     0.274088     0.750163   \n",
       "..            ...           ...           ...          ...          ...   \n",
       "447      0.614737      0.734163      0.821202     0.660837     0.593419   \n",
       "448      0.358286      0.792338      0.651333     0.797816     0.776768   \n",
       "449      0.411661      0.659773      0.310148     0.832454     0.655374   \n",
       "450      0.963481      0.380639      0.630669     0.610217     0.683013   \n",
       "451      0.557180      0.427721      0.424337     0.743165     0.646961   \n",
       "\n",
       "     speed_z_std  speed_x_var  speed_y_var  speed_z_var  acceleration_x_mean  \\\n",
       "0       0.228115     0.033725     0.278079     0.117960             0.634645   \n",
       "1       0.288987     0.061547     0.539198     0.160442             0.629857   \n",
       "2       0.406950     0.035389     0.714657     0.255966             0.569069   \n",
       "3       0.289744     0.089126     0.677405     0.161000             0.569308   \n",
       "4       0.416971     0.104120     0.639091     0.264883             0.525644   \n",
       "..           ...          ...          ...          ...                  ...   \n",
       "447     0.564733     0.469370     0.450431     0.410954             0.565454   \n",
       "448     0.784959     0.660018     0.674004     0.679358             0.193487   \n",
       "449     0.659297     0.713306     0.521521     0.518771             0.566015   \n",
       "450     0.549585     0.407028     0.554703     0.394723             0.719122   \n",
       "451     0.627386     0.580111     0.511600     0.481137             1.000000   \n",
       "\n",
       "     ...  angle_yz_std  angle_zx_std  angle_xy_var  angle_yz_var  \\\n",
       "0    ...      0.003368      0.756304  3.752614e-08  1.177840e-05   \n",
       "1    ...      0.002544      0.001134  3.694148e-08  6.796111e-06   \n",
       "2    ...      0.009341      0.012684  3.435446e-08  8.844385e-05   \n",
       "3    ...      0.004557      0.078666  5.760615e-08  2.135138e-05   \n",
       "4    ...      0.000322      0.017650  2.731867e-08  1.450188e-07   \n",
       "..   ...           ...           ...           ...           ...   \n",
       "447  ...      0.001903      0.039045  2.745978e-08  3.866680e-06   \n",
       "448  ...      0.001069      0.023228  1.726272e-08  1.279767e-06   \n",
       "449  ...      0.004595      0.000948  3.475138e-08  2.170372e-05   \n",
       "450  ...      0.002221      0.000345  2.553394e-08  5.216654e-06   \n",
       "451  ...      0.009035      0.000225  2.032877e-08  8.277862e-05   \n",
       "\n",
       "     angle_zx_var   x_range   y_range   z_range  time_range  label  \n",
       "0    5.720003e-01  0.381103  0.520779  0.374957    0.655869  Happy  \n",
       "1    1.315873e-06  0.411809  0.495999  0.357224    0.562698  Happy  \n",
       "2    1.612095e-04  0.239818  0.534533  0.376747    0.406459  Happy  \n",
       "3    6.190146e-03  0.553378  0.773047  0.463515    0.562761  Happy  \n",
       "4    3.119616e-04  0.442502  0.490357  0.354136    0.406439  Happy  \n",
       "..            ...       ...       ...       ...         ...    ...  \n",
       "447  1.525463e-03  0.539263  0.363077  0.341919    0.375189   Fear  \n",
       "448  5.401046e-04  0.463823  0.349502  0.446573    0.250122   Fear  \n",
       "449  9.231695e-07  0.644867  0.414456  0.420453    0.312693   Fear  \n",
       "450  1.277886e-07  0.490802  0.457196  0.293255    0.250140   Fear  \n",
       "451  5.645483e-08  0.429729  0.343387  0.289187    0.234512   Fear  \n",
       "\n",
       "[452 rows x 41 columns]"
      ]
     },
     "execution_count": 5,
     "metadata": {},
     "output_type": "execute_result"
    }
   ],
   "source": [
    "#Removing the first column as it just contains index values\n",
    "robot_data_df = robot_data_df.iloc[:,1:]\n",
    "robot_data_df"
   ]
  },
  {
   "cell_type": "markdown",
   "metadata": {
    "id": "0jQF28kAYL6t"
   },
   "source": [
    "Splitting the data frame into two so that the \"x_data\" contains all the features required to train the model and \"y_data\" contains the label"
   ]
  },
  {
   "cell_type": "code",
   "execution_count": null,
   "metadata": {
    "id": "UVBhV7kQOkhH"
   },
   "outputs": [],
   "source": [
    "x_data = robot_data_df.iloc[:,:-1]\n",
    "y_data = robot_data_df.iloc[:,-1]"
   ]
  },
  {
   "cell_type": "markdown",
   "metadata": {
    "id": "Tgnl-FxlYhcW"
   },
   "source": [
    "Before training any model, a baseline model needs to be created and its accuracy noted, this helps to know how well the other trained models perform with regards to the baseline.\n",
    "\n",
    "\n",
    "The Baseline model chosen for this dataset is the Dummy classifier."
   ]
  },
  {
   "cell_type": "markdown",
   "metadata": {
    "id": "P0fRChYUO9N6"
   },
   "source": [
    "**Dummy Classifier**"
   ]
  },
  {
   "cell_type": "code",
   "execution_count": null,
   "metadata": {
    "id": "vmw5bPTHO-Uq"
   },
   "outputs": [],
   "source": [
    "#importing dummy classifier\n",
    "from sklearn.dummy import DummyClassifier"
   ]
  },
  {
   "cell_type": "markdown",
   "metadata": {
    "id": "Vuhh3V_WY4Tu"
   },
   "source": [
    "Training the dummy classifier and obtaining the accuracy of the predictions made with the model."
   ]
  },
  {
   "cell_type": "code",
   "execution_count": null,
   "metadata": {
    "colab": {
     "base_uri": "https://localhost:8080/"
    },
    "id": "Mcr_6BRaO-wN",
    "outputId": "51201071-636a-456c-874b-17ead4f52524"
   },
   "outputs": [
    {
     "data": {
      "text/plain": [
       "0.23076923076923078"
      ]
     },
     "execution_count": 16,
     "metadata": {},
     "output_type": "execute_result"
    }
   ],
   "source": [
    "#spliting the x_data and the y_data into train and test of 80%-20%\n",
    "dummy_x_train,dummy_x_test,dummy_y_train,dummy_y_test = train_test_split(x_data, y_data, train_size=0.80)\n",
    "\n",
    "#Creating the Dummy classifier\n",
    "dummy_clf = DummyClassifier(strategy=\"stratified\")\n",
    "\n",
    "#Training the model with train data and label\n",
    "dummy_clf.fit(dummy_x_train,dummy_y_train)\n",
    "\n",
    "#Predicting the labels of test data\n",
    "dummy_preds=dummy_clf.predict(dummy_x_test)\n",
    "\n",
    "#Finding accuracy with respect to test labels\n",
    "dummy_accuracy = sklearn.metrics.accuracy_score(dummy_y_test, dummy_preds)\n",
    "dummy_accuracy"
   ]
  },
  {
   "cell_type": "markdown",
   "metadata": {
    "id": "az6XKFa2apXk"
   },
   "source": [
    "From the above we have got the baseline accuracy as 23%. The next steps is to create machine learning models that will achieve performance more that the set baseline accuracy."
   ]
  },
  {
   "cell_type": "markdown",
   "metadata": {
    "id": "e_c2NgnqVtWS"
   },
   "source": [
    "**Creating Train and Test Data Set**:\n",
    "\n",
    "Creating the train and test data set from the x_data and y_data to use in all model trainings. The split is made as 80% train data and 20% test data from the entire 452 records data frame. \n",
    "\n",
    "The data is split randomly each time the command is done."
   ]
  },
  {
   "cell_type": "code",
   "execution_count": null,
   "metadata": {
    "id": "QmwpXDl2QNjK"
   },
   "outputs": [],
   "source": [
    "x_train,x_test,y_train,y_test = train_test_split(x_data, y_data, train_size=0.80)"
   ]
  },
  {
   "cell_type": "markdown",
   "metadata": {
    "id": "8KwZDF9lVwvI"
   },
   "source": [
    "**Analysis of Data**\n",
    "\n",
    "Once the data is split into train and test data, the data is analysed to see the different counts of records per emotion."
   ]
  },
  {
   "cell_type": "markdown",
   "metadata": {
    "id": "5EXrImrWVz8z"
   },
   "source": [
    "Emotion Data distribution in entire data set"
   ]
  },
  {
   "cell_type": "code",
   "execution_count": null,
   "metadata": {
    "colab": {
     "base_uri": "https://localhost:8080/",
     "height": 370
    },
    "id": "dXSDLgDLVycA",
    "outputId": "32eeb46b-9cfc-4819-8893-4c7b27b1c893"
   },
   "outputs": [
    {
     "data": {
      "image/png": "[encoded data removed]",
      "text/plain": [
       "<Figure size 720x360 with 1 Axes>"
      ]
     },
     "metadata": {
      "needs_background": "light"
     },
     "output_type": "display_data"
    }
   ],
   "source": [
    "x_labels = []\n",
    "\n",
    "#getting the count of records for each emotion from entire data set\n",
    "count_label = robot_data_df.groupby(by='label')\n",
    "data_size = count_label.size()\n",
    "for k,v in count_label:\n",
    "  x_labels.append(k)\n",
    "\n",
    "x_axis_len = np.arange(len(count_label))\n",
    "\n",
    "#plotting a bar chart to represent the count per emotion\n",
    "plt.figure(figsize=(10,5))\n",
    "plt.suptitle('Count of each label in entire data set')\n",
    "plt.xlabel('Emotion Labels')\n",
    "plt.ylabel('Count of records')\n",
    "plt.bar(x_axis_len +0.0,data_size,width=0.2,label='Data Set')\n",
    "plt.xticks(x_axis_len,x_labels)\n",
    "plt.legend()\n",
    "plt.show()"
   ]
  },
  {
   "cell_type": "code",
   "execution_count": null,
   "metadata": {
    "colab": {
     "base_uri": "https://localhost:8080/"
    },
    "id": "_cuEWPwOICCD",
    "outputId": "9fd69d75-6d0c-4a53-d285-17030a4d1dee"
   },
   "outputs": [
    {
     "data": {
      "text/plain": [
       "Angry    145\n",
       "Fear     131\n",
       "Happy     88\n",
       "Sad       88\n",
       "Name: label, dtype: int64"
      ]
     },
     "execution_count": 8,
     "metadata": {},
     "output_type": "execute_result"
    }
   ],
   "source": [
    "robot_data_df['label'].value_counts()"
   ]
  },
  {
   "cell_type": "markdown",
   "metadata": {
    "id": "4UmJ4qlIb_ly"
   },
   "source": [
    "From above, it can be seen that the number of records per emotion is not the same. Hence the data set is unbalanced. \n",
    "\n",
    "This inequality in data can be attributed to the fact that the participants when feelings the emotions of anger and fear, moved in a distorted manner to display their emotion. Hence the speed at which the task was performed increased and hence more number of tasks was performed with these emotions than the other two."
   ]
  },
  {
   "cell_type": "markdown",
   "metadata": {
    "id": "XMEN8PYcWCo9"
   },
   "source": [
    "Emotion data distribution in train and test set"
   ]
  },
  {
   "cell_type": "code",
   "execution_count": null,
   "metadata": {
    "id": "2ilDJeP0WGop"
   },
   "outputs": [],
   "source": [
    "import collections"
   ]
  },
  {
   "cell_type": "code",
   "execution_count": null,
   "metadata": {
    "colab": {
     "base_uri": "https://localhost:8080/",
     "height": 320
    },
    "id": "QdG7p9ZcWIc0",
    "outputId": "4438b5f8-0a56-4afa-d6fa-d826afda7f70"
   },
   "outputs": [
    {
     "data": {
      "image/png": "[encoded data removed]",
      "text/plain": [
       "<Figure size 1800x360 with 1 Axes>"
      ]
     },
     "metadata": {
      "needs_background": "light"
     },
     "output_type": "display_data"
    }
   ],
   "source": [
    "#using counter to count of individual emotion label count in train and test data set\n",
    "count_train = collections.Counter(y_train)\n",
    "count_test = collections.Counter(y_test)\n",
    "\n",
    "#Plotting a graph based on the counts\n",
    "plt.figure(figsize=(25,5))\n",
    "plt.suptitle('Count of each label in each data set')\n",
    "plt.xlabel('Emotion Labels')\n",
    "plt.ylabel('Count of records')\n",
    "plt.bar(np.arange(len(count_train))+0.0,count_train.values(),width=0.2,label='Train Set')\n",
    "plt.bar(np.arange(len(count_test))+0.2,count_test.values(),width=0.2,label='Test Set')\n",
    "plt.xticks(x_axis_len,x_labels)\n",
    "plt.legend()\n",
    "plt.show()"
   ]
  },
  {
   "cell_type": "markdown",
   "metadata": {
    "id": "-Vsmzqvsc2VM"
   },
   "source": [
    "From the above plot, it can be seen that, similar to the entire data set, the train and test set also have an unbalanced number of records per emotion. \n",
    "\n",
    "The number of records for Angry and Fear in the train data set is higher than Happy and Sad. This in a way is useful as the tasks performed by the participants while displaying Angry and Fear emotions varied hugely when compared from one participant to another. \n",
    "\n",
    "Hence the model has to be trained more on these two emotions so that the it can learn to classify these emotions better."
   ]
  },
  {
   "cell_type": "markdown",
   "metadata": {
    "id": "g3ZrERjRPjl5"
   },
   "source": [
    "**KNN Model**"
   ]
  },
  {
   "cell_type": "markdown",
   "metadata": {
    "id": "mmUbYHhRdirk"
   },
   "source": [
    "KNN model is a supervised machine learning model. It is a simple classification model that uses the concept of nearest neighbours and euclidean distance to classify the data into their specific labels."
   ]
  },
  {
   "cell_type": "markdown",
   "metadata": {
    "id": "Ijh83OFcdxpn"
   },
   "source": [
    "In order to build a KNN classifier, the value of K needs to be determined. This can be done as follows:"
   ]
  },
  {
   "cell_type": "markdown",
   "metadata": {
    "id": "GFBLGAu1Snya"
   },
   "source": [
    "Determining K value"
   ]
  },
  {
   "cell_type": "code",
   "execution_count": null,
   "metadata": {
    "colab": {
     "base_uri": "https://localhost:8080/"
    },
    "id": "8BGBg6deSsvE",
    "outputId": "878b3034-b5cf-40cb-dbcd-503bb9eb3667"
   },
   "outputs": [
    {
     "name": "stdout",
     "output_type": "stream",
     "text": [
      "     K  Test Score  Train Score\n",
      "0    1    0.692308     1.000000\n",
      "1    2    0.692308     0.772853\n",
      "2    3    0.637363     0.775623\n",
      "3    4    0.637363     0.736842\n",
      "4    5    0.648352     0.689751\n",
      "5    6    0.659341     0.700831\n",
      "6    7    0.648352     0.686981\n",
      "7    8    0.659341     0.667590\n",
      "8    9    0.648352     0.670360\n",
      "9   10    0.670330     0.659280\n",
      "10  11    0.714286     0.664820\n",
      "11  12    0.703297     0.634349\n",
      "12  13    0.681319     0.639889\n",
      "13  14    0.648352     0.637119\n",
      "14  15    0.637363     0.639889\n"
     ]
    }
   ],
   "source": [
    "knn_acc_list = []\n",
    "\n",
    "#Looping through 15times to train and test the model of knn to determine which value of k gives the better train and Test score\n",
    "for i in range(1,16,1):\n",
    "    knn = KNeighborsClassifier(n_neighbors=i)\n",
    "    knn.fit(x_train,y_train)\n",
    "    test_score = knn.score(x_test,y_test)\n",
    "    train_score = knn.score(x_train,y_train)\n",
    "    knn_acc_list.append((i, test_score ,train_score))\n",
    "df = pd.DataFrame(knn_acc_list, columns=['K','Test Score','Train Score'])\n",
    "print(df)"
   ]
  },
  {
   "cell_type": "markdown",
   "metadata": {
    "id": "_SYGE8CHeGT9"
   },
   "source": [
    "From the above it can be seen that, for the value of K=11, the model has a better train and test score. Using this value to build the model will result in a better classifier."
   ]
  },
  {
   "cell_type": "code",
   "execution_count": null,
   "metadata": {
    "colab": {
     "base_uri": "https://localhost:8080/",
     "height": 295
    },
    "id": "gaRmUsKuTGhi",
    "outputId": "c5f248a2-cc8a-4995-8141-d07a2763e304"
   },
   "outputs": [
    {
     "data": {
      "image/png": "[encoded data removed]",
      "text/plain": [
       "<Figure size 432x288 with 1 Axes>"
      ]
     },
     "metadata": {
      "needs_background": "light"
     },
     "output_type": "display_data"
    }
   ],
   "source": [
    "#Graph to show the graph of the K value for train set\n",
    "plt.plot(df['K'],df['Train Score'])\n",
    "plt.title(\"K value\")\n",
    "plt.xlabel(\"K value\")\n",
    "plt.xticks(range(1,17))\n",
    "plt.ylabel(\"Train Score\")\n",
    "plt.show()"
   ]
  },
  {
   "cell_type": "markdown",
   "metadata": {
    "id": "_G-1nr3keXke"
   },
   "source": [
    "Building the model"
   ]
  },
  {
   "cell_type": "code",
   "execution_count": null,
   "metadata": {
    "id": "dlOJ6hziPOcA"
   },
   "outputs": [],
   "source": [
    "#Training the model based on the K value determined and testing it against the test labels\n",
    "knn_model = KNeighborsClassifier(n_neighbors=11)\n",
    "knn_model.fit(x_train,y_train)\n",
    "knn_predictions = knn_model.predict(x_test)\n",
    "accuracy = sklearn.metrics.accuracy_score(y_test, knn_predictions)"
   ]
  },
  {
   "cell_type": "code",
   "execution_count": null,
   "metadata": {
    "colab": {
     "base_uri": "https://localhost:8080/"
    },
    "id": "w4p21eAhPmqN",
    "outputId": "74757c0e-0985-4573-8b61-83f13278a749"
   },
   "outputs": [
    {
     "data": {
      "text/plain": [
       "0.7142857142857143"
      ]
     },
     "execution_count": 112,
     "metadata": {},
     "output_type": "execute_result"
    }
   ],
   "source": [
    "accuracy"
   ]
  },
  {
   "cell_type": "markdown",
   "metadata": {
    "id": "VM8Us3eOejsP"
   },
   "source": [
    "The KNN Classifier provides an accuracy of **71%** for the train and test data set used."
   ]
  },
  {
   "cell_type": "markdown",
   "metadata": {
    "id": "Lr6xAVJ3P5cN"
   },
   "source": [
    "**SVM Model**"
   ]
  },
  {
   "cell_type": "markdown",
   "metadata": {
    "id": "QLdaGIb8euwN"
   },
   "source": [
    "SVM Model is naother supervised learning model. It uses the concept of hyper planes to classify the data.\n",
    "\n",
    "Inorder to build a better SVM model, the kernel for the SVM needs to be chosen. there are various types of Kernels, but the most common one is the RBF. RBF works well for non linear data set."
   ]
  },
  {
   "cell_type": "markdown",
   "metadata": {
    "id": "OA4vnZZPfBgJ"
   },
   "source": [
    "In order to train the model in a better way, the values of C and gamma need to be initialised. \n",
    "\n",
    "C - regularization parameter (penalty). Obtaining an intermediate value of C results in a better performing model\n",
    "\n",
    "Gamma - determines the impact of one training record.\n",
    "\n",
    "To determine the values of C and Gamma, the GridSearch CV was used."
   ]
  },
  {
   "cell_type": "code",
   "execution_count": null,
   "metadata": {
    "id": "wXturoSdYpnp"
   },
   "outputs": [],
   "source": [
    "from sklearn.model_selection import GridSearchCV"
   ]
  },
  {
   "cell_type": "code",
   "execution_count": null,
   "metadata": {
    "id": "D4nIUmlKYsh1"
   },
   "outputs": [],
   "source": [
    "#setting the range for C and gamma\n",
    "C_range = np.logspace(-7, 7, 15)\n",
    "gamma_range = np.logspace(-7, 7, 15)"
   ]
  },
  {
   "cell_type": "code",
   "execution_count": null,
   "metadata": {
    "id": "-VZbVzvtYtkj"
   },
   "outputs": [],
   "source": [
    "params_grid = dict(gamma=gamma_range, C=C_range)"
   ]
  },
  {
   "cell_type": "code",
   "execution_count": null,
   "metadata": {
    "colab": {
     "base_uri": "https://localhost:8080/"
    },
    "id": "YICqhMsYY3xG",
    "outputId": "ac6ed714-ec3a-4712-a5fb-69d38f6e42e0"
   },
   "outputs": [
    {
     "data": {
      "text/plain": [
       "GridSearchCV(cv=7, estimator=SVC(),\n",
       "             param_grid={'C': array([1.e-07, 1.e-06, 1.e-05, 1.e-04, 1.e-03, 1.e-02, 1.e-01, 1.e+00,\n",
       "       1.e+01, 1.e+02, 1.e+03, 1.e+04, 1.e+05, 1.e+06, 1.e+07]),\n",
       "                         'gamma': array([1.e-07, 1.e-06, 1.e-05, 1.e-04, 1.e-03, 1.e-02, 1.e-01, 1.e+00,\n",
       "       1.e+01, 1.e+02, 1.e+03, 1.e+04, 1.e+05, 1.e+06, 1.e+07])})"
      ]
     },
     "execution_count": 288,
     "metadata": {},
     "output_type": "execute_result"
    }
   ],
   "source": [
    "#Creating a 7 fold GridSearch CV to determine the best values for the hyper-parameters\n",
    "grid = GridSearchCV(SVC(kernel='rbf'), param_grid=params_grid, cv=7)\n",
    "grid.fit(x_train,y_train)"
   ]
  },
  {
   "cell_type": "code",
   "execution_count": null,
   "metadata": {
    "colab": {
     "base_uri": "https://localhost:8080/"
    },
    "id": "5Y7tPUvVY_oM",
    "outputId": "9f97d837-1c22-40e7-cb61-c7470488ff39"
   },
   "outputs": [
    {
     "name": "stdout",
     "output_type": "stream",
     "text": [
      "The best parameters are {'C': 10.0, 'gamma': 1.0} with a score of 0.58\n"
     ]
    }
   ],
   "source": [
    "print(\n",
    "    \"The best parameters are %s with a score of %0.2f\"\n",
    "    % (grid.best_params_, grid.best_score_)\n",
    ")"
   ]
  },
  {
   "cell_type": "markdown",
   "metadata": {
    "id": "l5EraXUlgBXF"
   },
   "source": [
    "Using the best parameters obtained, the SVM RBF model is trained and tested"
   ]
  },
  {
   "cell_type": "code",
   "execution_count": null,
   "metadata": {
    "colab": {
     "base_uri": "https://localhost:8080/"
    },
    "id": "4Asdx5vVPpG1",
    "outputId": "4d13d7de-c77f-4003-de9a-1ca201fad95b"
   },
   "outputs": [
    {
     "data": {
      "text/plain": [
       "0.6263736263736264"
      ]
     },
     "execution_count": 291,
     "metadata": {},
     "output_type": "execute_result"
    }
   ],
   "source": [
    "svm_model = SVC(kernel='rbf',gamma=1.0, C=10.0)\n",
    "svm_model.fit(x_train,y_train)\n",
    "svm_predictions = svm_model.predict(x_test)\n",
    "accuracy = sklearn.metrics.accuracy_score(y_test, svm_predictions)\n",
    "accuracy"
   ]
  },
  {
   "cell_type": "markdown",
   "metadata": {
    "id": "g6D_3F4hgIQm"
   },
   "source": [
    "The SVM model has accuracy of **63%** for the train and test data being used."
   ]
  },
  {
   "cell_type": "markdown",
   "metadata": {
    "id": "G8SkKP4wQXu-"
   },
   "source": [
    "**Random Forest**"
   ]
  },
  {
   "cell_type": "markdown",
   "metadata": {
    "id": "3m6ORo-dhIpd"
   },
   "source": [
    "The Random forest model is another supervised learning model. This model uses the concepts of decision trees to make predictions of the labels.\n",
    "\n",
    "The trees are radonly created each time the model is trained hence the accuracy of the model changes for every single run.\n",
    "\n",
    "The important hyper-parameter associated with this model is the n-estimators."
   ]
  },
  {
   "cell_type": "code",
   "execution_count": null,
   "metadata": {
    "colab": {
     "base_uri": "https://localhost:8080/"
    },
    "id": "w3x24V3XQIqQ",
    "outputId": "cc10c34c-4c11-48f9-cea3-cf2aafd77c53"
   },
   "outputs": [
    {
     "data": {
      "text/plain": [
       "0.6813186813186813"
      ]
     },
     "execution_count": 295,
     "metadata": {},
     "output_type": "execute_result"
    }
   ],
   "source": [
    "#model is trained with 100 n-estimaters and predicted for test labels\n",
    "rf_model = RandomForestClassifier(n_estimators=100)\n",
    "rf_model.fit(x_train,y_train)\n",
    "rf_predictions = rf_model.predict(x_test)\n",
    "accuracy = sklearn.metrics.accuracy_score(y_test, rf_predictions)\n",
    "accuracy"
   ]
  },
  {
   "cell_type": "markdown",
   "metadata": {
    "id": "cdyak9A8hnIi"
   },
   "source": [
    "The accuracy obtained from the Random forest model is **68%**"
   ]
  },
  {
   "cell_type": "markdown",
   "metadata": {
    "id": "Wov6tna6QlqV"
   },
   "source": [
    "**MLP Classifier**"
   ]
  },
  {
   "cell_type": "markdown",
   "metadata": {
    "id": "o0EScxaehxf1"
   },
   "source": [
    "MLP classifiers are Neural Networks. they work well with statistical data and classification and regression type of problems unlike CNN and RNN which require image data and sequential data respectively."
   ]
  },
  {
   "cell_type": "markdown",
   "metadata": {
    "id": "upFGrRBZh-Yi"
   },
   "source": [
    "There are various hyper-parameters associated with building a MLP model. the chosen hyper parameters are:\n",
    "\n",
    "Hidden layer size, initial learning rate, alpha, random state and max_iters.\n",
    "\n",
    "The values for these parameters are chosen through a 5-fold GridSearch CV"
   ]
  },
  {
   "cell_type": "code",
   "execution_count": null,
   "metadata": {
    "id": "aLfvxln4FXoz"
   },
   "outputs": [],
   "source": [
    "#A MLP classifier model is created with epoch size 1000\n",
    "cv_clf=MLPClassifier(max_iter=1000)"
   ]
  },
  {
   "cell_type": "markdown",
   "metadata": {
    "id": "CLLHOkU8idS6"
   },
   "source": [
    "The parameters for the Gridsearch CV are set and fitted against the train data to obtain best values for the hyper-parameters"
   ]
  },
  {
   "cell_type": "code",
   "execution_count": null,
   "metadata": {
    "colab": {
     "base_uri": "https://localhost:8080/"
    },
    "id": "SuWwfoPOFWGR",
    "outputId": "da7a95df-c9b9-42bc-b4f6-b67587c6fe8e"
   },
   "outputs": [
    {
     "name": "stdout",
     "output_type": "stream",
     "text": [
      "Fitting 5 folds for each of 450 candidates, totalling 2250 fits\n"
     ]
    },
    {
     "data": {
      "text/plain": [
       "GridSearchCV(cv=5,\n",
       "             estimator=MLPClassifier(alpha=0.01, max_iter=1000, random_state=1),\n",
       "             param_grid={'alpha': array([1.e-02, 1.e-01, 1.e+00, 1.e+01, 1.e+02]),\n",
       "                         'hidden_layer_sizes': [(100, 100, 100),\n",
       "                                                (100, 100, 150)],\n",
       "                         'learning_rate_init': array([1.e-02, 1.e-01, 1.e+00, 1.e+01, 1.e+02]),\n",
       "                         'random_state': array([1, 2, 3, 4, 5, 6, 7, 8, 9])},\n",
       "             verbose=1)"
      ]
     },
     "execution_count": 584,
     "metadata": {},
     "output_type": "execute_result"
    }
   ],
   "source": [
    "params = {\n",
    "    'hidden_layer_sizes' : [(100, 100, 100), (100, 100, 150)], \n",
    "    'learning_rate_init' : np.logspace(-2,2,5),\n",
    "    'alpha' : np.logspace(-2,2,5),\n",
    "    'random_state': np.arange(1,10,1)\n",
    "}\n",
    "mlp_grid = GridSearchCV(cv_clf, params, verbose=1,cv=5)\n",
    "mlp_grid.fit(x_train, y_train)"
   ]
  },
  {
   "cell_type": "code",
   "execution_count": null,
   "metadata": {
    "colab": {
     "base_uri": "https://localhost:8080/"
    },
    "id": "9bmpMVBWFsIj",
    "outputId": "824baba8-c756-4489-fc19-24a4ea2efb83"
   },
   "outputs": [
    {
     "name": "stdout",
     "output_type": "stream",
     "text": [
      "Best Score:  0.5873668188736682\n",
      "Best Parameters:  {'alpha': 0.01, 'hidden_layer_sizes': (100, 100, 100), 'learning_rate_init': 0.01, 'random_state': 5}\n"
     ]
    }
   ],
   "source": [
    "print('Best Score: ',mlp_grid.best_score_)\n",
    "print('Best Parameters: ',mlp_grid.best_params_) "
   ]
  },
  {
   "cell_type": "markdown",
   "metadata": {
    "id": "-BpvgNUvinJv"
   },
   "source": [
    "From the best values obtained, the model is trained and tested against the labels."
   ]
  },
  {
   "cell_type": "code",
   "execution_count": null,
   "metadata": {
    "id": "3QMbrxrRQfUM"
   },
   "outputs": [],
   "source": [
    "clf = MLPClassifier(hidden_layer_sizes=(100,100,100),\n",
    "                    random_state=5,max_iter=1000,\n",
    "                    verbose=True,alpha=0.01,\n",
    "                    learning_rate_init=0.01)"
   ]
  },
  {
   "cell_type": "code",
   "execution_count": null,
   "metadata": {
    "colab": {
     "base_uri": "https://localhost:8080/"
    },
    "id": "2tDiUFILQrqg",
    "outputId": "056dcdf4-0e8c-4054-8716-4be714e20393"
   },
   "outputs": [
    {
     "name": "stdout",
     "output_type": "stream",
     "text": [
      "Iteration 1, loss = 1.49118541\n",
      "Iteration 2, loss = 1.36939914\n",
      "Iteration 3, loss = 1.34575448\n",
      "Iteration 4, loss = 1.32146293\n",
      "Iteration 5, loss = 1.29706841\n",
      "Iteration 6, loss = 1.26397035\n",
      "Iteration 7, loss = 1.24885833\n",
      "Iteration 8, loss = 1.22597816\n",
      "Iteration 9, loss = 1.20523716\n",
      "Iteration 10, loss = 1.19436883\n",
      "Iteration 11, loss = 1.16486887\n",
      "Iteration 12, loss = 1.19037329\n",
      "Iteration 13, loss = 1.15163028\n",
      "Iteration 14, loss = 1.15237044\n",
      "Iteration 15, loss = 1.12457791\n",
      "Iteration 16, loss = 1.11391193\n",
      "Iteration 17, loss = 1.08229704\n",
      "Iteration 18, loss = 1.06660301\n",
      "Iteration 19, loss = 1.05163547\n",
      "Iteration 20, loss = 1.02330292\n",
      "Iteration 21, loss = 0.99992931\n",
      "Iteration 22, loss = 0.98680147\n",
      "Iteration 23, loss = 0.98746660\n",
      "Iteration 24, loss = 1.00850148\n",
      "Iteration 25, loss = 0.95782392\n",
      "Iteration 26, loss = 0.95941928\n",
      "Iteration 27, loss = 0.90816982\n",
      "Iteration 28, loss = 0.88616293\n",
      "Iteration 29, loss = 0.85747706\n",
      "Iteration 30, loss = 0.84222543\n",
      "Iteration 31, loss = 0.83645709\n",
      "Iteration 32, loss = 0.78233796\n",
      "Iteration 33, loss = 0.81460538\n",
      "Iteration 34, loss = 0.83642417\n",
      "Iteration 35, loss = 0.79685228\n",
      "Iteration 36, loss = 0.78505650\n",
      "Iteration 37, loss = 0.74611995\n",
      "Iteration 38, loss = 0.77030937\n",
      "Iteration 39, loss = 0.73450061\n",
      "Iteration 40, loss = 0.71748506\n",
      "Iteration 41, loss = 0.69064312\n",
      "Iteration 42, loss = 0.68895147\n",
      "Iteration 43, loss = 0.64516103\n",
      "Iteration 44, loss = 0.65067774\n",
      "Iteration 45, loss = 0.65573713\n",
      "Iteration 46, loss = 0.61638993\n",
      "Iteration 47, loss = 0.60579845\n",
      "Iteration 48, loss = 0.62363549\n",
      "Iteration 49, loss = 0.65292879\n",
      "Iteration 50, loss = 0.69181974\n",
      "Iteration 51, loss = 0.57057395\n",
      "Iteration 52, loss = 0.57254092\n",
      "Iteration 53, loss = 0.56141004\n",
      "Iteration 54, loss = 0.55535739\n",
      "Iteration 55, loss = 0.56944785\n",
      "Iteration 56, loss = 0.52872246\n",
      "Iteration 57, loss = 0.55170731\n",
      "Iteration 58, loss = 0.51474643\n",
      "Iteration 59, loss = 0.52579342\n",
      "Iteration 60, loss = 0.53268541\n",
      "Iteration 61, loss = 0.50524687\n",
      "Iteration 62, loss = 0.48502577\n",
      "Iteration 63, loss = 0.50790736\n",
      "Iteration 64, loss = 0.44846527\n",
      "Iteration 65, loss = 0.45290813\n",
      "Iteration 66, loss = 0.51506723\n",
      "Iteration 67, loss = 0.54567198\n",
      "Iteration 68, loss = 0.48466004\n",
      "Iteration 69, loss = 0.48439840\n",
      "Iteration 70, loss = 0.43613038\n",
      "Iteration 71, loss = 0.44177429\n",
      "Iteration 72, loss = 0.40259274\n",
      "Iteration 73, loss = 0.42540325\n",
      "Iteration 74, loss = 0.39147420\n",
      "Iteration 75, loss = 0.36868649\n",
      "Iteration 76, loss = 0.39553822\n",
      "Iteration 77, loss = 0.37467333\n",
      "Iteration 78, loss = 0.34021931\n",
      "Iteration 79, loss = 0.34895592\n",
      "Iteration 80, loss = 0.32467367\n",
      "Iteration 81, loss = 0.35505809\n",
      "Iteration 82, loss = 0.31757126\n",
      "Iteration 83, loss = 0.31480537\n",
      "Iteration 84, loss = 0.31021561\n",
      "Iteration 85, loss = 0.28640746\n",
      "Iteration 86, loss = 0.29871994\n",
      "Iteration 87, loss = 0.31820384\n",
      "Iteration 88, loss = 0.34918918\n",
      "Iteration 89, loss = 0.30043735\n",
      "Iteration 90, loss = 0.27808445\n",
      "Iteration 91, loss = 0.27978750\n",
      "Iteration 92, loss = 0.27002234\n",
      "Iteration 93, loss = 0.27928486\n",
      "Iteration 94, loss = 0.30226689\n",
      "Iteration 95, loss = 0.32129489\n",
      "Iteration 96, loss = 0.31813229\n",
      "Iteration 97, loss = 0.30718279\n",
      "Iteration 98, loss = 0.27554738\n",
      "Iteration 99, loss = 0.28017200\n",
      "Iteration 100, loss = 0.25172774\n",
      "Iteration 101, loss = 0.25080688\n",
      "Iteration 102, loss = 0.25785039\n",
      "Iteration 103, loss = 0.24541606\n",
      "Iteration 104, loss = 0.29748847\n",
      "Iteration 105, loss = 0.51626590\n",
      "Iteration 106, loss = 0.38382677\n",
      "Iteration 107, loss = 0.33064871\n",
      "Iteration 108, loss = 0.33172631\n",
      "Iteration 109, loss = 0.29359987\n",
      "Iteration 110, loss = 0.29846215\n",
      "Iteration 111, loss = 0.31490581\n",
      "Iteration 112, loss = 0.26365329\n",
      "Iteration 113, loss = 0.24464613\n",
      "Iteration 114, loss = 0.22923706\n",
      "Iteration 115, loss = 0.23953752\n",
      "Iteration 116, loss = 0.19148260\n",
      "Iteration 117, loss = 0.20027126\n",
      "Iteration 118, loss = 0.19355172\n",
      "Iteration 119, loss = 0.17954052\n",
      "Iteration 120, loss = 0.17192969\n",
      "Iteration 121, loss = 0.17100249\n",
      "Iteration 122, loss = 0.14899160\n",
      "Iteration 123, loss = 0.15176343\n",
      "Iteration 124, loss = 0.14460841\n",
      "Iteration 125, loss = 0.14036463\n",
      "Iteration 126, loss = 0.13689423\n",
      "Iteration 127, loss = 0.13547195\n",
      "Iteration 128, loss = 0.12468851\n",
      "Iteration 129, loss = 0.12089471\n",
      "Iteration 130, loss = 0.12048104\n",
      "Iteration 131, loss = 0.11830950\n",
      "Iteration 132, loss = 0.11114898\n",
      "Iteration 133, loss = 0.11048615\n",
      "Iteration 134, loss = 0.10728097\n",
      "Iteration 135, loss = 0.11164200\n",
      "Iteration 136, loss = 0.11908459\n",
      "Iteration 137, loss = 0.13153499\n",
      "Iteration 138, loss = 0.14386890\n",
      "Iteration 139, loss = 0.12170563\n",
      "Iteration 140, loss = 0.10842863\n",
      "Iteration 141, loss = 0.10389505\n",
      "Iteration 142, loss = 0.11884860\n",
      "Iteration 143, loss = 0.11074806\n",
      "Iteration 144, loss = 0.11495632\n",
      "Iteration 145, loss = 0.09895023\n",
      "Iteration 146, loss = 0.09561768\n",
      "Iteration 147, loss = 0.09539368\n",
      "Iteration 148, loss = 0.09417507\n",
      "Iteration 149, loss = 0.08861057\n",
      "Iteration 150, loss = 0.08039294\n",
      "Iteration 151, loss = 0.07824566\n",
      "Iteration 152, loss = 0.08108854\n",
      "Iteration 153, loss = 0.07773857\n",
      "Iteration 154, loss = 0.07304772\n",
      "Iteration 155, loss = 0.07043989\n",
      "Iteration 156, loss = 0.06569535\n",
      "Iteration 157, loss = 0.06335823\n",
      "Iteration 158, loss = 0.06245838\n",
      "Iteration 159, loss = 0.06157241\n",
      "Iteration 160, loss = 0.06886058\n",
      "Iteration 161, loss = 0.06696128\n",
      "Iteration 162, loss = 0.07692037\n",
      "Iteration 163, loss = 0.07876150\n",
      "Iteration 164, loss = 0.08143853\n",
      "Iteration 165, loss = 0.08706738\n",
      "Iteration 166, loss = 0.08571217\n",
      "Iteration 167, loss = 0.07953229\n",
      "Iteration 168, loss = 0.07252535\n",
      "Iteration 169, loss = 0.07716618\n",
      "Iteration 170, loss = 0.06825568\n",
      "Training loss did not improve more than tol=0.000100 for 10 consecutive epochs. Stopping.\n"
     ]
    },
    {
     "data": {
      "text/plain": [
       "MLPClassifier(alpha=0.01, hidden_layer_sizes=(100, 100, 100),\n",
       "              learning_rate_init=0.01, max_iter=1000, random_state=5,\n",
       "              verbose=True)"
      ]
     },
     "execution_count": 591,
     "metadata": {},
     "output_type": "execute_result"
    }
   ],
   "source": [
    "clf.fit(x_train, y_train)"
   ]
  },
  {
   "cell_type": "code",
   "execution_count": null,
   "metadata": {
    "id": "gTes2VTzQtYd"
   },
   "outputs": [],
   "source": [
    "clf_pred=clf.predict(x_test)"
   ]
  },
  {
   "cell_type": "code",
   "execution_count": null,
   "metadata": {
    "colab": {
     "base_uri": "https://localhost:8080/"
    },
    "id": "WnFY09hQQyVC",
    "outputId": "903a6a0e-c18a-4769-ea36-fe05ea1a934e"
   },
   "outputs": [
    {
     "data": {
      "text/plain": [
       "0.6483516483516484"
      ]
     },
     "execution_count": 593,
     "metadata": {},
     "output_type": "execute_result"
    }
   ],
   "source": [
    "accuracy_score(y_test,clf_pred)"
   ]
  },
  {
   "cell_type": "markdown",
   "metadata": {
    "id": "5BVvh7wPiuEF"
   },
   "source": [
    "The MLP model has an accuracy of **64%** for the train and test data set"
   ]
  },
  {
   "cell_type": "markdown",
   "metadata": {
    "id": "OEXvnD37TUzk"
   },
   "source": [
    "### Evaluation"
   ]
  },
  {
   "cell_type": "markdown",
   "metadata": {
    "id": "IHf6REmAjZlZ"
   },
   "source": [
    "After training the models, they were evaluated against each other to determine the best performing model amongst the 4 chosen models."
   ]
  },
  {
   "cell_type": "markdown",
   "metadata": {
    "id": "0O0VXTJTjqr2"
   },
   "source": [
    "Since the accuracy of the KNN model was highest, the number of correctly redicted and incorrectly predicted labels was determined."
   ]
  },
  {
   "cell_type": "code",
   "execution_count": null,
   "metadata": {
    "colab": {
     "base_uri": "https://localhost:8080/",
     "height": 353
    },
    "id": "aEJIfL-OQ1_G",
    "outputId": "3bfb957f-0b06-4bb9-8eee-786beec27ac8"
   },
   "outputs": [
    {
     "name": "stdout",
     "output_type": "stream",
     "text": [
      "Predicted Labels match with actual labels:  65\n",
      "Predicted labels not match with actual labels:  26\n"
     ]
    },
    {
     "data": {
      "image/png": "[encoded data removed]",
      "text/plain": [
       "<Figure size 720x360 with 1 Axes>"
      ]
     },
     "metadata": {},
     "output_type": "display_data"
    }
   ],
   "source": [
    "true_count=0\n",
    "false_count=0\n",
    "\n",
    "#get teh count of correctly predicted labels\n",
    "for i,v in enumerate(y_test):\n",
    "  if v== knn_predictions[i]:\n",
    "    true_count+=1\n",
    "  else:\n",
    "    false_count+=1\n",
    "print('Predicted Labels match with actual labels: ',true_count)\n",
    "print('Predicted labels not match with actual labels: ',false_count)\n",
    "\n",
    "#Plotting pie chart for the same\n",
    "value =[true_count,false_count]\n",
    "labels=['Match','Not-Match']\n",
    "plt.figure(figsize=(10,5))\n",
    "plt.pie(value,labels=labels,autopct='%1.0f%%',shadow=True,explode=[0,0.1],startangle=90,)\n",
    "plt.title('Predicted labels vs actual labels')\n",
    "plt.show()"
   ]
  },
  {
   "cell_type": "markdown",
   "metadata": {
    "id": "-YtN9iSxj8JC"
   },
   "source": [
    "To evaluate the models even further, the Confusion matrix, Precison, recall, f1 scores and accuracy was used."
   ]
  },
  {
   "cell_type": "markdown",
   "metadata": {
    "id": "MmEWg7QukJYC"
   },
   "source": [
    "Importing the libraries neccesary to perform evaluation"
   ]
  },
  {
   "cell_type": "code",
   "execution_count": null,
   "metadata": {
    "id": "xojw0ovpTYfA"
   },
   "outputs": [],
   "source": [
    "from sklearn.metrics import classification_report\n",
    "from sklearn.metrics import confusion_matrix\n",
    "from sklearn.metrics import precision_score\n",
    "from sklearn.metrics import recall_score\n",
    "from sklearn.metrics import accuracy_score\n",
    "from sklearn.metrics import fbeta_score"
   ]
  },
  {
   "cell_type": "markdown",
   "metadata": {
    "id": "5ajfK0sGkTRo"
   },
   "source": [
    "Creating a function to produce the classification report for the model"
   ]
  },
  {
   "cell_type": "code",
   "execution_count": null,
   "metadata": {
    "id": "veiZC9z3Tcrf"
   },
   "outputs": [],
   "source": [
    "def evaluation_summary(description, true_labels, predictions, target_classes=y_train.unique()):\n",
    "  return classification_report(true_labels, predictions,  digits=3, zero_division=0, target_names=target_classes, output_dict=True)"
   ]
  },
  {
   "cell_type": "markdown",
   "metadata": {
    "id": "TDd-lNnUkZKk"
   },
   "source": [
    "Creating Classification Report for every model"
   ]
  },
  {
   "cell_type": "markdown",
   "metadata": {
    "id": "2CoeuOZcTgEn"
   },
   "source": [
    "Dummy Evaluation"
   ]
  },
  {
   "cell_type": "code",
   "execution_count": null,
   "metadata": {
    "id": "cU3x9iMJTepX"
   },
   "outputs": [],
   "source": [
    "dummy_eval = evaluation_summary(\"Dummy Classifier\", dummy_y_test, dummy_preds,dummy_y_test.unique())"
   ]
  },
  {
   "cell_type": "markdown",
   "metadata": {
    "id": "mdonn-dLTktn"
   },
   "source": [
    "KNN Evaluation"
   ]
  },
  {
   "cell_type": "code",
   "execution_count": null,
   "metadata": {
    "id": "3Lc1418-Tiyc"
   },
   "outputs": [],
   "source": [
    "knn_eval = evaluation_summary(\"KNN classification\", y_test, knn_predictions,y_test.unique())"
   ]
  },
  {
   "cell_type": "markdown",
   "metadata": {
    "id": "3md_wFuTUBs7"
   },
   "source": [
    "SVM Evaluation"
   ]
  },
  {
   "cell_type": "code",
   "execution_count": null,
   "metadata": {
    "id": "WjNtJaffUAzx"
   },
   "outputs": [],
   "source": [
    "svm_eval = evaluation_summary(\"SVM classification\", y_test, svm_predictions,y_test.unique())"
   ]
  },
  {
   "cell_type": "markdown",
   "metadata": {
    "id": "taDdwlukUICE"
   },
   "source": [
    "Random Forest"
   ]
  },
  {
   "cell_type": "code",
   "execution_count": null,
   "metadata": {
    "id": "IYnxAuptUHkS"
   },
   "outputs": [],
   "source": [
    "rf_eval = evaluation_summary(\"RF classification\", y_test, rf_predictions,y_test.unique())"
   ]
  },
  {
   "cell_type": "markdown",
   "metadata": {
    "id": "F5XpuWLFUOob"
   },
   "source": [
    "MLP Evaluation"
   ]
  },
  {
   "cell_type": "code",
   "execution_count": null,
   "metadata": {
    "id": "gITbPWW7UN2G"
   },
   "outputs": [],
   "source": [
    "mlp_eval = evaluation_summary(\"MLP classification\", y_test, clf_pred,y_test.unique())"
   ]
  },
  {
   "cell_type": "markdown",
   "metadata": {
    "id": "I7qLUM8wUZbw"
   },
   "source": [
    "Combining all evaluations together"
   ]
  },
  {
   "cell_type": "code",
   "execution_count": null,
   "metadata": {
    "colab": {
     "base_uri": "https://localhost:8080/",
     "height": 520
    },
    "id": "Al2wW_eIUTeo",
    "outputId": "26e0b4b1-a449-458b-a8e3-0c66ac72177c"
   },
   "outputs": [
    {
     "data": {
      "text/html": [
       "\n",
       "  <div id=\"df-928c7ea0-4132-44a3-8d78-eaf7c41c6f23\">\n",
       "    <div class=\"colab-df-container\">\n",
       "      <div>\n",
       "<style scoped>\n",
       "    .dataframe tbody tr th:only-of-type {\n",
       "        vertical-align: middle;\n",
       "    }\n",
       "\n",
       "    .dataframe tbody tr th {\n",
       "        vertical-align: top;\n",
       "    }\n",
       "\n",
       "    .dataframe thead th {\n",
       "        text-align: right;\n",
       "    }\n",
       "</style>\n",
       "<table border=\"1\" class=\"dataframe\">\n",
       "  <thead>\n",
       "    <tr style=\"text-align: right;\">\n",
       "      <th></th>\n",
       "      <th></th>\n",
       "      <th>Angry</th>\n",
       "      <th>Fear</th>\n",
       "      <th>Happy</th>\n",
       "      <th>Sad</th>\n",
       "      <th>accuracy</th>\n",
       "    </tr>\n",
       "  </thead>\n",
       "  <tbody>\n",
       "    <tr>\n",
       "      <th rowspan=\"3\" valign=\"top\">Dummy</th>\n",
       "      <th>precision</th>\n",
       "      <td>0.423077</td>\n",
       "      <td>0.148148</td>\n",
       "      <td>0.083333</td>\n",
       "      <td>0.285714</td>\n",
       "      <td>0.230769</td>\n",
       "    </tr>\n",
       "    <tr>\n",
       "      <th>recall</th>\n",
       "      <td>0.297297</td>\n",
       "      <td>0.222222</td>\n",
       "      <td>0.117647</td>\n",
       "      <td>0.210526</td>\n",
       "      <td>0.230769</td>\n",
       "    </tr>\n",
       "    <tr>\n",
       "      <th>f1-score</th>\n",
       "      <td>0.349206</td>\n",
       "      <td>0.177778</td>\n",
       "      <td>0.097561</td>\n",
       "      <td>0.242424</td>\n",
       "      <td>0.230769</td>\n",
       "    </tr>\n",
       "    <tr>\n",
       "      <th rowspan=\"3\" valign=\"top\">KNN</th>\n",
       "      <th>precision</th>\n",
       "      <td>0.657895</td>\n",
       "      <td>1.000000</td>\n",
       "      <td>0.720000</td>\n",
       "      <td>0.684211</td>\n",
       "      <td>0.714286</td>\n",
       "    </tr>\n",
       "    <tr>\n",
       "      <th>recall</th>\n",
       "      <td>0.806452</td>\n",
       "      <td>0.600000</td>\n",
       "      <td>0.692308</td>\n",
       "      <td>0.684211</td>\n",
       "      <td>0.714286</td>\n",
       "    </tr>\n",
       "    <tr>\n",
       "      <th>f1-score</th>\n",
       "      <td>0.724638</td>\n",
       "      <td>0.750000</td>\n",
       "      <td>0.705882</td>\n",
       "      <td>0.684211</td>\n",
       "      <td>0.714286</td>\n",
       "    </tr>\n",
       "    <tr>\n",
       "      <th rowspan=\"3\" valign=\"top\">SVM</th>\n",
       "      <th>precision</th>\n",
       "      <td>0.695652</td>\n",
       "      <td>0.450000</td>\n",
       "      <td>0.666667</td>\n",
       "      <td>0.666667</td>\n",
       "      <td>0.626374</td>\n",
       "    </tr>\n",
       "    <tr>\n",
       "      <th>recall</th>\n",
       "      <td>0.516129</td>\n",
       "      <td>0.600000</td>\n",
       "      <td>0.692308</td>\n",
       "      <td>0.736842</td>\n",
       "      <td>0.626374</td>\n",
       "    </tr>\n",
       "    <tr>\n",
       "      <th>f1-score</th>\n",
       "      <td>0.592593</td>\n",
       "      <td>0.514286</td>\n",
       "      <td>0.679245</td>\n",
       "      <td>0.700000</td>\n",
       "      <td>0.626374</td>\n",
       "    </tr>\n",
       "    <tr>\n",
       "      <th rowspan=\"3\" valign=\"top\">RF</th>\n",
       "      <th>precision</th>\n",
       "      <td>0.758621</td>\n",
       "      <td>0.600000</td>\n",
       "      <td>0.666667</td>\n",
       "      <td>0.647059</td>\n",
       "      <td>0.681319</td>\n",
       "    </tr>\n",
       "    <tr>\n",
       "      <th>recall</th>\n",
       "      <td>0.709677</td>\n",
       "      <td>0.600000</td>\n",
       "      <td>0.769231</td>\n",
       "      <td>0.578947</td>\n",
       "      <td>0.681319</td>\n",
       "    </tr>\n",
       "    <tr>\n",
       "      <th>f1-score</th>\n",
       "      <td>0.733333</td>\n",
       "      <td>0.600000</td>\n",
       "      <td>0.714286</td>\n",
       "      <td>0.611111</td>\n",
       "      <td>0.681319</td>\n",
       "    </tr>\n",
       "    <tr>\n",
       "      <th rowspan=\"3\" valign=\"top\">MLP</th>\n",
       "      <th>precision</th>\n",
       "      <td>0.833333</td>\n",
       "      <td>0.526316</td>\n",
       "      <td>0.617647</td>\n",
       "      <td>0.650000</td>\n",
       "      <td>0.648352</td>\n",
       "    </tr>\n",
       "    <tr>\n",
       "      <th>recall</th>\n",
       "      <td>0.483871</td>\n",
       "      <td>0.666667</td>\n",
       "      <td>0.807692</td>\n",
       "      <td>0.684211</td>\n",
       "      <td>0.648352</td>\n",
       "    </tr>\n",
       "    <tr>\n",
       "      <th>f1-score</th>\n",
       "      <td>0.612245</td>\n",
       "      <td>0.588235</td>\n",
       "      <td>0.700000</td>\n",
       "      <td>0.666667</td>\n",
       "      <td>0.648352</td>\n",
       "    </tr>\n",
       "  </tbody>\n",
       "</table>\n",
       "</div>\n",
       "      <button class=\"colab-df-convert\" onclick=\"convertToInteractive('df-928c7ea0-4132-44a3-8d78-eaf7c41c6f23')\"\n",
       "              title=\"Convert this dataframe to an interactive table.\"\n",
       "              style=\"display:none;\">\n",
       "        \n",
       "  <svg xmlns=\"http://www.w3.org/2000/svg\" height=\"24px\"viewBox=\"0 0 24 24\"\n",
       "       width=\"24px\">\n",
       "    <path d=\"M0 0h24v24H0V0z\" fill=\"none\"/>\n",
       "    <path d=\"M18.56 5.44l.94 2.06.94-2.06 2.06-.94-2.06-.94-.94-2.06-.94 2.06-2.06.94zm-11 1L8.5 8.5l.94-2.06 2.06-.94-2.06-.94L8.5 2.5l-.94 2.06-2.06.94zm10 10l.94 2.06.94-2.06 2.06-.94-2.06-.94-.94-2.06-.94 2.06-2.06.94z\"/><path d=\"M17.41 7.96l-1.37-1.37c-.4-.4-.92-.59-1.43-.59-.52 0-1.04.2-1.43.59L10.3 9.45l-7.72 7.72c-.78.78-.78 2.05 0 2.83L4 21.41c.39.39.9.59 1.41.59.51 0 1.02-.2 1.41-.59l7.78-7.78 2.81-2.81c.8-.78.8-2.07 0-2.86zM5.41 20L4 18.59l7.72-7.72 1.47 1.35L5.41 20z\"/>\n",
       "  </svg>\n",
       "      </button>\n",
       "      \n",
       "  <style>\n",
       "    .colab-df-container {\n",
       "      display:flex;\n",
       "      flex-wrap:wrap;\n",
       "      gap: 12px;\n",
       "    }\n",
       "\n",
       "    .colab-df-convert {\n",
       "      background-color: #E8F0FE;\n",
       "      border: none;\n",
       "      border-radius: 50%;\n",
       "      cursor: pointer;\n",
       "      display: none;\n",
       "      fill: #1967D2;\n",
       "      height: 32px;\n",
       "      padding: 0 0 0 0;\n",
       "      width: 32px;\n",
       "    }\n",
       "\n",
       "    .colab-df-convert:hover {\n",
       "      background-color: #E2EBFA;\n",
       "      box-shadow: 0px 1px 2px rgba(60, 64, 67, 0.3), 0px 1px 3px 1px rgba(60, 64, 67, 0.15);\n",
       "      fill: #174EA6;\n",
       "    }\n",
       "\n",
       "    [theme=dark] .colab-df-convert {\n",
       "      background-color: #3B4455;\n",
       "      fill: #D2E3FC;\n",
       "    }\n",
       "\n",
       "    [theme=dark] .colab-df-convert:hover {\n",
       "      background-color: #434B5C;\n",
       "      box-shadow: 0px 1px 3px 1px rgba(0, 0, 0, 0.15);\n",
       "      filter: drop-shadow(0px 1px 2px rgba(0, 0, 0, 0.3));\n",
       "      fill: #FFFFFF;\n",
       "    }\n",
       "  </style>\n",
       "\n",
       "      <script>\n",
       "        const buttonEl =\n",
       "          document.querySelector('#df-928c7ea0-4132-44a3-8d78-eaf7c41c6f23 button.colab-df-convert');\n",
       "        buttonEl.style.display =\n",
       "          google.colab.kernel.accessAllowed ? 'block' : 'none';\n",
       "\n",
       "        async function convertToInteractive(key) {\n",
       "          const element = document.querySelector('#df-928c7ea0-4132-44a3-8d78-eaf7c41c6f23');\n",
       "          const dataTable =\n",
       "            await google.colab.kernel.invokeFunction('convertToInteractive',\n",
       "                                                     [key], {});\n",
       "          if (!dataTable) return;\n",
       "\n",
       "          const docLinkHtml = 'Like what you see? Visit the ' +\n",
       "            '<a target=\"_blank\" href=https://colab.research.google.com/notebooks/data_table.ipynb>data table notebook</a>'\n",
       "            + ' to learn more about interactive tables.';\n",
       "          element.innerHTML = '';\n",
       "          dataTable['output_type'] = 'display_data';\n",
       "          await google.colab.output.renderOutput(dataTable, element);\n",
       "          const docLink = document.createElement('div');\n",
       "          docLink.innerHTML = docLinkHtml;\n",
       "          element.appendChild(docLink);\n",
       "        }\n",
       "      </script>\n",
       "    </div>\n",
       "  </div>\n",
       "  "
      ],
      "text/plain": [
       "                    Angry      Fear     Happy       Sad  accuracy\n",
       "Dummy precision  0.423077  0.148148  0.083333  0.285714  0.230769\n",
       "      recall     0.297297  0.222222  0.117647  0.210526  0.230769\n",
       "      f1-score   0.349206  0.177778  0.097561  0.242424  0.230769\n",
       "KNN   precision  0.657895  1.000000  0.720000  0.684211  0.714286\n",
       "      recall     0.806452  0.600000  0.692308  0.684211  0.714286\n",
       "      f1-score   0.724638  0.750000  0.705882  0.684211  0.714286\n",
       "SVM   precision  0.695652  0.450000  0.666667  0.666667  0.626374\n",
       "      recall     0.516129  0.600000  0.692308  0.736842  0.626374\n",
       "      f1-score   0.592593  0.514286  0.679245  0.700000  0.626374\n",
       "RF    precision  0.758621  0.600000  0.666667  0.647059  0.681319\n",
       "      recall     0.709677  0.600000  0.769231  0.578947  0.681319\n",
       "      f1-score   0.733333  0.600000  0.714286  0.611111  0.681319\n",
       "MLP   precision  0.833333  0.526316  0.617647  0.650000  0.648352\n",
       "      recall     0.483871  0.666667  0.807692  0.684211  0.648352\n",
       "      f1-score   0.612245  0.588235  0.700000  0.666667  0.648352"
      ]
     },
     "execution_count": 595,
     "metadata": {},
     "output_type": "execute_result"
    }
   ],
   "source": [
    "dummy_eval_df=pd.DataFrame.from_dict(dummy_eval)[['Angry','Fear','Happy','Sad','accuracy']][:-1]\n",
    "knn_eval_df=pd.DataFrame.from_dict(knn_eval)[['Angry','Fear','Happy','Sad','accuracy']][:-1]\n",
    "svm_eval_df=pd.DataFrame.from_dict(svm_eval)[['Angry','Fear','Happy','Sad','accuracy']][:-1]\n",
    "rf_eval_df=pd.DataFrame.from_dict(rf_eval)[['Angry','Fear','Happy','Sad','accuracy']][:-1]\n",
    "mlp_eval_df=pd.DataFrame.from_dict(mlp_eval)[['Angry','Fear','Happy','Sad','accuracy']][:-1]\n",
    "frames=[dummy_eval_df,knn_eval_df,svm_eval_df,rf_eval_df,mlp_eval_df]\n",
    "classifier_df = pd.concat(frames,keys=['Dummy','KNN','SVM','RF','MLP'])\n",
    "classifier_df"
   ]
  },
  {
   "cell_type": "markdown",
   "metadata": {
    "id": "2vSnHuKMkfEr"
   },
   "source": [
    "The above dataframe gives an overview of the accuracy, precision, recall and F1-scores for each model against each emotion. This helps to determine the performance of the models for each of the label."
   ]
  },
  {
   "cell_type": "markdown",
   "metadata": {
    "id": "x6YgQHU5bMnD"
   },
   "source": [
    "Accuracy Graph of all models"
   ]
  },
  {
   "cell_type": "code",
   "execution_count": null,
   "metadata": {
    "colab": {
     "base_uri": "https://localhost:8080/",
     "height": 393
    },
    "id": "_5o55pA2bS9M",
    "outputId": "599bafeb-0269-48f9-a83e-04fb215f6e28"
   },
   "outputs": [
    {
     "data": {
      "text/plain": [
       "<function matplotlib.pyplot.show(*args, **kw)>"
      ]
     },
     "execution_count": 596,
     "metadata": {},
     "output_type": "execute_result"
    },
    {
     "data": {
      "image/png": "[encoded data removed]",
      "text/plain": [
       "<Figure size 576x396 with 1 Axes>"
      ]
     },
     "metadata": {},
     "output_type": "display_data"
    }
   ],
   "source": [
    "x_val=[]\n",
    "y_val=[]\n",
    "for i in range(len(classifier_df)):\n",
    "  x_val.append(classifier_df.index[i][0])\n",
    "  y_val.append(classifier_df['accuracy'][i])\n",
    "\n",
    "plt.title('Accuracies of ML Models')\n",
    "plt.bar(x_val,y_val)\n",
    "plt.xlabel('Models')\n",
    "plt.ylabel('Accuracy')\n",
    "plt.show"
   ]
  },
  {
   "cell_type": "markdown",
   "metadata": {
    "id": "vabhviozkuhM"
   },
   "source": [
    "The above graph represents the model accuracy. They are as follows:\n",
    "\n",
    "\n",
    "\n",
    "1.   Baseline accuracy - 23%\n",
    "2.   KNN - 71%\n",
    "3.   SVM - 63%\n",
    "4.   RF - 68%\n",
    "5.   MLP - 65%\n",
    "\n"
   ]
  },
  {
   "cell_type": "markdown",
   "metadata": {
    "id": "wax_ttfAUxpx"
   },
   "source": [
    "**Confusion Matrix**"
   ]
  },
  {
   "cell_type": "markdown",
   "metadata": {
    "id": "6E4xyrsRlS1D"
   },
   "source": [
    "Confusion matrix helps to understand how the model has performed against the actual labels and the predicted labels for each emotion.\n",
    "\n",
    "This is valuable information as it helps to find the working of the model and how to improve the performance with regards to the labels."
   ]
  },
  {
   "cell_type": "code",
   "execution_count": null,
   "metadata": {
    "id": "tTH7kigzUsd1"
   },
   "outputs": [],
   "source": [
    "import seaborn as sns\n",
    "from sklearn.metrics import confusion_matrix"
   ]
  },
  {
   "cell_type": "markdown",
   "metadata": {
    "id": "zoeaq5P2U24h"
   },
   "source": [
    "KNN Confusion matrix"
   ]
  },
  {
   "cell_type": "code",
   "execution_count": null,
   "metadata": {
    "colab": {
     "base_uri": "https://localhost:8080/",
     "height": 391
    },
    "id": "AbhpXlmSU0I8",
    "outputId": "2d489128-6a2f-4d47-ea95-75d02a532128"
   },
   "outputs": [
    {
     "data": {
      "image/png": "[encoded data removed]",
      "text/plain": [
       "<Figure size 720x360 with 2 Axes>"
      ]
     },
     "metadata": {
      "needs_background": "light"
     },
     "output_type": "display_data"
    }
   ],
   "source": [
    "model_confusion_matrix=confusion_matrix(y_test,knn_predictions,labels=y_test.unique())\n",
    "plt.figure(figsize=(10,5))\n",
    "ax = sns.heatmap(model_confusion_matrix, annot=True, cmap='Blues')\n",
    "ax.set_title('Confusion Matrix for the KNN Model\\n\\n')\n",
    "ax.set_xlabel('\\nPredicted Test Labels',fontsize=10)\n",
    "ax.set_ylabel('Actual Test Labels',fontsize=10)\n",
    "ax.xaxis.set_ticklabels(y_test.unique())\n",
    "ax.yaxis.set_ticklabels(y_test.unique())\n",
    "plt.show()"
   ]
  },
  {
   "cell_type": "markdown",
   "metadata": {
    "id": "SsLwfiGEVAbB"
   },
   "source": [
    "SVM Confusion Matrix"
   ]
  },
  {
   "cell_type": "code",
   "execution_count": null,
   "metadata": {
    "colab": {
     "base_uri": "https://localhost:8080/",
     "height": 388
    },
    "id": "7W4fLAeGU6C6",
    "outputId": "d68ec6f9-6728-4d70-86c2-55bd53dd792b"
   },
   "outputs": [
    {
     "data": {
      "image/png": "[encoded data removed]",
      "text/plain": [
       "<Figure size 720x360 with 2 Axes>"
      ]
     },
     "metadata": {},
     "output_type": "display_data"
    }
   ],
   "source": [
    "model_confusion_matrix=confusion_matrix(y_test,svm_predictions,labels=y_test.unique())\n",
    "plt.figure(figsize=(10,5))\n",
    "ax = sns.heatmap(model_confusion_matrix, annot=True, cmap='Blues')\n",
    "ax.set_title('Confusion Matrix for the SVM Model\\n\\n')\n",
    "ax.set_xlabel('\\nPredicted Test Labels',fontsize=10)\n",
    "ax.set_ylabel('Actual Test Labels',fontsize=10)\n",
    "ax.xaxis.set_ticklabels(y_test.unique())\n",
    "ax.yaxis.set_ticklabels(y_test.unique())\n",
    "plt.show()"
   ]
  },
  {
   "cell_type": "markdown",
   "metadata": {
    "id": "AU-O7_0OVG4l"
   },
   "source": [
    "RF Confusion Matrix"
   ]
  },
  {
   "cell_type": "code",
   "execution_count": null,
   "metadata": {
    "colab": {
     "base_uri": "https://localhost:8080/",
     "height": 388
    },
    "id": "Y_paWJUFVFGr",
    "outputId": "823e92bd-f444-491e-939b-0f4078d89a7e"
   },
   "outputs": [
    {
     "data": {
      "image/png": "[encoded data removed]",
      "text/plain": [
       "<Figure size 720x360 with 2 Axes>"
      ]
     },
     "metadata": {},
     "output_type": "display_data"
    }
   ],
   "source": [
    "model_confusion_matrix=confusion_matrix(y_test,rf_predictions,labels=y_test.unique())\n",
    "plt.figure(figsize=(10,5))\n",
    "ax = sns.heatmap(model_confusion_matrix, annot=True, cmap='Blues')\n",
    "ax.set_title('Confusion Matrix for the Random Forest Model\\n\\n')\n",
    "ax.set_xlabel('\\nPredicted Test Labels',fontsize=10)\n",
    "ax.set_ylabel('Actual Test Labels',fontsize=10)\n",
    "ax.xaxis.set_ticklabels(y_test.unique())\n",
    "ax.yaxis.set_ticklabels(y_test.unique())\n",
    "plt.show()"
   ]
  },
  {
   "cell_type": "markdown",
   "metadata": {
    "id": "nhloD7taVL33"
   },
   "source": [
    "MLP Confusion Matrix"
   ]
  },
  {
   "cell_type": "code",
   "execution_count": null,
   "metadata": {
    "colab": {
     "base_uri": "https://localhost:8080/",
     "height": 388
    },
    "id": "o7bxYOfGVJ2R",
    "outputId": "f905485e-3542-4303-b664-5d7d156da8b1"
   },
   "outputs": [
    {
     "data": {
      "image/png": "[encoded data removed]",
      "text/plain": [
       "<Figure size 720x360 with 2 Axes>"
      ]
     },
     "metadata": {},
     "output_type": "display_data"
    }
   ],
   "source": [
    "model_confusion_matrix=confusion_matrix(y_test,clf_pred,labels=y_test.unique())\n",
    "plt.figure(figsize=(10,5))\n",
    "ax = sns.heatmap(model_confusion_matrix, annot=True, cmap='Blues')\n",
    "ax.set_title('Confusion Matrix for the MLP Model\\n\\n')\n",
    "ax.set_xlabel('\\nPredicted Test Labels',fontsize=10)\n",
    "ax.set_ylabel('Actual Test Labels',fontsize=10)\n",
    "ax.xaxis.set_ticklabels(y_test.unique())\n",
    "ax.yaxis.set_ticklabels(y_test.unique())\n",
    "plt.show()"
   ]
  },
  {
   "cell_type": "markdown",
   "metadata": {
    "id": "1pYejV7gVVnO"
   },
   "source": [
    "**ROC vs PRC**"
   ]
  },
  {
   "cell_type": "markdown",
   "metadata": {
    "id": "8smBtlvfmAmg"
   },
   "source": [
    "**ROC** - The Receiver Operating Charecterisitic Curve provides the measurement of True Positive Rate vs False Positive Rate. The ROC curve performs good for balanced data set. Since the robot data used is an unbalanced data set, it can be misleading to use only the ROC curve as an evaluation metric for the models.\n",
    "\n",
    "Hence PRC is used along with ROC\n",
    "\n",
    "**PRC** - Precision – Recall Curve plots specificity vs sensitivity of a model. PRC takes into account the minority labels and gives a better performance identification which helps in fine tuning the models even better. "
   ]
  },
  {
   "cell_type": "markdown",
   "metadata": {
    "id": "ic7AFE9OlsA3"
   },
   "source": [
    "Installing yellowbrick library for ROC and PRC curve"
   ]
  },
  {
   "cell_type": "code",
   "execution_count": null,
   "metadata": {
    "colab": {
     "base_uri": "https://localhost:8080/"
    },
    "id": "0WsuomI0VRSu",
    "outputId": "ff6f3afa-f9f7-4b35-e325-77e8feba3364"
   },
   "outputs": [
    {
     "name": "stdout",
     "output_type": "stream",
     "text": [
      "Looking in indexes: https://pypi.org/simple, https://us-python.pkg.dev/colab-wheels/public/simple/\n",
      "Requirement already satisfied: yellowbrick in /usr/local/lib/python3.7/dist-packages (1.4)\n",
      "Requirement already satisfied: matplotlib!=3.0.0,>=2.0.2 in /usr/local/lib/python3.7/dist-packages (from yellowbrick) (3.2.2)\n",
      "Requirement already satisfied: cycler>=0.10.0 in /usr/local/lib/python3.7/dist-packages (from yellowbrick) (0.11.0)\n",
      "Requirement already satisfied: scipy>=1.0.0 in /usr/local/lib/python3.7/dist-packages (from yellowbrick) (1.7.3)\n",
      "Requirement already satisfied: scikit-learn>=1.0.0 in /usr/local/lib/python3.7/dist-packages (from yellowbrick) (1.0.2)\n",
      "Requirement already satisfied: numpy>=1.16.0 in /usr/local/lib/python3.7/dist-packages (from yellowbrick) (1.21.6)\n",
      "Requirement already satisfied: pyparsing!=2.0.4,!=2.1.2,!=2.1.6,>=2.0.1 in /usr/local/lib/python3.7/dist-packages (from matplotlib!=3.0.0,>=2.0.2->yellowbrick) (3.0.9)\n",
      "Requirement already satisfied: python-dateutil>=2.1 in /usr/local/lib/python3.7/dist-packages (from matplotlib!=3.0.0,>=2.0.2->yellowbrick) (2.8.2)\n",
      "Requirement already satisfied: kiwisolver>=1.0.1 in /usr/local/lib/python3.7/dist-packages (from matplotlib!=3.0.0,>=2.0.2->yellowbrick) (1.4.4)\n",
      "Requirement already satisfied: typing-extensions in /usr/local/lib/python3.7/dist-packages (from kiwisolver>=1.0.1->matplotlib!=3.0.0,>=2.0.2->yellowbrick) (4.1.1)\n",
      "Requirement already satisfied: six>=1.5 in /usr/local/lib/python3.7/dist-packages (from python-dateutil>=2.1->matplotlib!=3.0.0,>=2.0.2->yellowbrick) (1.15.0)\n",
      "Requirement already satisfied: joblib>=0.11 in /usr/local/lib/python3.7/dist-packages (from scikit-learn>=1.0.0->yellowbrick) (1.1.0)\n",
      "Requirement already satisfied: threadpoolctl>=2.0.0 in /usr/local/lib/python3.7/dist-packages (from scikit-learn>=1.0.0->yellowbrick) (3.1.0)\n"
     ]
    }
   ],
   "source": [
    "!pip install yellowbrick"
   ]
  },
  {
   "cell_type": "code",
   "execution_count": null,
   "metadata": {
    "id": "zDXfLMqQVXqo"
   },
   "outputs": [],
   "source": [
    "from yellowbrick.classifier import ROCAUC\n",
    "from yellowbrick.classifier import PrecisionRecallCurve"
   ]
  },
  {
   "cell_type": "markdown",
   "metadata": {
    "id": "0YtnC9E4lwWZ"
   },
   "source": [
    "ROC and PRC Curve for KNN"
   ]
  },
  {
   "cell_type": "code",
   "execution_count": null,
   "metadata": {
    "colab": {
     "base_uri": "https://localhost:8080/",
     "height": 448
    },
    "id": "A1aBgmcqVZ6q",
    "outputId": "a4ef079c-006a-4ced-b3bc-7abebde0e4f1"
   },
   "outputs": [
    {
     "name": "stderr",
     "output_type": "stream",
     "text": [
      "/usr/local/lib/python3.7/dist-packages/sklearn/base.py:451: UserWarning: X does not have valid feature names, but KNeighborsClassifier was fitted with feature names\n",
      "  \"X does not have valid feature names, but\"\n"
     ]
    },
    {
     "data": {
      "image/png": "[encoded data removed]",
      "text/plain": [
       "<Figure size 576x396 with 1 Axes>"
      ]
     },
     "metadata": {},
     "output_type": "display_data"
    },
    {
     "data": {
      "text/plain": [
       "<matplotlib.axes._subplots.AxesSubplot at 0x7fdd64676ad0>"
      ]
     },
     "execution_count": 599,
     "metadata": {},
     "output_type": "execute_result"
    }
   ],
   "source": [
    "visualizer = ROCAUC(knn_model,classes=['Happy','Sad','Fear','Angry'])\n",
    "visualizer.fit(x_train,y_train)\n",
    "visualizer.score(x_test,y_test)\n",
    "visualizer.show()"
   ]
  },
  {
   "cell_type": "code",
   "execution_count": null,
   "metadata": {
    "colab": {
     "base_uri": "https://localhost:8080/",
     "height": 393
    },
    "id": "0Jl6gAdhVdTn",
    "outputId": "b6c82ab3-839c-4497-fdd6-80b7c825f052"
   },
   "outputs": [
    {
     "data": {
      "image/png": "[encoded data removed]",
      "text/plain": [
       "<Figure size 576x396 with 1 Axes>"
      ]
     },
     "metadata": {},
     "output_type": "display_data"
    },
    {
     "data": {
      "text/plain": [
       "<matplotlib.axes._subplots.AxesSubplot at 0x7fdd6456c2d0>"
      ]
     },
     "execution_count": 600,
     "metadata": {},
     "output_type": "execute_result"
    }
   ],
   "source": [
    "visualizer = PrecisionRecallCurve(knn_model,classes=['Happy','Sad','Fear','Angry'])\n",
    "visualizer.fit(x_train,y_train)\n",
    "visualizer.score(x_test,y_test)\n",
    "visualizer.show()"
   ]
  },
  {
   "cell_type": "markdown",
   "metadata": {
    "id": "r1WnVfN7duzd"
   },
   "source": [
    "ROC and PRC for SVM model"
   ]
  },
  {
   "cell_type": "code",
   "execution_count": null,
   "metadata": {
    "colab": {
     "base_uri": "https://localhost:8080/",
     "height": 428
    },
    "id": "iwhO5OXZ0_1u",
    "outputId": "2fbd3aa0-4915-460b-ebb2-198bc6653fb9"
   },
   "outputs": [
    {
     "name": "stderr",
     "output_type": "stream",
     "text": [
      "/usr/local/lib/python3.7/dist-packages/sklearn/base.py:451: UserWarning: X does not have valid feature names, but SVC was fitted with feature names\n",
      "  \"X does not have valid feature names, but\"\n"
     ]
    },
    {
     "data": {
      "image/png": "[encoded data removed]",
      "text/plain": [
       "<Figure size 576x396 with 1 Axes>"
      ]
     },
     "metadata": {},
     "output_type": "display_data"
    },
    {
     "data": {
      "text/plain": [
       "<matplotlib.axes._subplots.AxesSubplot at 0x7fdd63ee5190>"
      ]
     },
     "execution_count": 603,
     "metadata": {},
     "output_type": "execute_result"
    }
   ],
   "source": [
    "svm_visualizer = ROCAUC(svm_model,classes=['Happy','Sad','Fear','Angry'])\n",
    "svm_visualizer.fit(x_train,y_train)\n",
    "svm_visualizer.score(x_test,y_test)\n",
    "svm_visualizer.show()"
   ]
  },
  {
   "cell_type": "code",
   "execution_count": null,
   "metadata": {
    "colab": {
     "base_uri": "https://localhost:8080/",
     "height": 393
    },
    "id": "wYmCeC3kd3ik",
    "outputId": "9ec7f215-5517-4e62-8f57-4aa953b64093"
   },
   "outputs": [
    {
     "data": {
      "image/png": "[encoded data removed]",
      "text/plain": [
       "<Figure size 576x396 with 1 Axes>"
      ]
     },
     "metadata": {},
     "output_type": "display_data"
    },
    {
     "data": {
      "text/plain": [
       "<matplotlib.axes._subplots.AxesSubplot at 0x7fdd63d8d590>"
      ]
     },
     "execution_count": 604,
     "metadata": {},
     "output_type": "execute_result"
    }
   ],
   "source": [
    "svm_visualizer = PrecisionRecallCurve(svm_model,classes=['Happy','Sad','Fear','Angry'])\n",
    "svm_visualizer.fit(x_train,y_train)\n",
    "svm_visualizer.score(x_test,y_test)\n",
    "svm_visualizer.show()"
   ]
  },
  {
   "cell_type": "markdown",
   "metadata": {
    "id": "DMiHzdsKeFbV"
   },
   "source": [
    "ROC and PRC curve for RF model"
   ]
  },
  {
   "cell_type": "code",
   "execution_count": null,
   "metadata": {
    "colab": {
     "base_uri": "https://localhost:8080/",
     "height": 448
    },
    "id": "uHeatc5seBKG",
    "outputId": "f2ac4d1c-1d35-4b26-8f5b-adeda9219d2c"
   },
   "outputs": [
    {
     "name": "stderr",
     "output_type": "stream",
     "text": [
      "/usr/local/lib/python3.7/dist-packages/sklearn/base.py:451: UserWarning: X does not have valid feature names, but RandomForestClassifier was fitted with feature names\n",
      "  \"X does not have valid feature names, but\"\n"
     ]
    },
    {
     "data": {
      "image/png": "[encoded data removed]",
      "text/plain": [
       "<Figure size 576x396 with 1 Axes>"
      ]
     },
     "metadata": {},
     "output_type": "display_data"
    },
    {
     "data": {
      "text/plain": [
       "<matplotlib.axes._subplots.AxesSubplot at 0x7fdd64885f10>"
      ]
     },
     "execution_count": 605,
     "metadata": {},
     "output_type": "execute_result"
    }
   ],
   "source": [
    "rf_visualizer = ROCAUC(rf_model,classes=['Happy','Sad','Fear','Angry'])\n",
    "rf_visualizer.fit(x_train,y_train)\n",
    "rf_visualizer.score(x_test,y_test)\n",
    "rf_visualizer.show()"
   ]
  },
  {
   "cell_type": "code",
   "execution_count": null,
   "metadata": {
    "colab": {
     "base_uri": "https://localhost:8080/",
     "height": 393
    },
    "id": "W9lo0JeOeNRQ",
    "outputId": "09f5be9a-9056-446f-e625-d23d3f086c20"
   },
   "outputs": [
    {
     "data": {
      "image/png": "[encoded data removed]",
      "text/plain": [
       "<Figure size 576x396 with 1 Axes>"
      ]
     },
     "metadata": {},
     "output_type": "display_data"
    },
    {
     "data": {
      "text/plain": [
       "<matplotlib.axes._subplots.AxesSubplot at 0x7fdd6454d210>"
      ]
     },
     "execution_count": 606,
     "metadata": {},
     "output_type": "execute_result"
    }
   ],
   "source": [
    "rf_visualizer = PrecisionRecallCurve(rf_model,classes=['Happy','Sad','Fear','Angry'])\n",
    "rf_visualizer.fit(x_train,y_train)\n",
    "rf_visualizer.score(x_test,y_test)\n",
    "rf_visualizer.show()"
   ]
  },
  {
   "cell_type": "markdown",
   "metadata": {
    "id": "KPhEqx-3eYzf"
   },
   "source": [
    "ROC and PRC curve for MLP model"
   ]
  },
  {
   "cell_type": "code",
   "execution_count": null,
   "metadata": {
    "colab": {
     "base_uri": "https://localhost:8080/",
     "height": 428
    },
    "id": "rxOo3JxPeV2B",
    "outputId": "bf6411ef-0581-46df-8b69-b726c356c0ec"
   },
   "outputs": [
    {
     "name": "stderr",
     "output_type": "stream",
     "text": [
      "/usr/local/lib/python3.7/dist-packages/sklearn/base.py:451: UserWarning: X does not have valid feature names, but MLPClassifier was fitted with feature names\n",
      "  \"X does not have valid feature names, but\"\n"
     ]
    },
    {
     "data": {
      "image/png": "[encoded data removed]",
      "text/plain": [
       "<Figure size 576x396 with 1 Axes>"
      ]
     },
     "metadata": {},
     "output_type": "display_data"
    },
    {
     "data": {
      "text/plain": [
       "<matplotlib.axes._subplots.AxesSubplot at 0x7fdd644d9890>"
      ]
     },
     "execution_count": 607,
     "metadata": {},
     "output_type": "execute_result"
    }
   ],
   "source": [
    "mlp_visualizer = ROCAUC(clf,classes=['Happy','Sad','Fear','Angry'])\n",
    "mlp_visualizer.fit(x_train,y_train)\n",
    "mlp_visualizer.score(x_test,y_test)\n",
    "mlp_visualizer.show()"
   ]
  },
  {
   "cell_type": "code",
   "execution_count": null,
   "metadata": {
    "colab": {
     "base_uri": "https://localhost:8080/",
     "height": 1000
    },
    "id": "RLp4p0sdeiOT",
    "outputId": "38b58ce6-724b-45a9-f2bf-cb9c36bfc583"
   },
   "outputs": [
    {
     "name": "stdout",
     "output_type": "stream",
     "text": [
      "Iteration 1, loss = 0.68707675\n",
      "Iteration 2, loss = 0.63009966\n",
      "Iteration 3, loss = 0.62879629\n",
      "Iteration 4, loss = 0.61043301\n",
      "Iteration 5, loss = 0.59878651\n",
      "Iteration 6, loss = 0.58880830\n",
      "Iteration 7, loss = 0.57993998\n",
      "Iteration 8, loss = 0.59704312\n",
      "Iteration 9, loss = 0.56873655\n",
      "Iteration 10, loss = 0.56589191\n",
      "Iteration 11, loss = 0.55447258\n",
      "Iteration 12, loss = 0.55054783\n",
      "Iteration 13, loss = 0.54251642\n",
      "Iteration 14, loss = 0.54087072\n",
      "Iteration 15, loss = 0.53851744\n",
      "Iteration 16, loss = 0.52736596\n",
      "Iteration 17, loss = 0.52723367\n",
      "Iteration 18, loss = 0.52095878\n",
      "Iteration 19, loss = 0.51058934\n",
      "Iteration 20, loss = 0.49634833\n",
      "Iteration 21, loss = 0.49669165\n",
      "Iteration 22, loss = 0.50597661\n",
      "Iteration 23, loss = 0.48227060\n",
      "Iteration 24, loss = 0.47414199\n",
      "Iteration 25, loss = 0.46947254\n",
      "Iteration 26, loss = 0.45430236\n",
      "Iteration 27, loss = 0.44592083\n",
      "Iteration 28, loss = 0.46244335\n",
      "Iteration 29, loss = 0.47019944\n",
      "Iteration 30, loss = 0.45495435\n",
      "Iteration 31, loss = 0.43666818\n",
      "Iteration 32, loss = 0.43071738\n",
      "Iteration 33, loss = 0.45527065\n",
      "Iteration 34, loss = 0.41136161\n",
      "Iteration 35, loss = 0.40643987\n",
      "Iteration 36, loss = 0.39706701\n",
      "Iteration 37, loss = 0.39244163\n",
      "Iteration 38, loss = 0.38345416\n",
      "Iteration 39, loss = 0.37935089\n",
      "Iteration 40, loss = 0.36708482\n",
      "Iteration 41, loss = 0.35608736\n",
      "Iteration 42, loss = 0.40949518\n",
      "Iteration 43, loss = 0.40208661\n",
      "Iteration 44, loss = 0.38962221\n",
      "Iteration 45, loss = 0.38940699\n",
      "Iteration 46, loss = 0.39657999\n",
      "Iteration 47, loss = 0.39085580\n",
      "Iteration 48, loss = 0.38335693\n",
      "Iteration 49, loss = 0.38558902\n",
      "Iteration 50, loss = 0.35506605\n",
      "Iteration 51, loss = 0.35174970\n",
      "Iteration 52, loss = 0.35119349\n",
      "Iteration 53, loss = 0.35711185\n",
      "Iteration 54, loss = 0.33700765\n",
      "Iteration 55, loss = 0.35364470\n",
      "Iteration 56, loss = 0.33451727\n",
      "Iteration 57, loss = 0.34155268\n",
      "Iteration 58, loss = 0.34119073\n",
      "Iteration 59, loss = 0.32691606\n",
      "Iteration 60, loss = 0.31478154\n",
      "Iteration 61, loss = 0.33533572\n",
      "Iteration 62, loss = 0.33391782\n",
      "Iteration 63, loss = 0.29698814\n",
      "Iteration 64, loss = 0.32408400\n",
      "Iteration 65, loss = 0.31594026\n",
      "Iteration 66, loss = 0.28268681\n",
      "Iteration 67, loss = 0.32218853\n",
      "Iteration 68, loss = 0.43784567\n",
      "Iteration 69, loss = 0.41270657\n",
      "Iteration 70, loss = 0.41961198\n",
      "Iteration 71, loss = 0.40146478\n",
      "Iteration 72, loss = 0.41384614\n",
      "Iteration 73, loss = 0.40991817\n",
      "Iteration 74, loss = 0.39715917\n",
      "Iteration 75, loss = 0.38145097\n",
      "Iteration 76, loss = 0.36457432\n",
      "Iteration 77, loss = 0.35798324\n",
      "Training loss did not improve more than tol=0.000100 for 10 consecutive epochs. Stopping.\n",
      "Iteration 1, loss = 0.67813117\n",
      "Iteration 2, loss = 0.65205652\n",
      "Iteration 3, loss = 0.62116488\n",
      "Iteration 4, loss = 0.60938252\n",
      "Iteration 5, loss = 0.60513277\n",
      "Iteration 6, loss = 0.60253232\n",
      "Iteration 7, loss = 0.59597354\n",
      "Iteration 8, loss = 0.59106007\n",
      "Iteration 9, loss = 0.58072386\n",
      "Iteration 10, loss = 0.57357554\n",
      "Iteration 11, loss = 0.56890619\n",
      "Iteration 12, loss = 0.56951699\n",
      "Iteration 13, loss = 0.56627765\n",
      "Iteration 14, loss = 0.55753309\n",
      "Iteration 15, loss = 0.55704879\n",
      "Iteration 16, loss = 0.55790769\n",
      "Iteration 17, loss = 0.55491250\n",
      "Iteration 18, loss = 0.54788906\n",
      "Iteration 19, loss = 0.54733141\n",
      "Iteration 20, loss = 0.54608320\n",
      "Iteration 21, loss = 0.53773219\n",
      "Iteration 22, loss = 0.54575542\n",
      "Iteration 23, loss = 0.52748872\n",
      "Iteration 24, loss = 0.53982041\n",
      "Iteration 25, loss = 0.52019278\n",
      "Iteration 26, loss = 0.52075481\n",
      "Iteration 27, loss = 0.51491687\n",
      "Iteration 28, loss = 0.51593010\n",
      "Iteration 29, loss = 0.50347463\n",
      "Iteration 30, loss = 0.50128691\n",
      "Iteration 31, loss = 0.49731569\n",
      "Iteration 32, loss = 0.48861423\n",
      "Iteration 33, loss = 0.49503487\n",
      "Iteration 34, loss = 0.47977220\n",
      "Iteration 35, loss = 0.49620366\n",
      "Iteration 36, loss = 0.48851727\n",
      "Iteration 37, loss = 0.46617666\n",
      "Iteration 38, loss = 0.49018205\n",
      "Iteration 39, loss = 0.46208681\n",
      "Iteration 40, loss = 0.48840393\n",
      "Iteration 41, loss = 0.50187698\n",
      "Iteration 42, loss = 0.45749995\n",
      "Iteration 43, loss = 0.48092171\n",
      "Iteration 44, loss = 0.48067719\n",
      "Iteration 45, loss = 0.46265332\n",
      "Iteration 46, loss = 0.46456106\n",
      "Iteration 47, loss = 0.44282904\n",
      "Iteration 48, loss = 0.44403505\n",
      "Iteration 49, loss = 0.43228266\n",
      "Iteration 50, loss = 0.44085177\n",
      "Iteration 51, loss = 0.45797913\n",
      "Iteration 52, loss = 0.44723514\n",
      "Iteration 53, loss = 0.44666224\n",
      "Iteration 54, loss = 0.43119425\n",
      "Iteration 55, loss = 0.40597369\n",
      "Iteration 56, loss = 0.42051718\n",
      "Iteration 57, loss = 0.40028240\n",
      "Iteration 58, loss = 0.39184262\n",
      "Iteration 59, loss = 0.39100838\n",
      "Iteration 60, loss = 0.37529184\n",
      "Iteration 61, loss = 0.37341340\n",
      "Iteration 62, loss = 0.38435519\n",
      "Iteration 63, loss = 0.37419936\n",
      "Iteration 64, loss = 0.36748721\n",
      "Iteration 65, loss = 0.35974286\n",
      "Iteration 66, loss = 0.35320206\n",
      "Iteration 67, loss = 0.34884281\n",
      "Iteration 68, loss = 0.35041364\n",
      "Iteration 69, loss = 0.34432674\n",
      "Iteration 70, loss = 0.32433743\n",
      "Iteration 71, loss = 0.37209318\n",
      "Iteration 72, loss = 0.33376581\n",
      "Iteration 73, loss = 0.33934102\n",
      "Iteration 74, loss = 0.34355815\n",
      "Iteration 75, loss = 0.32038677\n",
      "Iteration 76, loss = 0.34791348\n",
      "Iteration 77, loss = 0.33177213\n",
      "Iteration 78, loss = 0.31903815\n",
      "Iteration 79, loss = 0.30364086\n",
      "Iteration 80, loss = 0.36651141\n",
      "Iteration 81, loss = 0.32021419\n",
      "Iteration 82, loss = 0.31934150\n",
      "Iteration 83, loss = 0.33155816\n",
      "Iteration 84, loss = 0.30269112\n",
      "Iteration 85, loss = 0.31712410\n",
      "Iteration 86, loss = 0.31080477\n",
      "Iteration 87, loss = 0.29901004\n",
      "Iteration 88, loss = 0.28869748\n",
      "Iteration 89, loss = 0.27234446\n",
      "Iteration 90, loss = 0.26903755\n",
      "Iteration 91, loss = 0.26701817\n",
      "Iteration 92, loss = 0.26108569\n",
      "Iteration 93, loss = 0.25129135\n",
      "Iteration 94, loss = 0.24772009\n",
      "Iteration 95, loss = 0.26023175\n",
      "Iteration 96, loss = 0.26370504\n",
      "Iteration 97, loss = 0.26746667\n",
      "Iteration 98, loss = 0.26385569\n",
      "Iteration 99, loss = 0.28664434\n",
      "Iteration 100, loss = 0.27337630\n",
      "Iteration 101, loss = 0.24613515\n",
      "Iteration 102, loss = 0.24833619\n",
      "Iteration 103, loss = 0.24345637\n",
      "Iteration 104, loss = 0.23116326\n",
      "Iteration 105, loss = 0.24266422\n",
      "Iteration 106, loss = 0.22466083\n",
      "Iteration 107, loss = 0.22102675\n",
      "Iteration 108, loss = 0.27978804\n",
      "Iteration 109, loss = 0.34992503\n",
      "Iteration 110, loss = 0.33146293\n",
      "Iteration 111, loss = 0.35647957\n",
      "Iteration 112, loss = 0.31364831\n",
      "Iteration 113, loss = 0.25020968\n",
      "Iteration 114, loss = 0.26913199\n",
      "Iteration 115, loss = 0.29185293\n",
      "Iteration 116, loss = 0.27084768\n",
      "Iteration 117, loss = 0.23759481\n",
      "Iteration 118, loss = 0.25349737\n",
      "Training loss did not improve more than tol=0.000100 for 10 consecutive epochs. Stopping.\n",
      "Iteration 1, loss = 0.67194747\n",
      "Iteration 2, loss = 0.53515318\n",
      "Iteration 3, loss = 0.51128699\n",
      "Iteration 4, loss = 0.50518100\n",
      "Iteration 5, loss = 0.50067419\n",
      "Iteration 6, loss = 0.49824862\n",
      "Iteration 7, loss = 0.48665149\n",
      "Iteration 8, loss = 0.48112951\n",
      "Iteration 9, loss = 0.47777987\n",
      "Iteration 10, loss = 0.46349484\n",
      "Iteration 11, loss = 0.45576621\n",
      "Iteration 12, loss = 0.44179545\n",
      "Iteration 13, loss = 0.42696157\n",
      "Iteration 14, loss = 0.41599551\n",
      "Iteration 15, loss = 0.41823876\n",
      "Iteration 16, loss = 0.43692927\n",
      "Iteration 17, loss = 0.46063234\n",
      "Iteration 18, loss = 0.45421623\n",
      "Iteration 19, loss = 0.39043460\n",
      "Iteration 20, loss = 0.44360917\n",
      "Iteration 21, loss = 0.39183625\n",
      "Iteration 22, loss = 0.41517254\n",
      "Iteration 23, loss = 0.37208376\n",
      "Iteration 24, loss = 0.38443342\n",
      "Iteration 25, loss = 0.36268261\n",
      "Iteration 26, loss = 0.35645251\n",
      "Iteration 27, loss = 0.35263622\n",
      "Iteration 28, loss = 0.34561413\n",
      "Iteration 29, loss = 0.32022665\n",
      "Iteration 30, loss = 0.32359352\n",
      "Iteration 31, loss = 0.31810930\n",
      "Iteration 32, loss = 0.29313596\n",
      "Iteration 33, loss = 0.28948112\n",
      "Iteration 34, loss = 0.30519640\n",
      "Iteration 35, loss = 0.27542889\n",
      "Iteration 36, loss = 0.28311119\n",
      "Iteration 37, loss = 0.27722951\n",
      "Iteration 38, loss = 0.25161298\n",
      "Iteration 39, loss = 0.25658142\n",
      "Iteration 40, loss = 0.24668330\n",
      "Iteration 41, loss = 0.24092864\n",
      "Iteration 42, loss = 0.25516042\n",
      "Iteration 43, loss = 0.23672305\n",
      "Iteration 44, loss = 0.23426766\n",
      "Iteration 45, loss = 0.21749504\n",
      "Iteration 46, loss = 0.23781728\n",
      "Iteration 47, loss = 0.21658720\n",
      "Iteration 48, loss = 0.23958989\n",
      "Iteration 49, loss = 0.21426515\n",
      "Iteration 50, loss = 0.21165425\n",
      "Iteration 51, loss = 0.20160119\n",
      "Iteration 52, loss = 0.21711701\n",
      "Iteration 53, loss = 0.21783888\n",
      "Iteration 54, loss = 0.20795768\n",
      "Iteration 55, loss = 0.20527758\n",
      "Iteration 56, loss = 0.19591465\n",
      "Iteration 57, loss = 0.23063999\n",
      "Iteration 58, loss = 0.25803200\n",
      "Iteration 59, loss = 0.21565573\n",
      "Iteration 60, loss = 0.19963728\n",
      "Iteration 61, loss = 0.19633151\n",
      "Iteration 62, loss = 0.17143065\n",
      "Iteration 63, loss = 0.16967107\n",
      "Iteration 64, loss = 0.16302850\n",
      "Iteration 65, loss = 0.16183676\n",
      "Iteration 66, loss = 0.15542336\n",
      "Iteration 67, loss = 0.15412265\n",
      "Iteration 68, loss = 0.22736442\n",
      "Iteration 69, loss = 0.16740060\n",
      "Iteration 70, loss = 0.14912984\n",
      "Iteration 71, loss = 0.16028640\n",
      "Iteration 72, loss = 0.13346107\n",
      "Iteration 73, loss = 0.17354500\n",
      "Iteration 74, loss = 0.13962379\n",
      "Iteration 75, loss = 0.12787801\n",
      "Iteration 76, loss = 0.21716497\n",
      "Iteration 77, loss = 0.18379477\n",
      "Iteration 78, loss = 0.14239551\n",
      "Iteration 79, loss = 0.14444140\n",
      "Iteration 80, loss = 0.12779241\n",
      "Iteration 81, loss = 0.13108750\n",
      "Iteration 82, loss = 0.13993110\n",
      "Iteration 83, loss = 0.15635985\n",
      "Iteration 84, loss = 0.15024075\n",
      "Iteration 85, loss = 0.13616925\n",
      "Iteration 86, loss = 0.11032503\n",
      "Iteration 87, loss = 0.13846126\n",
      "Iteration 88, loss = 0.16043201\n",
      "Iteration 89, loss = 0.13345757\n",
      "Iteration 90, loss = 0.12447558\n",
      "Iteration 91, loss = 0.12461799\n",
      "Iteration 92, loss = 0.10523677\n",
      "Iteration 93, loss = 0.10748814\n",
      "Iteration 94, loss = 0.08878965\n",
      "Iteration 95, loss = 0.09474929\n",
      "Iteration 96, loss = 0.07982643\n",
      "Iteration 97, loss = 0.07843868\n",
      "Iteration 98, loss = 0.07477069\n",
      "Iteration 99, loss = 0.07937262\n",
      "Iteration 100, loss = 0.08887014\n",
      "Iteration 101, loss = 0.09865939\n",
      "Iteration 102, loss = 0.13494359\n",
      "Iteration 103, loss = 0.11548539\n",
      "Iteration 104, loss = 0.08438458\n",
      "Iteration 105, loss = 0.09604181\n",
      "Iteration 106, loss = 0.09658140\n",
      "Iteration 107, loss = 0.10075623\n",
      "Iteration 108, loss = 0.08364430\n",
      "Iteration 109, loss = 0.07315861\n",
      "Iteration 110, loss = 0.06067343\n",
      "Iteration 111, loss = 0.06291142\n",
      "Iteration 112, loss = 0.05301755\n",
      "Iteration 113, loss = 0.05131471\n",
      "Iteration 114, loss = 0.05090850\n",
      "Iteration 115, loss = 0.04544159\n",
      "Iteration 116, loss = 0.04150161\n",
      "Iteration 117, loss = 0.04079597\n",
      "Iteration 118, loss = 0.03825474\n",
      "Iteration 119, loss = 0.03759078\n",
      "Iteration 120, loss = 0.03585154\n",
      "Iteration 121, loss = 0.03385288\n",
      "Iteration 122, loss = 0.03169362\n",
      "Iteration 123, loss = 0.03171456\n",
      "Iteration 124, loss = 0.03105047\n",
      "Iteration 125, loss = 0.02718834\n",
      "Iteration 126, loss = 0.02793328\n",
      "Iteration 127, loss = 0.02562140\n",
      "Iteration 128, loss = 0.02549213\n",
      "Iteration 129, loss = 0.02631397\n",
      "Iteration 130, loss = 0.02633766\n",
      "Iteration 131, loss = 0.02483804\n",
      "Iteration 132, loss = 0.02401636\n",
      "Iteration 133, loss = 0.02379461\n",
      "Iteration 134, loss = 0.02191816\n",
      "Iteration 135, loss = 0.02385943\n",
      "Iteration 136, loss = 0.02396382\n",
      "Iteration 137, loss = 0.02817965\n",
      "Iteration 138, loss = 0.03493645\n",
      "Iteration 139, loss = 0.04558698\n",
      "Iteration 140, loss = 0.07132633\n",
      "Iteration 141, loss = 0.06294944\n",
      "Iteration 142, loss = 0.08227985\n",
      "Iteration 143, loss = 0.28653820\n",
      "Iteration 144, loss = 0.16519334\n",
      "Iteration 145, loss = 0.23141350\n",
      "Training loss did not improve more than tol=0.000100 for 10 consecutive epochs. Stopping.\n",
      "Iteration 1, loss = 0.69125304\n",
      "Iteration 2, loss = 0.49851002\n",
      "Iteration 3, loss = 0.49348314\n",
      "Iteration 4, loss = 0.47298833\n",
      "Iteration 5, loss = 0.47239209\n",
      "Iteration 6, loss = 0.44966912\n",
      "Iteration 7, loss = 0.44798450\n",
      "Iteration 8, loss = 0.43598709\n",
      "Iteration 9, loss = 0.43131332\n",
      "Iteration 10, loss = 0.42393272\n",
      "Iteration 11, loss = 0.42510769\n",
      "Iteration 12, loss = 0.42390088\n",
      "Iteration 13, loss = 0.41327230\n",
      "Iteration 14, loss = 0.41585204\n",
      "Iteration 15, loss = 0.40025075\n",
      "Iteration 16, loss = 0.39732263\n",
      "Iteration 17, loss = 0.39596429\n",
      "Iteration 18, loss = 0.38656914\n",
      "Iteration 19, loss = 0.37983280\n",
      "Iteration 20, loss = 0.37591079\n",
      "Iteration 21, loss = 0.36892205\n",
      "Iteration 22, loss = 0.36652111\n",
      "Iteration 23, loss = 0.36892584\n",
      "Iteration 24, loss = 0.38436434\n",
      "Iteration 25, loss = 0.37320851\n",
      "Iteration 26, loss = 0.37378992\n",
      "Iteration 27, loss = 0.35532008\n",
      "Iteration 28, loss = 0.36702351\n",
      "Iteration 29, loss = 0.39057757\n",
      "Iteration 30, loss = 0.35623036\n",
      "Iteration 31, loss = 0.35597590\n",
      "Iteration 32, loss = 0.35101120\n",
      "Iteration 33, loss = 0.34647785\n",
      "Iteration 34, loss = 0.32968403\n",
      "Iteration 35, loss = 0.33322792\n",
      "Iteration 36, loss = 0.31822247\n",
      "Iteration 37, loss = 0.31443037\n",
      "Iteration 38, loss = 0.30290934\n",
      "Iteration 39, loss = 0.29745698\n",
      "Iteration 40, loss = 0.29973740\n",
      "Iteration 41, loss = 0.29934033\n",
      "Iteration 42, loss = 0.28935699\n",
      "Iteration 43, loss = 0.30720608\n",
      "Iteration 44, loss = 0.26565650\n",
      "Iteration 45, loss = 0.25638485\n",
      "Iteration 46, loss = 0.24567870\n",
      "Iteration 47, loss = 0.27183273\n",
      "Iteration 48, loss = 0.29563870\n",
      "Iteration 49, loss = 0.37898624\n",
      "Iteration 50, loss = 0.31511431\n",
      "Iteration 51, loss = 0.29485503\n",
      "Iteration 52, loss = 0.26489405\n",
      "Iteration 53, loss = 0.27677780\n",
      "Iteration 54, loss = 0.26778106\n",
      "Iteration 55, loss = 0.24934640\n",
      "Iteration 56, loss = 0.23983758\n",
      "Iteration 57, loss = 0.22734973\n",
      "Iteration 58, loss = 0.21816381\n",
      "Iteration 59, loss = 0.21821822\n",
      "Iteration 60, loss = 0.22042155\n",
      "Iteration 61, loss = 0.22195383\n",
      "Iteration 62, loss = 0.24590847\n",
      "Iteration 63, loss = 0.22797135\n",
      "Iteration 64, loss = 0.22121900\n",
      "Iteration 65, loss = 0.21319488\n",
      "Iteration 66, loss = 0.21142203\n",
      "Iteration 67, loss = 0.17486423\n",
      "Iteration 68, loss = 0.22184595\n",
      "Iteration 69, loss = 0.21109547\n",
      "Iteration 70, loss = 0.18560659\n",
      "Iteration 71, loss = 0.18204225\n",
      "Iteration 72, loss = 0.16430383\n",
      "Iteration 73, loss = 0.16444738\n",
      "Iteration 74, loss = 0.16720847\n",
      "Iteration 75, loss = 0.16716367\n",
      "Iteration 76, loss = 0.19009033\n",
      "Iteration 77, loss = 0.16207603\n",
      "Iteration 78, loss = 0.13925806\n",
      "Iteration 79, loss = 0.14757299\n",
      "Iteration 80, loss = 0.14429548\n",
      "Iteration 81, loss = 0.12733253\n",
      "Iteration 82, loss = 0.12353589\n",
      "Iteration 83, loss = 0.14927316\n",
      "Iteration 84, loss = 0.11131870\n",
      "Iteration 85, loss = 0.10524475\n",
      "Iteration 86, loss = 0.11202251\n",
      "Iteration 87, loss = 0.11427972\n",
      "Iteration 88, loss = 0.12122527\n",
      "Iteration 89, loss = 0.09022853\n",
      "Iteration 90, loss = 0.12601887\n",
      "Iteration 91, loss = 0.15964837\n",
      "Iteration 92, loss = 0.20819220\n",
      "Iteration 93, loss = 0.14311318\n",
      "Iteration 94, loss = 0.20424966\n",
      "Iteration 95, loss = 0.13603081\n",
      "Iteration 96, loss = 0.12609473\n",
      "Iteration 97, loss = 0.18306771\n",
      "Iteration 98, loss = 0.13696879\n",
      "Iteration 99, loss = 0.14592498\n",
      "Iteration 100, loss = 0.10313355\n",
      "Training loss did not improve more than tol=0.000100 for 10 consecutive epochs. Stopping.\n"
     ]
    },
    {
     "data": {
      "image/png": "[encoded data removed]",
      "text/plain": [
       "<Figure size 576x396 with 1 Axes>"
      ]
     },
     "metadata": {},
     "output_type": "display_data"
    },
    {
     "data": {
      "text/plain": [
       "<matplotlib.axes._subplots.AxesSubplot at 0x7fdd64ade2d0>"
      ]
     },
     "execution_count": 608,
     "metadata": {},
     "output_type": "execute_result"
    }
   ],
   "source": [
    "mlp_visualizer = PrecisionRecallCurve(clf,classes=['Happy','Sad','Fear','Angry'])\n",
    "mlp_visualizer.fit(x_train,y_train)\n",
    "mlp_visualizer.score(x_test,y_test)\n",
    "mlp_visualizer.show()"
   ]
  },
  {
   "cell_type": "markdown",
   "metadata": {
    "id": "jp9mYDYTqv46"
   },
   "source": [
    "The ROC and PRC scores for the models are as follows:\n",
    "\n",
    "<table width=\"200\" height=\"150\">\n",
    "  <thead>\n",
    "    <tr>\n",
    "      <th>Model</th>\n",
    "      <th>ROC</th>\n",
    "      <th>PRC</th>\n",
    "    </tr>\n",
    "  </thead>\n",
    "  <tbody>\n",
    "    <tr>\n",
    "      <td>KNN</td>\n",
    "      <td>0.85</td>\n",
    "      <td>0.68</td>\n",
    "    </tr>\n",
    "    <tr>\n",
    "      <td>RF</td>\n",
    "      <td>0.89</td>\n",
    "      <td>0.77</td>\n",
    "    </tr>\n",
    "    <tr>\n",
    "      <td>MLP</td>\n",
    "      <td>0.87</td>\n",
    "      <td>0.70</td>\n",
    "    </tr>\n",
    "    <tr>\n",
    "      <td>SVM</td>\n",
    "      <td>0.83</td>\n",
    "      <td>0.68</td>\n",
    "    </tr>\n",
    "  </tbody>\n",
    "</table>\n",
    "\n",
    "\n"
   ]
  },
  {
   "cell_type": "markdown",
   "metadata": {
    "id": "QAP4o8sHoW_u"
   },
   "source": [
    "From the above evaluations, it can be seen that the KNN model and the Random Forest model performed better than the SVM and MLP model for the training and test data set."
   ]
  },
  {
   "cell_type": "markdown",
   "metadata": {
    "id": "2ZCQuJz7ou4j"
   },
   "source": [
    "Finetuning the MLP model can result in much better accuracy with the help of large data sets."
   ]
  },
  {
   "cell_type": "markdown",
   "metadata": {
    "id": "vPntoo7Mo17t"
   },
   "source": [
    "This project sets ground work for future research in the field of emotion classification with tele-operated robots which will be very useful in the field of surgeries and military operations.\n",
    "\n",
    "With the information of emotion, the security aspects of using robots in this field can also be increased like, the robot can be trained to stop functioning, when negative emotions such as anger or fear are being conveyed by the human operator. This is very vital in the field of surgies and bomb disposals."
   ]
  }
 ],
 "metadata": {
  "colab": {
   "collapsed_sections": [],
   "provenance": []
  },
  "kernelspec": {
   "display_name": "Python 3",
   "language": "python",
   "name": "python3"
  },
  "language_info": {
   "codemirror_mode": {
    "name": "ipython",
    "version": 3
   },
   "file_extension": ".py",
   "mimetype": "text/x-python",
   "name": "python",
   "nbconvert_exporter": "python",
   "pygments_lexer": "ipython3",
   "version": "3.8.8"
  }
 },
 "nbformat": 4,
 "nbformat_minor": 1
}
